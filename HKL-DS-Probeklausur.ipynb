{
 "cells": [
  {
   "cell_type": "markdown",
   "metadata": {
    "pycharm": {
     "name": "#%% md\n"
    }
   },
   "source": [
    "# Klausur \"Einführung in Data Science\"\n",
    "### FH Aachen - University of Applied Sciences\n",
    "\n",
    "Professor Dr. Stephan Bialonski"
   ]
  },
  {
   "cell_type": "markdown",
   "metadata": {
    "pycharm": {
     "name": "#%% md\n"
    }
   },
   "source": [
    "## Name und Matrikelnummer\n",
    "\n",
    "- Ihr Vor- und Nachname: Daniel Hillebrand\n",
    "- Ihre Matrikelnummer: 3231809"
   ]
  },
  {
   "cell_type": "markdown",
   "metadata": {
    "pycharm": {
     "name": "#%% md\n"
    }
   },
   "source": [
    "Beachten Sie: Die Weitergabe dieser Probeklausur an Dritte ist untersagt."
   ]
  },
  {
   "cell_type": "markdown",
   "metadata": {
    "pycharm": {
     "name": "#%% md\n"
    }
   },
   "source": [
    "## Klausurbearbeitung. Dies müssen Sie tun:\n",
    "\n"
   ]
  },
  {
   "cell_type": "markdown",
   "metadata": {
    "pycharm": {
     "name": "#%% md\n"
    }
   },
   "source": [
    "1. **Namen und Matrikelnummer eintragen.** Tragen Sie oben Ihren Namen sowie Ihre Matrikelnummer ein, indem Sie die Platzhalter \"(bitte ausfüllen)\" mit Ihren Angaben ersetzen.\n",
    "\n",
    "2. **Erklärung zur Online Prüfung ausfüllen.** In der echten Klausur müssen Sie eine ausgefüllte Erklärung zur Online Prüfung bereithalten und zusammen mit Ihrer Klausur nach der Bearbeitung einreichen. Sie bearbeiten hier eine Probeklausur und müssen daher das Formular **nicht einreichen**. Es ist sinnvoll, dieses Formular schon vor Prüfungsbeginn ausgefüllt zu haben und bereit zu stellen. Hier finden Sie das [Formular](https://data.bialonski.de/ds/Erklaerung_Online_Pruefung.pdf) \"Erklärung zur Online Prüfung\" zum Download.\n",
    "\n",
    "3. **Notebook umbenennen.** Benennen Sie dieses Jupyter Notebook nach folgendem Schema um: `Nachname-Vorname-Matrikelnummer`, wobei Sie für die Platzhalter entsprechend Ihren Namen und Ihre Matrikelnummer eintragen. Sie können das Notebook umbenennen, indem Sie auf `File>Rename` klicken und dann den neuen Namen des Jupyter Notebooks eintragen, oder indem Sie oben auf den alten Namen dieses Notebooks klicken und dort den neuen Namen eintragen. Speichern Sie Ihr Notebook nach der Umbenennung (Shortkey `Strg+s` oder auf das Speichern-Symbol (Diskette) oben klicken).\n",
    "\n",
    "4. **Bei Discord online gehen.** Sie müssen während der gesamten Klausurbearbeitung bei Discord erreichbar und ansprechbar sein und Ihren Bildschirm, auf Auffordern, teilen können. Daneben können Sie im \"Klausur-Kanal\" bei Discord die Tutoren oder den Dozenten zu sich rufen, um im Zweiergespräch Fragen zu klären. Schreiben Sie dazu bei Discord: \"@Tutor Bitte bei mir vorbeischauen.\".\n",
    "\n",
    "5. **Klausur bearbeiten.** *Die Bearbeitungszeit beträgt 75 Minuten.* Achten Sie auf die Bearbeitungszeit und stellen Sie sich ggf. einen Countdown-Timer oder Wecker. **Planen Sie für die Klausurabgabe 5 Minuten Zeit ein. Die Klausurabgabe beginnt nach Ende der Bearbeitungszeit.** Sie finden direkt unter diesem Satz eine Anleitung (\"Klausurabgabe. Das müssen Sie tun.\"), wie Sie Ihre Klausur abgeben werden."
   ]
  },
  {
   "cell_type": "markdown",
   "metadata": {
    "pycharm": {
     "name": "#%% md\n"
    }
   },
   "source": [
    "## Klausurabgabe. Dies müssen Sie tun:"
   ]
  },
  {
   "cell_type": "markdown",
   "metadata": {
    "pycharm": {
     "name": "#%% md\n"
    }
   },
   "source": [
    "1. **Bearbeitungen abspeichern.** Das Wichtigste zuerst: Speichern Sie Ihre Bearbeitungen (Shortkey `Strg+s` oder auf das Speichern-Symbol (Diskette) klicken).\n",
    "\n",
    "2. **Jupyter Notebook Datei abspeichern.** Speichern Sie Ihre Jupyter Notebook als Datei (im Folgenden \"Klausur\" genannt) lokal auf Ihrem Rechner ab. (`File > Download as > Notebook (.ipynb)`).\n",
    "\n",
    "3. **Sie haben eine Probeklausur bearbeitet. Daher geben Sie Ihre Klausur jetzt nicht ab.** Die Probeklausur wird im Verlauf der Veranstaltung innerhalb Ihrer Teams besprochen. Jedes Team erstellt eine finale Klausurversion, die sie mitsamt der erarbeiteten Übungen wie üblich als Übungsabgabe einreicht. In der echten Klausur würden Sie Ihre Klausur direkt bei ILIAS einreichen - zusammen mit Ihrem ausgefüllten Formular \"Erklärungen zur Online Prüfung.\"\n",
    "\n"
   ]
  },
  {
   "cell_type": "markdown",
   "metadata": {
    "pycharm": {
     "name": "#%% md\n"
    }
   },
   "source": [
    "## Klausuraufgaben"
   ]
  },
  {
   "cell_type": "markdown",
   "metadata": {
    "pycharm": {
     "name": "#%% md\n"
    }
   },
   "source": [
    "### Hinweise\n",
    "\n",
    "(1) **Überblick verschaffen.** Wieviele Punkte können Sie bei welchen Aufgaben erzielen?\n",
    "\n",
    "(2) **Fragen während der Klausur?** Sprechen Sie bei Discord die Tutoren bzw. den Dozenten an. Wir kommen zu Ihnen und klären Ihre Fragen im Zweiergespräch bei Discord.\n",
    "\n",
    "(3) **Sie müssen die Klausur persönlich und ohne fremde Hilfe bearbeiten.**\n",
    "\n",
    "(4) **Dies ist eine Remote-Kofferklausur**. Sie dürfen erlaubte Hilfsmittel nutzen.\n",
    "\n",
    "(5) Führen Sie die unten stehende Codezelle aus, um die Größe der von Ihnen zu erstellenden Abbildungen zu konfigurieren."
   ]
  },
  {
   "cell_type": "code",
   "execution_count": 35,
   "metadata": {
    "pycharm": {
     "name": "#%%\n"
    }
   },
   "outputs": [],
   "source": [
    "import matplotlib.pyplot as plt\n",
    "%matplotlib inline\n",
    "plt.rcParams[\"figure.figsize\"] = [10, 7]"
   ]
  },
  {
   "cell_type": "markdown",
   "metadata": {
    "pycharm": {
     "name": "#%% md\n"
    }
   },
   "source": [
    "### Aufgabe: Corona-Pandemie\n",
    "\n",
    "#### <span style=\"color:red\">Erreichbare Punktzahl: 40</span>\n",
    "\n",
    "Im Frühjahr 2020 begann sich das neuartiges Coronavirus SARS-CoV-2, welches die Lungenerkrankung Covid-19 verursachen kann, in Deutschland und Europa schlagartig zu verbreiten. In dieser Aufgabe analysieren und visualisieren Sie das Infektionsgeschehen in Deutschland.\n",
    "\n",
    "**Ihre Daten**\n",
    "\n",
    "Ein vereinfachter Datensatz des Robert Koch Instituts (RKI) steht Ihnen in dieser Aufgabe zur Verfügung.\n",
    "\n",
    "**Ihre Aufgaben**\n",
    "\n",
    "(1) Führen Sie zunächst die unten stehende Code-Zelle aus, um den Datensatz und die Pandas-Bibliothek verfügbar zu machen."
   ]
  },
  {
   "cell_type": "code",
   "execution_count": 36,
   "metadata": {
    "pycharm": {
     "name": "#%%\n"
    }
   },
   "outputs": [],
   "source": [
    "import pandas as pd\n",
    "\n",
    "# Daten des Robert Koch Instituts\n",
    "RKI_data_simplified = 'https://data.bialonski.de/ds/kUdBuPrXjvr5d64OEy3UN82VKz646KLj2tuZFTFZ.csv'"
   ]
  },
  {
   "cell_type": "code",
   "execution_count": 37,
   "metadata": {
    "pycharm": {
     "name": "#%%\n"
    }
   },
   "outputs": [],
   "source": [
    "import ssl\n",
    "ssl._create_default_https_context = ssl._create_unverified_context"
   ]
  },
  {
   "cell_type": "markdown",
   "metadata": {
    "pycharm": {
     "name": "#%% md\n"
    }
   },
   "source": [
    "(2) Importieren Sie mithilfe von Pandas den Datensatz in einen DataFrame, den Sie `df_covid` nennen. Nutzen Sie dazu die Variable `RKI_data_simplified`.<span style=\"color:red;font-weight:bold\">\\[ /2\\] Punkte</span>"
   ]
  },
  {
   "cell_type": "code",
   "execution_count": 38,
   "metadata": {
    "pycharm": {
     "name": "#%%\n"
    }
   },
   "outputs": [
    {
     "data": {
      "text/html": [
       "<div>\n",
       "<style scoped>\n",
       "    .dataframe tbody tr th:only-of-type {\n",
       "        vertical-align: middle;\n",
       "    }\n",
       "\n",
       "    .dataframe tbody tr th {\n",
       "        vertical-align: top;\n",
       "    }\n",
       "\n",
       "    .dataframe thead th {\n",
       "        text-align: right;\n",
       "    }\n",
       "</style>\n",
       "<table border=\"1\" class=\"dataframe\">\n",
       "  <thead>\n",
       "    <tr style=\"text-align: right;\">\n",
       "      <th></th>\n",
       "      <th>Meldedatum</th>\n",
       "      <th>Deutschland</th>\n",
       "      <th>Schleswig-Holstein</th>\n",
       "      <th>Hamburg</th>\n",
       "      <th>Niedersachsen</th>\n",
       "      <th>Bremen</th>\n",
       "      <th>Nordrhein-Westfalen</th>\n",
       "      <th>Hessen</th>\n",
       "      <th>Rheinland-Pfalz</th>\n",
       "      <th>Baden-Württemberg</th>\n",
       "      <th>Bayern</th>\n",
       "      <th>Saarland</th>\n",
       "      <th>Berlin</th>\n",
       "      <th>Brandenburg</th>\n",
       "      <th>Mecklenburg-Vorpommern</th>\n",
       "      <th>Sachsen</th>\n",
       "      <th>Sachsen-Anhalt</th>\n",
       "      <th>Thüringen</th>\n",
       "    </tr>\n",
       "  </thead>\n",
       "  <tbody>\n",
       "    <tr>\n",
       "      <th>0</th>\n",
       "      <td>2020-01-28</td>\n",
       "      <td>2</td>\n",
       "      <td>NaN</td>\n",
       "      <td>NaN</td>\n",
       "      <td>NaN</td>\n",
       "      <td>NaN</td>\n",
       "      <td>NaN</td>\n",
       "      <td>NaN</td>\n",
       "      <td>NaN</td>\n",
       "      <td>NaN</td>\n",
       "      <td>2.0</td>\n",
       "      <td>NaN</td>\n",
       "      <td>NaN</td>\n",
       "      <td>NaN</td>\n",
       "      <td>NaN</td>\n",
       "      <td>NaN</td>\n",
       "      <td>NaN</td>\n",
       "      <td>NaN</td>\n",
       "    </tr>\n",
       "    <tr>\n",
       "      <th>1</th>\n",
       "      <td>2020-01-29</td>\n",
       "      <td>2</td>\n",
       "      <td>NaN</td>\n",
       "      <td>NaN</td>\n",
       "      <td>NaN</td>\n",
       "      <td>NaN</td>\n",
       "      <td>NaN</td>\n",
       "      <td>NaN</td>\n",
       "      <td>NaN</td>\n",
       "      <td>NaN</td>\n",
       "      <td>2.0</td>\n",
       "      <td>NaN</td>\n",
       "      <td>NaN</td>\n",
       "      <td>NaN</td>\n",
       "      <td>NaN</td>\n",
       "      <td>NaN</td>\n",
       "      <td>NaN</td>\n",
       "      <td>NaN</td>\n",
       "    </tr>\n",
       "    <tr>\n",
       "      <th>2</th>\n",
       "      <td>2020-01-31</td>\n",
       "      <td>3</td>\n",
       "      <td>NaN</td>\n",
       "      <td>NaN</td>\n",
       "      <td>NaN</td>\n",
       "      <td>NaN</td>\n",
       "      <td>NaN</td>\n",
       "      <td>NaN</td>\n",
       "      <td>NaN</td>\n",
       "      <td>NaN</td>\n",
       "      <td>3.0</td>\n",
       "      <td>NaN</td>\n",
       "      <td>NaN</td>\n",
       "      <td>NaN</td>\n",
       "      <td>NaN</td>\n",
       "      <td>NaN</td>\n",
       "      <td>NaN</td>\n",
       "      <td>NaN</td>\n",
       "    </tr>\n",
       "    <tr>\n",
       "      <th>3</th>\n",
       "      <td>2020-02-03</td>\n",
       "      <td>1</td>\n",
       "      <td>NaN</td>\n",
       "      <td>NaN</td>\n",
       "      <td>NaN</td>\n",
       "      <td>NaN</td>\n",
       "      <td>NaN</td>\n",
       "      <td>NaN</td>\n",
       "      <td>NaN</td>\n",
       "      <td>NaN</td>\n",
       "      <td>1.0</td>\n",
       "      <td>NaN</td>\n",
       "      <td>NaN</td>\n",
       "      <td>NaN</td>\n",
       "      <td>NaN</td>\n",
       "      <td>NaN</td>\n",
       "      <td>NaN</td>\n",
       "      <td>NaN</td>\n",
       "    </tr>\n",
       "    <tr>\n",
       "      <th>4</th>\n",
       "      <td>2020-02-04</td>\n",
       "      <td>4</td>\n",
       "      <td>NaN</td>\n",
       "      <td>NaN</td>\n",
       "      <td>1.0</td>\n",
       "      <td>NaN</td>\n",
       "      <td>NaN</td>\n",
       "      <td>NaN</td>\n",
       "      <td>NaN</td>\n",
       "      <td>NaN</td>\n",
       "      <td>3.0</td>\n",
       "      <td>NaN</td>\n",
       "      <td>NaN</td>\n",
       "      <td>NaN</td>\n",
       "      <td>NaN</td>\n",
       "      <td>NaN</td>\n",
       "      <td>NaN</td>\n",
       "      <td>NaN</td>\n",
       "    </tr>\n",
       "    <tr>\n",
       "      <th>...</th>\n",
       "      <td>...</td>\n",
       "      <td>...</td>\n",
       "      <td>...</td>\n",
       "      <td>...</td>\n",
       "      <td>...</td>\n",
       "      <td>...</td>\n",
       "      <td>...</td>\n",
       "      <td>...</td>\n",
       "      <td>...</td>\n",
       "      <td>...</td>\n",
       "      <td>...</td>\n",
       "      <td>...</td>\n",
       "      <td>...</td>\n",
       "      <td>...</td>\n",
       "      <td>...</td>\n",
       "      <td>...</td>\n",
       "      <td>...</td>\n",
       "      <td>...</td>\n",
       "    </tr>\n",
       "    <tr>\n",
       "      <th>139</th>\n",
       "      <td>2020-07-01</td>\n",
       "      <td>467</td>\n",
       "      <td>12.0</td>\n",
       "      <td>9.0</td>\n",
       "      <td>25.0</td>\n",
       "      <td>4.0</td>\n",
       "      <td>176.0</td>\n",
       "      <td>49.0</td>\n",
       "      <td>30.0</td>\n",
       "      <td>42.0</td>\n",
       "      <td>61.0</td>\n",
       "      <td>1.0</td>\n",
       "      <td>47.0</td>\n",
       "      <td>8.0</td>\n",
       "      <td>NaN</td>\n",
       "      <td>1.0</td>\n",
       "      <td>1.0</td>\n",
       "      <td>1.0</td>\n",
       "    </tr>\n",
       "    <tr>\n",
       "      <th>140</th>\n",
       "      <td>2020-07-02</td>\n",
       "      <td>454</td>\n",
       "      <td>5.0</td>\n",
       "      <td>2.0</td>\n",
       "      <td>22.0</td>\n",
       "      <td>4.0</td>\n",
       "      <td>205.0</td>\n",
       "      <td>29.0</td>\n",
       "      <td>8.0</td>\n",
       "      <td>30.0</td>\n",
       "      <td>64.0</td>\n",
       "      <td>1.0</td>\n",
       "      <td>57.0</td>\n",
       "      <td>8.0</td>\n",
       "      <td>1.0</td>\n",
       "      <td>4.0</td>\n",
       "      <td>4.0</td>\n",
       "      <td>10.0</td>\n",
       "    </tr>\n",
       "    <tr>\n",
       "      <th>141</th>\n",
       "      <td>2020-07-03</td>\n",
       "      <td>371</td>\n",
       "      <td>2.0</td>\n",
       "      <td>2.0</td>\n",
       "      <td>30.0</td>\n",
       "      <td>NaN</td>\n",
       "      <td>167.0</td>\n",
       "      <td>31.0</td>\n",
       "      <td>6.0</td>\n",
       "      <td>12.0</td>\n",
       "      <td>74.0</td>\n",
       "      <td>NaN</td>\n",
       "      <td>41.0</td>\n",
       "      <td>2.0</td>\n",
       "      <td>NaN</td>\n",
       "      <td>1.0</td>\n",
       "      <td>3.0</td>\n",
       "      <td>NaN</td>\n",
       "    </tr>\n",
       "    <tr>\n",
       "      <th>142</th>\n",
       "      <td>2020-07-04</td>\n",
       "      <td>229</td>\n",
       "      <td>2.0</td>\n",
       "      <td>NaN</td>\n",
       "      <td>NaN</td>\n",
       "      <td>3.0</td>\n",
       "      <td>127.0</td>\n",
       "      <td>16.0</td>\n",
       "      <td>2.0</td>\n",
       "      <td>NaN</td>\n",
       "      <td>43.0</td>\n",
       "      <td>1.0</td>\n",
       "      <td>29.0</td>\n",
       "      <td>3.0</td>\n",
       "      <td>NaN</td>\n",
       "      <td>NaN</td>\n",
       "      <td>NaN</td>\n",
       "      <td>3.0</td>\n",
       "    </tr>\n",
       "    <tr>\n",
       "      <th>143</th>\n",
       "      <td>2020-07-05</td>\n",
       "      <td>75</td>\n",
       "      <td>6.0</td>\n",
       "      <td>NaN</td>\n",
       "      <td>NaN</td>\n",
       "      <td>1.0</td>\n",
       "      <td>52.0</td>\n",
       "      <td>7.0</td>\n",
       "      <td>NaN</td>\n",
       "      <td>NaN</td>\n",
       "      <td>NaN</td>\n",
       "      <td>NaN</td>\n",
       "      <td>1.0</td>\n",
       "      <td>NaN</td>\n",
       "      <td>NaN</td>\n",
       "      <td>NaN</td>\n",
       "      <td>6.0</td>\n",
       "      <td>2.0</td>\n",
       "    </tr>\n",
       "  </tbody>\n",
       "</table>\n",
       "<p>144 rows × 18 columns</p>\n",
       "</div>"
      ],
      "text/plain": [
       "     Meldedatum  Deutschland  Schleswig-Holstein  Hamburg  Niedersachsen  \\\n",
       "0    2020-01-28            2                 NaN      NaN            NaN   \n",
       "1    2020-01-29            2                 NaN      NaN            NaN   \n",
       "2    2020-01-31            3                 NaN      NaN            NaN   \n",
       "3    2020-02-03            1                 NaN      NaN            NaN   \n",
       "4    2020-02-04            4                 NaN      NaN            1.0   \n",
       "..          ...          ...                 ...      ...            ...   \n",
       "139  2020-07-01          467                12.0      9.0           25.0   \n",
       "140  2020-07-02          454                 5.0      2.0           22.0   \n",
       "141  2020-07-03          371                 2.0      2.0           30.0   \n",
       "142  2020-07-04          229                 2.0      NaN            NaN   \n",
       "143  2020-07-05           75                 6.0      NaN            NaN   \n",
       "\n",
       "     Bremen  Nordrhein-Westfalen  Hessen  Rheinland-Pfalz  Baden-Württemberg  \\\n",
       "0       NaN                  NaN     NaN              NaN                NaN   \n",
       "1       NaN                  NaN     NaN              NaN                NaN   \n",
       "2       NaN                  NaN     NaN              NaN                NaN   \n",
       "3       NaN                  NaN     NaN              NaN                NaN   \n",
       "4       NaN                  NaN     NaN              NaN                NaN   \n",
       "..      ...                  ...     ...              ...                ...   \n",
       "139     4.0                176.0    49.0             30.0               42.0   \n",
       "140     4.0                205.0    29.0              8.0               30.0   \n",
       "141     NaN                167.0    31.0              6.0               12.0   \n",
       "142     3.0                127.0    16.0              2.0                NaN   \n",
       "143     1.0                 52.0     7.0              NaN                NaN   \n",
       "\n",
       "     Bayern  Saarland  Berlin  Brandenburg  Mecklenburg-Vorpommern  Sachsen  \\\n",
       "0       2.0       NaN     NaN          NaN                     NaN      NaN   \n",
       "1       2.0       NaN     NaN          NaN                     NaN      NaN   \n",
       "2       3.0       NaN     NaN          NaN                     NaN      NaN   \n",
       "3       1.0       NaN     NaN          NaN                     NaN      NaN   \n",
       "4       3.0       NaN     NaN          NaN                     NaN      NaN   \n",
       "..      ...       ...     ...          ...                     ...      ...   \n",
       "139    61.0       1.0    47.0          8.0                     NaN      1.0   \n",
       "140    64.0       1.0    57.0          8.0                     1.0      4.0   \n",
       "141    74.0       NaN    41.0          2.0                     NaN      1.0   \n",
       "142    43.0       1.0    29.0          3.0                     NaN      NaN   \n",
       "143     NaN       NaN     1.0          NaN                     NaN      NaN   \n",
       "\n",
       "     Sachsen-Anhalt  Thüringen  \n",
       "0               NaN        NaN  \n",
       "1               NaN        NaN  \n",
       "2               NaN        NaN  \n",
       "3               NaN        NaN  \n",
       "4               NaN        NaN  \n",
       "..              ...        ...  \n",
       "139             1.0        1.0  \n",
       "140             4.0       10.0  \n",
       "141             3.0        NaN  \n",
       "142             NaN        3.0  \n",
       "143             6.0        2.0  \n",
       "\n",
       "[144 rows x 18 columns]"
      ]
     },
     "execution_count": 38,
     "metadata": {},
     "output_type": "execute_result"
    }
   ],
   "source": [
    "# Ihr Code\n",
    "df_covid: pd.DataFrame = pd.read_csv(RKI_data_simplified)\n",
    "df_covid"
   ]
  },
  {
   "cell_type": "markdown",
   "metadata": {
    "pycharm": {
     "name": "#%% md\n"
    }
   },
   "source": [
    "(3) Der DataFrame, den Sie erhalten haben, enthält die Anzahl neu infizierter Personen für `Deutschland` sowie aufgelistet nach Bundesland, die zu einem Zeitpunkt (`Meldedatum`) gemeldet wurden. <span style=\"color:red;font-weight:bold\">\\[ /4\\] Punkte</span>\n",
    "\n",
    "* Wandeln Sie die Spalte `Meldedatum` in einen *datetime* Typen um. Sie können die Pandas Funktion `to_datetime` dafür nutzen. (2 Punkte)\n",
    "\n",
    "* Machen Sie anschließend `Meldedatum` zum Index Ihres DataFrames. Sie können die Pandas Funktion `set_index` dafür nutzen. (2 Punkte)"
   ]
  },
  {
   "cell_type": "code",
   "execution_count": 39,
   "metadata": {
    "pycharm": {
     "name": "#%%\n"
    }
   },
   "outputs": [
    {
     "data": {
      "text/html": [
       "<div>\n",
       "<style scoped>\n",
       "    .dataframe tbody tr th:only-of-type {\n",
       "        vertical-align: middle;\n",
       "    }\n",
       "\n",
       "    .dataframe tbody tr th {\n",
       "        vertical-align: top;\n",
       "    }\n",
       "\n",
       "    .dataframe thead th {\n",
       "        text-align: right;\n",
       "    }\n",
       "</style>\n",
       "<table border=\"1\" class=\"dataframe\">\n",
       "  <thead>\n",
       "    <tr style=\"text-align: right;\">\n",
       "      <th></th>\n",
       "      <th>Deutschland</th>\n",
       "      <th>Schleswig-Holstein</th>\n",
       "      <th>Hamburg</th>\n",
       "      <th>Niedersachsen</th>\n",
       "      <th>Bremen</th>\n",
       "      <th>Nordrhein-Westfalen</th>\n",
       "      <th>Hessen</th>\n",
       "      <th>Rheinland-Pfalz</th>\n",
       "      <th>Baden-Württemberg</th>\n",
       "      <th>Bayern</th>\n",
       "      <th>Saarland</th>\n",
       "      <th>Berlin</th>\n",
       "      <th>Brandenburg</th>\n",
       "      <th>Mecklenburg-Vorpommern</th>\n",
       "      <th>Sachsen</th>\n",
       "      <th>Sachsen-Anhalt</th>\n",
       "      <th>Thüringen</th>\n",
       "    </tr>\n",
       "    <tr>\n",
       "      <th>Meldedatum</th>\n",
       "      <th></th>\n",
       "      <th></th>\n",
       "      <th></th>\n",
       "      <th></th>\n",
       "      <th></th>\n",
       "      <th></th>\n",
       "      <th></th>\n",
       "      <th></th>\n",
       "      <th></th>\n",
       "      <th></th>\n",
       "      <th></th>\n",
       "      <th></th>\n",
       "      <th></th>\n",
       "      <th></th>\n",
       "      <th></th>\n",
       "      <th></th>\n",
       "      <th></th>\n",
       "    </tr>\n",
       "  </thead>\n",
       "  <tbody>\n",
       "    <tr>\n",
       "      <th>2020-01-28</th>\n",
       "      <td>2</td>\n",
       "      <td>NaN</td>\n",
       "      <td>NaN</td>\n",
       "      <td>NaN</td>\n",
       "      <td>NaN</td>\n",
       "      <td>NaN</td>\n",
       "      <td>NaN</td>\n",
       "      <td>NaN</td>\n",
       "      <td>NaN</td>\n",
       "      <td>2.0</td>\n",
       "      <td>NaN</td>\n",
       "      <td>NaN</td>\n",
       "      <td>NaN</td>\n",
       "      <td>NaN</td>\n",
       "      <td>NaN</td>\n",
       "      <td>NaN</td>\n",
       "      <td>NaN</td>\n",
       "    </tr>\n",
       "    <tr>\n",
       "      <th>2020-01-29</th>\n",
       "      <td>2</td>\n",
       "      <td>NaN</td>\n",
       "      <td>NaN</td>\n",
       "      <td>NaN</td>\n",
       "      <td>NaN</td>\n",
       "      <td>NaN</td>\n",
       "      <td>NaN</td>\n",
       "      <td>NaN</td>\n",
       "      <td>NaN</td>\n",
       "      <td>2.0</td>\n",
       "      <td>NaN</td>\n",
       "      <td>NaN</td>\n",
       "      <td>NaN</td>\n",
       "      <td>NaN</td>\n",
       "      <td>NaN</td>\n",
       "      <td>NaN</td>\n",
       "      <td>NaN</td>\n",
       "    </tr>\n",
       "    <tr>\n",
       "      <th>2020-01-31</th>\n",
       "      <td>3</td>\n",
       "      <td>NaN</td>\n",
       "      <td>NaN</td>\n",
       "      <td>NaN</td>\n",
       "      <td>NaN</td>\n",
       "      <td>NaN</td>\n",
       "      <td>NaN</td>\n",
       "      <td>NaN</td>\n",
       "      <td>NaN</td>\n",
       "      <td>3.0</td>\n",
       "      <td>NaN</td>\n",
       "      <td>NaN</td>\n",
       "      <td>NaN</td>\n",
       "      <td>NaN</td>\n",
       "      <td>NaN</td>\n",
       "      <td>NaN</td>\n",
       "      <td>NaN</td>\n",
       "    </tr>\n",
       "    <tr>\n",
       "      <th>2020-02-03</th>\n",
       "      <td>1</td>\n",
       "      <td>NaN</td>\n",
       "      <td>NaN</td>\n",
       "      <td>NaN</td>\n",
       "      <td>NaN</td>\n",
       "      <td>NaN</td>\n",
       "      <td>NaN</td>\n",
       "      <td>NaN</td>\n",
       "      <td>NaN</td>\n",
       "      <td>1.0</td>\n",
       "      <td>NaN</td>\n",
       "      <td>NaN</td>\n",
       "      <td>NaN</td>\n",
       "      <td>NaN</td>\n",
       "      <td>NaN</td>\n",
       "      <td>NaN</td>\n",
       "      <td>NaN</td>\n",
       "    </tr>\n",
       "    <tr>\n",
       "      <th>2020-02-04</th>\n",
       "      <td>4</td>\n",
       "      <td>NaN</td>\n",
       "      <td>NaN</td>\n",
       "      <td>1.0</td>\n",
       "      <td>NaN</td>\n",
       "      <td>NaN</td>\n",
       "      <td>NaN</td>\n",
       "      <td>NaN</td>\n",
       "      <td>NaN</td>\n",
       "      <td>3.0</td>\n",
       "      <td>NaN</td>\n",
       "      <td>NaN</td>\n",
       "      <td>NaN</td>\n",
       "      <td>NaN</td>\n",
       "      <td>NaN</td>\n",
       "      <td>NaN</td>\n",
       "      <td>NaN</td>\n",
       "    </tr>\n",
       "    <tr>\n",
       "      <th>...</th>\n",
       "      <td>...</td>\n",
       "      <td>...</td>\n",
       "      <td>...</td>\n",
       "      <td>...</td>\n",
       "      <td>...</td>\n",
       "      <td>...</td>\n",
       "      <td>...</td>\n",
       "      <td>...</td>\n",
       "      <td>...</td>\n",
       "      <td>...</td>\n",
       "      <td>...</td>\n",
       "      <td>...</td>\n",
       "      <td>...</td>\n",
       "      <td>...</td>\n",
       "      <td>...</td>\n",
       "      <td>...</td>\n",
       "      <td>...</td>\n",
       "    </tr>\n",
       "    <tr>\n",
       "      <th>2020-07-01</th>\n",
       "      <td>467</td>\n",
       "      <td>12.0</td>\n",
       "      <td>9.0</td>\n",
       "      <td>25.0</td>\n",
       "      <td>4.0</td>\n",
       "      <td>176.0</td>\n",
       "      <td>49.0</td>\n",
       "      <td>30.0</td>\n",
       "      <td>42.0</td>\n",
       "      <td>61.0</td>\n",
       "      <td>1.0</td>\n",
       "      <td>47.0</td>\n",
       "      <td>8.0</td>\n",
       "      <td>NaN</td>\n",
       "      <td>1.0</td>\n",
       "      <td>1.0</td>\n",
       "      <td>1.0</td>\n",
       "    </tr>\n",
       "    <tr>\n",
       "      <th>2020-07-02</th>\n",
       "      <td>454</td>\n",
       "      <td>5.0</td>\n",
       "      <td>2.0</td>\n",
       "      <td>22.0</td>\n",
       "      <td>4.0</td>\n",
       "      <td>205.0</td>\n",
       "      <td>29.0</td>\n",
       "      <td>8.0</td>\n",
       "      <td>30.0</td>\n",
       "      <td>64.0</td>\n",
       "      <td>1.0</td>\n",
       "      <td>57.0</td>\n",
       "      <td>8.0</td>\n",
       "      <td>1.0</td>\n",
       "      <td>4.0</td>\n",
       "      <td>4.0</td>\n",
       "      <td>10.0</td>\n",
       "    </tr>\n",
       "    <tr>\n",
       "      <th>2020-07-03</th>\n",
       "      <td>371</td>\n",
       "      <td>2.0</td>\n",
       "      <td>2.0</td>\n",
       "      <td>30.0</td>\n",
       "      <td>NaN</td>\n",
       "      <td>167.0</td>\n",
       "      <td>31.0</td>\n",
       "      <td>6.0</td>\n",
       "      <td>12.0</td>\n",
       "      <td>74.0</td>\n",
       "      <td>NaN</td>\n",
       "      <td>41.0</td>\n",
       "      <td>2.0</td>\n",
       "      <td>NaN</td>\n",
       "      <td>1.0</td>\n",
       "      <td>3.0</td>\n",
       "      <td>NaN</td>\n",
       "    </tr>\n",
       "    <tr>\n",
       "      <th>2020-07-04</th>\n",
       "      <td>229</td>\n",
       "      <td>2.0</td>\n",
       "      <td>NaN</td>\n",
       "      <td>NaN</td>\n",
       "      <td>3.0</td>\n",
       "      <td>127.0</td>\n",
       "      <td>16.0</td>\n",
       "      <td>2.0</td>\n",
       "      <td>NaN</td>\n",
       "      <td>43.0</td>\n",
       "      <td>1.0</td>\n",
       "      <td>29.0</td>\n",
       "      <td>3.0</td>\n",
       "      <td>NaN</td>\n",
       "      <td>NaN</td>\n",
       "      <td>NaN</td>\n",
       "      <td>3.0</td>\n",
       "    </tr>\n",
       "    <tr>\n",
       "      <th>2020-07-05</th>\n",
       "      <td>75</td>\n",
       "      <td>6.0</td>\n",
       "      <td>NaN</td>\n",
       "      <td>NaN</td>\n",
       "      <td>1.0</td>\n",
       "      <td>52.0</td>\n",
       "      <td>7.0</td>\n",
       "      <td>NaN</td>\n",
       "      <td>NaN</td>\n",
       "      <td>NaN</td>\n",
       "      <td>NaN</td>\n",
       "      <td>1.0</td>\n",
       "      <td>NaN</td>\n",
       "      <td>NaN</td>\n",
       "      <td>NaN</td>\n",
       "      <td>6.0</td>\n",
       "      <td>2.0</td>\n",
       "    </tr>\n",
       "  </tbody>\n",
       "</table>\n",
       "<p>144 rows × 17 columns</p>\n",
       "</div>"
      ],
      "text/plain": [
       "            Deutschland  Schleswig-Holstein  Hamburg  Niedersachsen  Bremen  \\\n",
       "Meldedatum                                                                    \n",
       "2020-01-28            2                 NaN      NaN            NaN     NaN   \n",
       "2020-01-29            2                 NaN      NaN            NaN     NaN   \n",
       "2020-01-31            3                 NaN      NaN            NaN     NaN   \n",
       "2020-02-03            1                 NaN      NaN            NaN     NaN   \n",
       "2020-02-04            4                 NaN      NaN            1.0     NaN   \n",
       "...                 ...                 ...      ...            ...     ...   \n",
       "2020-07-01          467                12.0      9.0           25.0     4.0   \n",
       "2020-07-02          454                 5.0      2.0           22.0     4.0   \n",
       "2020-07-03          371                 2.0      2.0           30.0     NaN   \n",
       "2020-07-04          229                 2.0      NaN            NaN     3.0   \n",
       "2020-07-05           75                 6.0      NaN            NaN     1.0   \n",
       "\n",
       "            Nordrhein-Westfalen  Hessen  Rheinland-Pfalz  Baden-Württemberg  \\\n",
       "Meldedatum                                                                    \n",
       "2020-01-28                  NaN     NaN              NaN                NaN   \n",
       "2020-01-29                  NaN     NaN              NaN                NaN   \n",
       "2020-01-31                  NaN     NaN              NaN                NaN   \n",
       "2020-02-03                  NaN     NaN              NaN                NaN   \n",
       "2020-02-04                  NaN     NaN              NaN                NaN   \n",
       "...                         ...     ...              ...                ...   \n",
       "2020-07-01                176.0    49.0             30.0               42.0   \n",
       "2020-07-02                205.0    29.0              8.0               30.0   \n",
       "2020-07-03                167.0    31.0              6.0               12.0   \n",
       "2020-07-04                127.0    16.0              2.0                NaN   \n",
       "2020-07-05                 52.0     7.0              NaN                NaN   \n",
       "\n",
       "            Bayern  Saarland  Berlin  Brandenburg  Mecklenburg-Vorpommern  \\\n",
       "Meldedatum                                                                  \n",
       "2020-01-28     2.0       NaN     NaN          NaN                     NaN   \n",
       "2020-01-29     2.0       NaN     NaN          NaN                     NaN   \n",
       "2020-01-31     3.0       NaN     NaN          NaN                     NaN   \n",
       "2020-02-03     1.0       NaN     NaN          NaN                     NaN   \n",
       "2020-02-04     3.0       NaN     NaN          NaN                     NaN   \n",
       "...            ...       ...     ...          ...                     ...   \n",
       "2020-07-01    61.0       1.0    47.0          8.0                     NaN   \n",
       "2020-07-02    64.0       1.0    57.0          8.0                     1.0   \n",
       "2020-07-03    74.0       NaN    41.0          2.0                     NaN   \n",
       "2020-07-04    43.0       1.0    29.0          3.0                     NaN   \n",
       "2020-07-05     NaN       NaN     1.0          NaN                     NaN   \n",
       "\n",
       "            Sachsen  Sachsen-Anhalt  Thüringen  \n",
       "Meldedatum                                      \n",
       "2020-01-28      NaN             NaN        NaN  \n",
       "2020-01-29      NaN             NaN        NaN  \n",
       "2020-01-31      NaN             NaN        NaN  \n",
       "2020-02-03      NaN             NaN        NaN  \n",
       "2020-02-04      NaN             NaN        NaN  \n",
       "...             ...             ...        ...  \n",
       "2020-07-01      1.0             1.0        1.0  \n",
       "2020-07-02      4.0             4.0       10.0  \n",
       "2020-07-03      1.0             3.0        NaN  \n",
       "2020-07-04      NaN             NaN        3.0  \n",
       "2020-07-05      NaN             6.0        2.0  \n",
       "\n",
       "[144 rows x 17 columns]"
      ]
     },
     "execution_count": 39,
     "metadata": {},
     "output_type": "execute_result"
    }
   ],
   "source": [
    "# Ihr Code\n",
    "df_covid['Meldedatum'] = pd.to_datetime(df_covid['Meldedatum'])\n",
    "df_covid.set_index('Meldedatum',inplace=True)\n",
    "df_covid"
   ]
  },
  {
   "cell_type": "markdown",
   "metadata": {
    "pycharm": {
     "name": "#%% md\n"
    }
   },
   "source": [
    "(4) Visualisieren Sie die Anzahl neu infizierter Personen für Deutschland (Spalte: Deutschland) als Funktion des Meldedatums. Ihre Abbildung muss folgende Eigenschaften erfüllen:  <span style=\"color:red;font-weight:bold\">\\[ /6\\] Punkte</span>\n",
    "\n",
    "- Die x-Achse ist mit \"Meldedatum\" beschriftet. (2 Punkte)\n",
    "- Auf der x-Achse stehen Datumsangaben (z.B: '2020-03-17'), keine bloßen Integers. (2 Punkte)  \n",
    "- Der Titel der Abbildung lautet \"Anzahl Neuinfektionen\". (2 Punkte)"
   ]
  },
  {
   "cell_type": "code",
   "execution_count": 40,
   "metadata": {
    "pycharm": {
     "name": "#%%\n"
    }
   },
   "outputs": [
    {
     "data": {
      "text/plain": [
       "[<matplotlib.lines.Line2D at 0x157416257f0>]"
      ]
     },
     "execution_count": 40,
     "metadata": {},
     "output_type": "execute_result"
    },
    {
     "data": {
      "image/png": "[encoded data removed]",
      "text/plain": [
       "<Figure size 720x504 with 1 Axes>"
      ]
     },
     "metadata": {
      "needs_background": "light"
     },
     "output_type": "display_data"
    }
   ],
   "source": [
    "# Ihr Code\n",
    "plt.xlabel('Meldedatum')\n",
    "plt.title('Anzahl Neuinfektionen')\n",
    "plt.plot(df_covid.index, df_covid['Deutschland'])"
   ]
  },
  {
   "cell_type": "markdown",
   "metadata": {
    "pycharm": {
     "name": "#%% md\n"
    }
   },
   "source": [
    "(5) Am 2. April 2020 begann im Jahr 2020 die *Einführung in Data Science* Vorlesung in Aachen. *Bestimmen Sie* die Anzahl gemeldeter Neuinfizierter an diesem Tag und *nennen Sie diese Anzahl*. <span style=\"color:red;font-weight:bold\">\\[ /4\\] Punkte</span>\n"
   ]
  },
  {
   "cell_type": "code",
   "execution_count": 41,
   "metadata": {
    "pycharm": {
     "name": "#%%\n"
    }
   },
   "outputs": [
    {
     "data": {
      "text/plain": [
       "6574.0"
      ]
     },
     "execution_count": 41,
     "metadata": {},
     "output_type": "execute_result"
    }
   ],
   "source": [
    "# Ihr Code\n",
    "start = '04-02-2020'\n",
    "df_covid.loc[start]['Deutschland']"
   ]
  },
  {
   "cell_type": "markdown",
   "metadata": {
    "pycharm": {
     "name": "#%% md\n"
    }
   },
   "source": [
    "<span style=\"color:green;font-weight:bold\">\n",
    "6574.0\n",
    "</span>"
   ]
  },
  {
   "cell_type": "markdown",
   "metadata": {
    "pycharm": {
     "name": "#%% md\n"
    }
   },
   "source": [
    "(6) Die Anzahl gemeldeter Neuinfizierter in Ihrer Visualisierung aus Schritt (4) zeigt periodische Schwingungen. Wie erklären Sie das Auftreten dieser Schwingungen? (Stichpunkte oder 1-3 Sätze) <span style=\"color:red;font-weight:bold\">\\[ /6\\] Punkte</span>"
   ]
  },
  {
   "cell_type": "markdown",
   "metadata": {
    "pycharm": {
     "name": "#%% md\n"
    }
   },
   "source": [
    "<span style=\"color:green;font-weight:bold\">\n",
    "Meldungen am Wochenende nur verzögert bzw. gar nicht, je nach Behörde. Gibt regelmäßige Arbeitszeiten dort.\n",
    "</span>"
   ]
  },
  {
   "cell_type": "markdown",
   "metadata": {
    "pycharm": {
     "name": "#%% md\n"
    }
   },
   "source": [
    "(7) Die Anzahl Neuinfizierter steigt kurzzeitig im Juni 2020 etwas an und flacht dann wieder ab. Untersuchen Sie, auf welches Bundesland sich dieser Anstieg zurückführen lässt: <span style=\"color:red;font-weight:bold\">\\[ /8\\] Punkte</span>\n",
    "\n",
    "1. Visualisieren Sie die Anzahl gemeldeter Neuinfizierter als Funktion des Meldedatums *für alle Bundesländer* in derselben Abbildung. Ihre Abbildung erfüllt die folgenden Eigenschaften:\n",
    "   - Die x-Achse ist mit \"Meldedatum\" beschriftet. (1 Punkt)\n",
    "   - Auf der x-Achse stehen Datumsangaben (z.B: '2020-03-17'), keine bloßen Integers. (1 Punkt)  \n",
    "   - Der Titel der Abbildung lautet \"Anzahl Neuinfizierter nach Bundesländern\". (1 Punkt)\n",
    "   - Eine Legende erlaubt eine farbkodierte Unterscheidung der dargestellten Graphen nach Bundesländern. (1 Punkt) \n",
    "   - Ihre Abbildung enthält **nicht** die Gesamtzahl aller Infizierter Deutschlands."
   ]
  },
  {
   "cell_type": "code",
   "execution_count": 42,
   "metadata": {
    "pycharm": {
     "name": "#%%\n"
    }
   },
   "outputs": [
    {
     "name": "stderr",
     "output_type": "stream",
     "text": [
      "C:\\Users\\Daniel\\AppData\\Local\\Temp\\ipykernel_29704\\2713581712.py:2: FutureWarning: In a future version of pandas all arguments of DataFrame.drop except for the argument 'labels' will be keyword-only.\n",
      "  df_covid_details = df_covid.drop('Deutschland',1)\n"
     ]
    },
    {
     "data": {
      "text/plain": [
       "<matplotlib.legend.Legend at 0x1573f374160>"
      ]
     },
     "execution_count": 42,
     "metadata": {},
     "output_type": "execute_result"
    },
    {
     "data": {
      "image/png": "[encoded data removed]",
      "text/plain": [
       "<Figure size 720x504 with 1 Axes>"
      ]
     },
     "metadata": {
      "needs_background": "light"
     },
     "output_type": "display_data"
    }
   ],
   "source": [
    "# Ihr Code\n",
    "df_covid_details = df_covid.drop('Deutschland',1)\n",
    "plt.xlabel('Meldedatum')\n",
    "plt.title('Anzahl Neuinfektionen nach Bundesländern')\n",
    "for col in df_covid_details:\n",
    "    plt.plot(df_covid_details.index, df_covid_details[col])\n",
    "plt.legend(df_covid_details.columns)"
   ]
  },
  {
   "cell_type": "code",
   "execution_count": 43,
   "metadata": {
    "pycharm": {
     "name": "#%%\n"
    }
   },
   "outputs": [
    {
     "data": {
      "text/plain": [
       "<matplotlib.legend.Legend at 0x1573f762e80>"
      ]
     },
     "execution_count": 43,
     "metadata": {},
     "output_type": "execute_result"
    },
    {
     "data": {
      "image/png": "[encoded data removed]",
      "text/plain": [
       "<Figure size 720x504 with 1 Axes>"
      ]
     },
     "metadata": {
      "needs_background": "light"
     },
     "output_type": "display_data"
    }
   ],
   "source": [
    "legend = []\n",
    "for col in ['Sachsen-Anhalt', 'Nordrhein-Westfalen']:\n",
    "    plt.plot(df_covid_details.index, df_covid_details[col])\n",
    "    legend.append(col)\n",
    "plt.legend(legend)"
   ]
  },
  {
   "cell_type": "markdown",
   "metadata": {
    "pycharm": {
     "name": "#%% md\n"
    }
   },
   "source": [
    "2. Identifizieren Sie über Ihre Abbildung das Bundesland, auf das sich der kurzzeitige Anstieg der Neuinfizierten im Juni 2020 zurückführen lässt, und nennen Sie dieses Bundesland. (2 Punkte)\n",
    "\n",
    "   - Bonus: Benennen Sie die Ursache dieser erhöhten Infektionszahlen. (+2 Punkte)"
   ]
  },
  {
   "cell_type": "markdown",
   "metadata": {
    "pycharm": {
     "name": "#%% md\n"
    }
   },
   "source": [
    "<span style=\"color:green;font-weight:bold\">\n",
    "NRW, Tönnies Hotspot\n",
    "</span>"
   ]
  },
  {
   "cell_type": "markdown",
   "metadata": {
    "pycharm": {
     "name": "#%% md\n"
    }
   },
   "source": [
    "3. In welchem Bundesland Deutschlands wurden als erstes Corona-Infizierte gemeldet? (2 Punkte)"
   ]
  },
  {
   "cell_type": "code",
   "execution_count": 44,
   "metadata": {
    "pycharm": {
     "name": "#%%\n"
    }
   },
   "outputs": [
    {
     "data": {
      "text/html": [
       "<div>\n",
       "<style scoped>\n",
       "    .dataframe tbody tr th:only-of-type {\n",
       "        vertical-align: middle;\n",
       "    }\n",
       "\n",
       "    .dataframe tbody tr th {\n",
       "        vertical-align: top;\n",
       "    }\n",
       "\n",
       "    .dataframe thead th {\n",
       "        text-align: right;\n",
       "    }\n",
       "</style>\n",
       "<table border=\"1\" class=\"dataframe\">\n",
       "  <thead>\n",
       "    <tr style=\"text-align: right;\">\n",
       "      <th></th>\n",
       "      <th>Deutschland</th>\n",
       "      <th>Schleswig-Holstein</th>\n",
       "      <th>Hamburg</th>\n",
       "      <th>Niedersachsen</th>\n",
       "      <th>Bremen</th>\n",
       "      <th>Nordrhein-Westfalen</th>\n",
       "      <th>Hessen</th>\n",
       "      <th>Rheinland-Pfalz</th>\n",
       "      <th>Baden-Württemberg</th>\n",
       "      <th>Bayern</th>\n",
       "      <th>Saarland</th>\n",
       "      <th>Berlin</th>\n",
       "      <th>Brandenburg</th>\n",
       "      <th>Mecklenburg-Vorpommern</th>\n",
       "      <th>Sachsen</th>\n",
       "      <th>Sachsen-Anhalt</th>\n",
       "      <th>Thüringen</th>\n",
       "    </tr>\n",
       "    <tr>\n",
       "      <th>Meldedatum</th>\n",
       "      <th></th>\n",
       "      <th></th>\n",
       "      <th></th>\n",
       "      <th></th>\n",
       "      <th></th>\n",
       "      <th></th>\n",
       "      <th></th>\n",
       "      <th></th>\n",
       "      <th></th>\n",
       "      <th></th>\n",
       "      <th></th>\n",
       "      <th></th>\n",
       "      <th></th>\n",
       "      <th></th>\n",
       "      <th></th>\n",
       "      <th></th>\n",
       "      <th></th>\n",
       "    </tr>\n",
       "  </thead>\n",
       "  <tbody>\n",
       "    <tr>\n",
       "      <th>2020-01-28</th>\n",
       "      <td>2</td>\n",
       "      <td>NaN</td>\n",
       "      <td>NaN</td>\n",
       "      <td>NaN</td>\n",
       "      <td>NaN</td>\n",
       "      <td>NaN</td>\n",
       "      <td>NaN</td>\n",
       "      <td>NaN</td>\n",
       "      <td>NaN</td>\n",
       "      <td>2.0</td>\n",
       "      <td>NaN</td>\n",
       "      <td>NaN</td>\n",
       "      <td>NaN</td>\n",
       "      <td>NaN</td>\n",
       "      <td>NaN</td>\n",
       "      <td>NaN</td>\n",
       "      <td>NaN</td>\n",
       "    </tr>\n",
       "    <tr>\n",
       "      <th>2020-01-29</th>\n",
       "      <td>2</td>\n",
       "      <td>NaN</td>\n",
       "      <td>NaN</td>\n",
       "      <td>NaN</td>\n",
       "      <td>NaN</td>\n",
       "      <td>NaN</td>\n",
       "      <td>NaN</td>\n",
       "      <td>NaN</td>\n",
       "      <td>NaN</td>\n",
       "      <td>2.0</td>\n",
       "      <td>NaN</td>\n",
       "      <td>NaN</td>\n",
       "      <td>NaN</td>\n",
       "      <td>NaN</td>\n",
       "      <td>NaN</td>\n",
       "      <td>NaN</td>\n",
       "      <td>NaN</td>\n",
       "    </tr>\n",
       "    <tr>\n",
       "      <th>2020-01-31</th>\n",
       "      <td>3</td>\n",
       "      <td>NaN</td>\n",
       "      <td>NaN</td>\n",
       "      <td>NaN</td>\n",
       "      <td>NaN</td>\n",
       "      <td>NaN</td>\n",
       "      <td>NaN</td>\n",
       "      <td>NaN</td>\n",
       "      <td>NaN</td>\n",
       "      <td>3.0</td>\n",
       "      <td>NaN</td>\n",
       "      <td>NaN</td>\n",
       "      <td>NaN</td>\n",
       "      <td>NaN</td>\n",
       "      <td>NaN</td>\n",
       "      <td>NaN</td>\n",
       "      <td>NaN</td>\n",
       "    </tr>\n",
       "    <tr>\n",
       "      <th>2020-02-03</th>\n",
       "      <td>1</td>\n",
       "      <td>NaN</td>\n",
       "      <td>NaN</td>\n",
       "      <td>NaN</td>\n",
       "      <td>NaN</td>\n",
       "      <td>NaN</td>\n",
       "      <td>NaN</td>\n",
       "      <td>NaN</td>\n",
       "      <td>NaN</td>\n",
       "      <td>1.0</td>\n",
       "      <td>NaN</td>\n",
       "      <td>NaN</td>\n",
       "      <td>NaN</td>\n",
       "      <td>NaN</td>\n",
       "      <td>NaN</td>\n",
       "      <td>NaN</td>\n",
       "      <td>NaN</td>\n",
       "    </tr>\n",
       "    <tr>\n",
       "      <th>2020-02-04</th>\n",
       "      <td>4</td>\n",
       "      <td>NaN</td>\n",
       "      <td>NaN</td>\n",
       "      <td>1.0</td>\n",
       "      <td>NaN</td>\n",
       "      <td>NaN</td>\n",
       "      <td>NaN</td>\n",
       "      <td>NaN</td>\n",
       "      <td>NaN</td>\n",
       "      <td>3.0</td>\n",
       "      <td>NaN</td>\n",
       "      <td>NaN</td>\n",
       "      <td>NaN</td>\n",
       "      <td>NaN</td>\n",
       "      <td>NaN</td>\n",
       "      <td>NaN</td>\n",
       "      <td>NaN</td>\n",
       "    </tr>\n",
       "  </tbody>\n",
       "</table>\n",
       "</div>"
      ],
      "text/plain": [
       "            Deutschland  Schleswig-Holstein  Hamburg  Niedersachsen  Bremen  \\\n",
       "Meldedatum                                                                    \n",
       "2020-01-28            2                 NaN      NaN            NaN     NaN   \n",
       "2020-01-29            2                 NaN      NaN            NaN     NaN   \n",
       "2020-01-31            3                 NaN      NaN            NaN     NaN   \n",
       "2020-02-03            1                 NaN      NaN            NaN     NaN   \n",
       "2020-02-04            4                 NaN      NaN            1.0     NaN   \n",
       "\n",
       "            Nordrhein-Westfalen  Hessen  Rheinland-Pfalz  Baden-Württemberg  \\\n",
       "Meldedatum                                                                    \n",
       "2020-01-28                  NaN     NaN              NaN                NaN   \n",
       "2020-01-29                  NaN     NaN              NaN                NaN   \n",
       "2020-01-31                  NaN     NaN              NaN                NaN   \n",
       "2020-02-03                  NaN     NaN              NaN                NaN   \n",
       "2020-02-04                  NaN     NaN              NaN                NaN   \n",
       "\n",
       "            Bayern  Saarland  Berlin  Brandenburg  Mecklenburg-Vorpommern  \\\n",
       "Meldedatum                                                                  \n",
       "2020-01-28     2.0       NaN     NaN          NaN                     NaN   \n",
       "2020-01-29     2.0       NaN     NaN          NaN                     NaN   \n",
       "2020-01-31     3.0       NaN     NaN          NaN                     NaN   \n",
       "2020-02-03     1.0       NaN     NaN          NaN                     NaN   \n",
       "2020-02-04     3.0       NaN     NaN          NaN                     NaN   \n",
       "\n",
       "            Sachsen  Sachsen-Anhalt  Thüringen  \n",
       "Meldedatum                                      \n",
       "2020-01-28      NaN             NaN        NaN  \n",
       "2020-01-29      NaN             NaN        NaN  \n",
       "2020-01-31      NaN             NaN        NaN  \n",
       "2020-02-03      NaN             NaN        NaN  \n",
       "2020-02-04      NaN             NaN        NaN  "
      ]
     },
     "execution_count": 44,
     "metadata": {},
     "output_type": "execute_result"
    }
   ],
   "source": [
    "# Ihr Code\n",
    "df_covid.head()"
   ]
  },
  {
   "cell_type": "markdown",
   "metadata": {
    "pycharm": {
     "name": "#%% md\n"
    }
   },
   "source": [
    "<span style=\"color:green;font-weight:bold\">\n",
    "Erste Meldung von 2 Infekt. in Bayern (erster Datenpunkt)\n",
    "</span>"
   ]
  },
  {
   "cell_type": "markdown",
   "metadata": {
    "pycharm": {
     "name": "#%% md\n"
    }
   },
   "source": [
    "(8) Visualisieren Sie die kumulative Summe der Neuinfizierten in Deutschland (Spalte: Deutschland) als Funktion des Meldedatums. <span style=\"color:red;font-weight:bold\">\\[ /4\\] Punkte</span>\n",
    "\n",
    "- Die x-Achse ist mit \"Meldedatum\" beschriftet. (1 Punkte)\n",
    "- Auf der x-Achse stehen Datumsangaben (z.B: '2020-03-17'), keine bloßen Integers. (1 Punkte)  \n",
    "- Der Titel der Abbildung lautet \"kumulative Summe Infizierter\". (1 Punkte)"
   ]
  },
  {
   "cell_type": "code",
   "execution_count": 45,
   "metadata": {
    "pycharm": {
     "name": "#%%\n"
    }
   },
   "outputs": [
    {
     "data": {
      "text/plain": [
       "[<matplotlib.lines.Line2D at 0x157417c7a90>]"
      ]
     },
     "execution_count": 45,
     "metadata": {},
     "output_type": "execute_result"
    },
    {
     "data": {
      "image/png": "[encoded data removed]",
      "text/plain": [
       "<Figure size 720x504 with 1 Axes>"
      ]
     },
     "metadata": {
      "needs_background": "light"
     },
     "output_type": "display_data"
    }
   ],
   "source": [
    "# Ihr Code\n",
    "df_covid_ger = df_covid['Deutschland']\n",
    "df_covid_ger_cumsum = df_covid_ger.cumsum()\n",
    "plt.xlabel('Meldedatum')\n",
    "plt.title('kumulative Summe Infizierter')\n",
    "plt.plot(df_covid_ger.index, df_covid_ger_cumsum)"
   ]
  },
  {
   "cell_type": "markdown",
   "metadata": {
    "pycharm": {
     "name": "#%% md\n"
    }
   },
   "source": [
    "(9) Bestimmen Sie die Zahl aller Menschen, die in Deutschland bis zum 5. Juli 2020 als mit Covid-19 infiziert gemeldet wurden. <span style=\"color:red;font-weight:bold\">\\[ /6\\] Punkte</span>"
   ]
  },
  {
   "cell_type": "code",
   "execution_count": 46,
   "metadata": {
    "pycharm": {
     "name": "#%%\n"
    }
   },
   "outputs": [
    {
     "data": {
      "text/plain": [
       "196550"
      ]
     },
     "execution_count": 46,
     "metadata": {},
     "output_type": "execute_result"
    }
   ],
   "source": [
    "# Ihr Code\n",
    "df_covid_ger_cumsum['07-05-2020']"
   ]
  },
  {
   "cell_type": "markdown",
   "metadata": {
    "pycharm": {
     "name": "#%% md\n"
    }
   },
   "source": [
    "<span style=\"color:green;font-weight:bold\">\n",
    "196550 (inklusive dem 5.7.)\n",
    "</span>"
   ]
  },
  {
   "cell_type": "markdown",
   "metadata": {
    "pycharm": {
     "name": "#%% md\n"
    }
   },
   "source": [
    "(10) *Bonus:* (Bearbeiten Sie diese Teilaufgabe am besten erst, wenn Sie bereits die anderen Aufgaben dieser Klausur bearbeitet haben.)\n",
    "\n",
    "Visualisieren Sie die geschätzte Anzahl der akut erkrankten Coronapatienten als Funktion des Meldedatums. <span style=\"color:red;font-weight:bold\">\\[ /8\\] Punkte</span>\n",
    "\n",
    "Für die Schätzung der akut erkrankten Patienten (5 Punkte) nehmen wir Folgendes an:\n",
    "\n",
    "- Wir nehmen an, dass die Infektion 18 Tage nach dem Meldedatum vorbei ist und der Patient gesund geworden ist.\n",
    "- Wir nehmen an, dass keine Menschen durch eine Corona-Infektion versterben.\n",
    "\n",
    "Ihre Visualisierung erfüllt die folgenden Eigenschaften:\n",
    "- Die x-Achse ist mit \"Meldedatum\" beschriftet. (1 Punkt)\n",
    "- Auf der x-Achse stehen Datumsangaben (z.B: '2020-03-17'), keine bloßen Integers. (1 Punkt)  \n",
    "- Der Titel der Abbildung lautet \"Anzahl der akut erkrankten Corona-Patienten\". (1 Punkt)"
   ]
  },
  {
   "cell_type": "code",
   "execution_count": 47,
   "metadata": {
    "pycharm": {
     "name": "#%%\n"
    }
   },
   "outputs": [
    {
     "data": {
      "text/plain": [
       "[<matplotlib.lines.Line2D at 0x15741966b50>]"
      ]
     },
     "execution_count": 47,
     "metadata": {},
     "output_type": "execute_result"
    },
    {
     "data": {
      "image/png": "[encoded data removed]",
      "text/plain": [
       "<Figure size 720x504 with 1 Axes>"
      ]
     },
     "metadata": {
      "needs_background": "light"
     },
     "output_type": "display_data"
    }
   ],
   "source": [
    "# Ihr Code\n",
    "# Ihr Code\n",
    "df_covid_ger = df_covid['Deutschland']\n",
    "plt.xlabel('Meldedatum')\n",
    "plt.title('Anzahl der akut erkrankten Corona-Patienten')\n",
    "plt.plot(df_covid_ger.index, df_covid_ger.rolling(18).sum())"
   ]
  },
  {
   "cell_type": "markdown",
   "metadata": {
    "pycharm": {
     "name": "#%% md\n"
    }
   },
   "source": [
    "### Aufgabe: Reproduktionszahl\n",
    "\n",
    "#### <span style=\"color:red\">Erreichbare Punktzahl: 28</span>\n",
    "\n",
    "Sie bestimmen in dieser Aufgabe die Reproduktionszahl $R$ für die Covid-19 Pandemie in Deutschland anhand der Daten des Robert-Koch-Instituts. Die Reproduktionszahl $R$ gibt an, wie viele Menschen von einer infektiösen Person durchschnittlich angesteckt werden, wenn kein Mitglied der Population gegenüber dem Erreger immun ist.\n",
    "\n",
    "Sie werden eine vereinfachte Schätzung der $R$-Zahl durchführen. Die $R$-Zahl eines Tages $t$ sei definiert als\n",
    "\n",
    "$$ R(t) := \\frac{\\sum_{x = t-3}^t I_x }{\\sum_{x = t-7}^{t-4} I_x},$$\n",
    "\n",
    "wobei $I_x$ die Anzahl der Neuinfizierten eines Tages $x$ bezeichnet.\n",
    "\n",
    "Die $R$-Zahl entspricht also der Summe der Infizierten innerhalb eines 4-Tageszeitraums dividiert durch die Summe der Infizierten des davorliegenden 4-Tageszeitraums.\n",
    "\n",
    "**Ihre Daten**\n",
    "\n",
    "Ein vereinfachter Datensatz des Robert Koch Instituts (RKI) steht Ihnen in dieser Aufgabe zur Verfügung.\n",
    "\n",
    "**Ihre Aufgaben**\n",
    "\n",
    "(1) Führen Sie zunächst die unten stehende Code-Zelle aus, um den Datensatz und die Pandas-Bibliothek verfügbar zu machen."
   ]
  },
  {
   "cell_type": "code",
   "execution_count": 48,
   "metadata": {
    "pycharm": {
     "name": "#%%\n"
    }
   },
   "outputs": [],
   "source": [
    "import pandas as pd\n",
    "\n",
    "# Daten des Robert Koch Instituts\n",
    "RKI_data_simplified = 'https://data.bialonski.de/ds/kUdBuPrXjvr5d64OEy3UN82VKz646KLj2tuZFTFZ.csv'"
   ]
  },
  {
   "cell_type": "markdown",
   "metadata": {
    "pycharm": {
     "name": "#%% md\n"
    }
   },
   "source": [
    "(2) Importieren Sie mithilfe der Variablen `RKI_data_simplified` den Datensatz in einen Pandas DataFrame, den Sie `df_covid` nennen. <span style=\"color:red;font-weight:bold\">\\[ /4\\] Punkte</span>\n",
    "\n",
    "- Wandeln Sie die Spalte `Meldedatum` in einen *datetime* Typen um. Sie können die Pandas Funktion `to_datetime` dafür nutzen. (2 Punkte)\n",
    "\n",
    "- Machen Sie anschließend `Meldedatum` zum Index Ihres DataFrames. Sie können die Pandas Funktion `set_index` dafür nutzen. (2 Punkte)"
   ]
  },
  {
   "cell_type": "code",
   "execution_count": 49,
   "metadata": {
    "pycharm": {
     "name": "#%%\n"
    }
   },
   "outputs": [
    {
     "data": {
      "text/html": [
       "<div>\n",
       "<style scoped>\n",
       "    .dataframe tbody tr th:only-of-type {\n",
       "        vertical-align: middle;\n",
       "    }\n",
       "\n",
       "    .dataframe tbody tr th {\n",
       "        vertical-align: top;\n",
       "    }\n",
       "\n",
       "    .dataframe thead th {\n",
       "        text-align: right;\n",
       "    }\n",
       "</style>\n",
       "<table border=\"1\" class=\"dataframe\">\n",
       "  <thead>\n",
       "    <tr style=\"text-align: right;\">\n",
       "      <th></th>\n",
       "      <th>Deutschland</th>\n",
       "      <th>Schleswig-Holstein</th>\n",
       "      <th>Hamburg</th>\n",
       "      <th>Niedersachsen</th>\n",
       "      <th>Bremen</th>\n",
       "      <th>Nordrhein-Westfalen</th>\n",
       "      <th>Hessen</th>\n",
       "      <th>Rheinland-Pfalz</th>\n",
       "      <th>Baden-Württemberg</th>\n",
       "      <th>Bayern</th>\n",
       "      <th>Saarland</th>\n",
       "      <th>Berlin</th>\n",
       "      <th>Brandenburg</th>\n",
       "      <th>Mecklenburg-Vorpommern</th>\n",
       "      <th>Sachsen</th>\n",
       "      <th>Sachsen-Anhalt</th>\n",
       "      <th>Thüringen</th>\n",
       "    </tr>\n",
       "    <tr>\n",
       "      <th>Meldedatum</th>\n",
       "      <th></th>\n",
       "      <th></th>\n",
       "      <th></th>\n",
       "      <th></th>\n",
       "      <th></th>\n",
       "      <th></th>\n",
       "      <th></th>\n",
       "      <th></th>\n",
       "      <th></th>\n",
       "      <th></th>\n",
       "      <th></th>\n",
       "      <th></th>\n",
       "      <th></th>\n",
       "      <th></th>\n",
       "      <th></th>\n",
       "      <th></th>\n",
       "      <th></th>\n",
       "    </tr>\n",
       "  </thead>\n",
       "  <tbody>\n",
       "    <tr>\n",
       "      <th>2020-01-28</th>\n",
       "      <td>2</td>\n",
       "      <td>NaN</td>\n",
       "      <td>NaN</td>\n",
       "      <td>NaN</td>\n",
       "      <td>NaN</td>\n",
       "      <td>NaN</td>\n",
       "      <td>NaN</td>\n",
       "      <td>NaN</td>\n",
       "      <td>NaN</td>\n",
       "      <td>2.0</td>\n",
       "      <td>NaN</td>\n",
       "      <td>NaN</td>\n",
       "      <td>NaN</td>\n",
       "      <td>NaN</td>\n",
       "      <td>NaN</td>\n",
       "      <td>NaN</td>\n",
       "      <td>NaN</td>\n",
       "    </tr>\n",
       "    <tr>\n",
       "      <th>2020-01-29</th>\n",
       "      <td>2</td>\n",
       "      <td>NaN</td>\n",
       "      <td>NaN</td>\n",
       "      <td>NaN</td>\n",
       "      <td>NaN</td>\n",
       "      <td>NaN</td>\n",
       "      <td>NaN</td>\n",
       "      <td>NaN</td>\n",
       "      <td>NaN</td>\n",
       "      <td>2.0</td>\n",
       "      <td>NaN</td>\n",
       "      <td>NaN</td>\n",
       "      <td>NaN</td>\n",
       "      <td>NaN</td>\n",
       "      <td>NaN</td>\n",
       "      <td>NaN</td>\n",
       "      <td>NaN</td>\n",
       "    </tr>\n",
       "    <tr>\n",
       "      <th>2020-01-31</th>\n",
       "      <td>3</td>\n",
       "      <td>NaN</td>\n",
       "      <td>NaN</td>\n",
       "      <td>NaN</td>\n",
       "      <td>NaN</td>\n",
       "      <td>NaN</td>\n",
       "      <td>NaN</td>\n",
       "      <td>NaN</td>\n",
       "      <td>NaN</td>\n",
       "      <td>3.0</td>\n",
       "      <td>NaN</td>\n",
       "      <td>NaN</td>\n",
       "      <td>NaN</td>\n",
       "      <td>NaN</td>\n",
       "      <td>NaN</td>\n",
       "      <td>NaN</td>\n",
       "      <td>NaN</td>\n",
       "    </tr>\n",
       "    <tr>\n",
       "      <th>2020-02-03</th>\n",
       "      <td>1</td>\n",
       "      <td>NaN</td>\n",
       "      <td>NaN</td>\n",
       "      <td>NaN</td>\n",
       "      <td>NaN</td>\n",
       "      <td>NaN</td>\n",
       "      <td>NaN</td>\n",
       "      <td>NaN</td>\n",
       "      <td>NaN</td>\n",
       "      <td>1.0</td>\n",
       "      <td>NaN</td>\n",
       "      <td>NaN</td>\n",
       "      <td>NaN</td>\n",
       "      <td>NaN</td>\n",
       "      <td>NaN</td>\n",
       "      <td>NaN</td>\n",
       "      <td>NaN</td>\n",
       "    </tr>\n",
       "    <tr>\n",
       "      <th>2020-02-04</th>\n",
       "      <td>4</td>\n",
       "      <td>NaN</td>\n",
       "      <td>NaN</td>\n",
       "      <td>1.0</td>\n",
       "      <td>NaN</td>\n",
       "      <td>NaN</td>\n",
       "      <td>NaN</td>\n",
       "      <td>NaN</td>\n",
       "      <td>NaN</td>\n",
       "      <td>3.0</td>\n",
       "      <td>NaN</td>\n",
       "      <td>NaN</td>\n",
       "      <td>NaN</td>\n",
       "      <td>NaN</td>\n",
       "      <td>NaN</td>\n",
       "      <td>NaN</td>\n",
       "      <td>NaN</td>\n",
       "    </tr>\n",
       "    <tr>\n",
       "      <th>...</th>\n",
       "      <td>...</td>\n",
       "      <td>...</td>\n",
       "      <td>...</td>\n",
       "      <td>...</td>\n",
       "      <td>...</td>\n",
       "      <td>...</td>\n",
       "      <td>...</td>\n",
       "      <td>...</td>\n",
       "      <td>...</td>\n",
       "      <td>...</td>\n",
       "      <td>...</td>\n",
       "      <td>...</td>\n",
       "      <td>...</td>\n",
       "      <td>...</td>\n",
       "      <td>...</td>\n",
       "      <td>...</td>\n",
       "      <td>...</td>\n",
       "    </tr>\n",
       "    <tr>\n",
       "      <th>2020-07-01</th>\n",
       "      <td>467</td>\n",
       "      <td>12.0</td>\n",
       "      <td>9.0</td>\n",
       "      <td>25.0</td>\n",
       "      <td>4.0</td>\n",
       "      <td>176.0</td>\n",
       "      <td>49.0</td>\n",
       "      <td>30.0</td>\n",
       "      <td>42.0</td>\n",
       "      <td>61.0</td>\n",
       "      <td>1.0</td>\n",
       "      <td>47.0</td>\n",
       "      <td>8.0</td>\n",
       "      <td>NaN</td>\n",
       "      <td>1.0</td>\n",
       "      <td>1.0</td>\n",
       "      <td>1.0</td>\n",
       "    </tr>\n",
       "    <tr>\n",
       "      <th>2020-07-02</th>\n",
       "      <td>454</td>\n",
       "      <td>5.0</td>\n",
       "      <td>2.0</td>\n",
       "      <td>22.0</td>\n",
       "      <td>4.0</td>\n",
       "      <td>205.0</td>\n",
       "      <td>29.0</td>\n",
       "      <td>8.0</td>\n",
       "      <td>30.0</td>\n",
       "      <td>64.0</td>\n",
       "      <td>1.0</td>\n",
       "      <td>57.0</td>\n",
       "      <td>8.0</td>\n",
       "      <td>1.0</td>\n",
       "      <td>4.0</td>\n",
       "      <td>4.0</td>\n",
       "      <td>10.0</td>\n",
       "    </tr>\n",
       "    <tr>\n",
       "      <th>2020-07-03</th>\n",
       "      <td>371</td>\n",
       "      <td>2.0</td>\n",
       "      <td>2.0</td>\n",
       "      <td>30.0</td>\n",
       "      <td>NaN</td>\n",
       "      <td>167.0</td>\n",
       "      <td>31.0</td>\n",
       "      <td>6.0</td>\n",
       "      <td>12.0</td>\n",
       "      <td>74.0</td>\n",
       "      <td>NaN</td>\n",
       "      <td>41.0</td>\n",
       "      <td>2.0</td>\n",
       "      <td>NaN</td>\n",
       "      <td>1.0</td>\n",
       "      <td>3.0</td>\n",
       "      <td>NaN</td>\n",
       "    </tr>\n",
       "    <tr>\n",
       "      <th>2020-07-04</th>\n",
       "      <td>229</td>\n",
       "      <td>2.0</td>\n",
       "      <td>NaN</td>\n",
       "      <td>NaN</td>\n",
       "      <td>3.0</td>\n",
       "      <td>127.0</td>\n",
       "      <td>16.0</td>\n",
       "      <td>2.0</td>\n",
       "      <td>NaN</td>\n",
       "      <td>43.0</td>\n",
       "      <td>1.0</td>\n",
       "      <td>29.0</td>\n",
       "      <td>3.0</td>\n",
       "      <td>NaN</td>\n",
       "      <td>NaN</td>\n",
       "      <td>NaN</td>\n",
       "      <td>3.0</td>\n",
       "    </tr>\n",
       "    <tr>\n",
       "      <th>2020-07-05</th>\n",
       "      <td>75</td>\n",
       "      <td>6.0</td>\n",
       "      <td>NaN</td>\n",
       "      <td>NaN</td>\n",
       "      <td>1.0</td>\n",
       "      <td>52.0</td>\n",
       "      <td>7.0</td>\n",
       "      <td>NaN</td>\n",
       "      <td>NaN</td>\n",
       "      <td>NaN</td>\n",
       "      <td>NaN</td>\n",
       "      <td>1.0</td>\n",
       "      <td>NaN</td>\n",
       "      <td>NaN</td>\n",
       "      <td>NaN</td>\n",
       "      <td>6.0</td>\n",
       "      <td>2.0</td>\n",
       "    </tr>\n",
       "  </tbody>\n",
       "</table>\n",
       "<p>144 rows × 17 columns</p>\n",
       "</div>"
      ],
      "text/plain": [
       "            Deutschland  Schleswig-Holstein  Hamburg  Niedersachsen  Bremen  \\\n",
       "Meldedatum                                                                    \n",
       "2020-01-28            2                 NaN      NaN            NaN     NaN   \n",
       "2020-01-29            2                 NaN      NaN            NaN     NaN   \n",
       "2020-01-31            3                 NaN      NaN            NaN     NaN   \n",
       "2020-02-03            1                 NaN      NaN            NaN     NaN   \n",
       "2020-02-04            4                 NaN      NaN            1.0     NaN   \n",
       "...                 ...                 ...      ...            ...     ...   \n",
       "2020-07-01          467                12.0      9.0           25.0     4.0   \n",
       "2020-07-02          454                 5.0      2.0           22.0     4.0   \n",
       "2020-07-03          371                 2.0      2.0           30.0     NaN   \n",
       "2020-07-04          229                 2.0      NaN            NaN     3.0   \n",
       "2020-07-05           75                 6.0      NaN            NaN     1.0   \n",
       "\n",
       "            Nordrhein-Westfalen  Hessen  Rheinland-Pfalz  Baden-Württemberg  \\\n",
       "Meldedatum                                                                    \n",
       "2020-01-28                  NaN     NaN              NaN                NaN   \n",
       "2020-01-29                  NaN     NaN              NaN                NaN   \n",
       "2020-01-31                  NaN     NaN              NaN                NaN   \n",
       "2020-02-03                  NaN     NaN              NaN                NaN   \n",
       "2020-02-04                  NaN     NaN              NaN                NaN   \n",
       "...                         ...     ...              ...                ...   \n",
       "2020-07-01                176.0    49.0             30.0               42.0   \n",
       "2020-07-02                205.0    29.0              8.0               30.0   \n",
       "2020-07-03                167.0    31.0              6.0               12.0   \n",
       "2020-07-04                127.0    16.0              2.0                NaN   \n",
       "2020-07-05                 52.0     7.0              NaN                NaN   \n",
       "\n",
       "            Bayern  Saarland  Berlin  Brandenburg  Mecklenburg-Vorpommern  \\\n",
       "Meldedatum                                                                  \n",
       "2020-01-28     2.0       NaN     NaN          NaN                     NaN   \n",
       "2020-01-29     2.0       NaN     NaN          NaN                     NaN   \n",
       "2020-01-31     3.0       NaN     NaN          NaN                     NaN   \n",
       "2020-02-03     1.0       NaN     NaN          NaN                     NaN   \n",
       "2020-02-04     3.0       NaN     NaN          NaN                     NaN   \n",
       "...            ...       ...     ...          ...                     ...   \n",
       "2020-07-01    61.0       1.0    47.0          8.0                     NaN   \n",
       "2020-07-02    64.0       1.0    57.0          8.0                     1.0   \n",
       "2020-07-03    74.0       NaN    41.0          2.0                     NaN   \n",
       "2020-07-04    43.0       1.0    29.0          3.0                     NaN   \n",
       "2020-07-05     NaN       NaN     1.0          NaN                     NaN   \n",
       "\n",
       "            Sachsen  Sachsen-Anhalt  Thüringen  \n",
       "Meldedatum                                      \n",
       "2020-01-28      NaN             NaN        NaN  \n",
       "2020-01-29      NaN             NaN        NaN  \n",
       "2020-01-31      NaN             NaN        NaN  \n",
       "2020-02-03      NaN             NaN        NaN  \n",
       "2020-02-04      NaN             NaN        NaN  \n",
       "...             ...             ...        ...  \n",
       "2020-07-01      1.0             1.0        1.0  \n",
       "2020-07-02      4.0             4.0       10.0  \n",
       "2020-07-03      1.0             3.0        NaN  \n",
       "2020-07-04      NaN             NaN        3.0  \n",
       "2020-07-05      NaN             6.0        2.0  \n",
       "\n",
       "[144 rows x 17 columns]"
      ]
     },
     "execution_count": 49,
     "metadata": {},
     "output_type": "execute_result"
    }
   ],
   "source": [
    "# Ihr Code\n",
    "df_covid: pd.DataFrame = pd.read_csv(RKI_data_simplified)\n",
    "\n",
    "df_covid['Meldedatum'] = pd.to_datetime(df_covid['Meldedatum'])\n",
    "df_covid.set_index('Meldedatum',inplace=True)\n",
    "df_covid"
   ]
  },
  {
   "cell_type": "markdown",
   "metadata": {
    "pycharm": {
     "name": "#%% md\n"
    }
   },
   "source": [
    "$$ R(t) := \\frac{\\sum_{x = t-3}^t I_x }{\\sum_{x = t-7}^{t-4} I_x},$$\n"
   ]
  },
  {
   "cell_type": "markdown",
   "metadata": {
    "pycharm": {
     "name": "#%% md\n"
    }
   },
   "source": [
    "(3) Bestimmen Sie nun die $R(t)$-Zahl für Deutschland (Spalte: Deutschland) aus den Daten, die Sie im vorherigen Schritt verfügbar gemacht haben.  <span style=\"color:red;font-weight:bold\">\\[ /12\\] Punkte</span>\n",
    "\n",
    "Gehen Sie dabei am besten in zwei Schritten vor:\n",
    "\n",
    "1. Bestimmen Sie die rollierenden 4-Tagessummen der Infiziertenzahlen. Sie erhalten dadurch einen neuen DataFrame, der eine Zeitreihe enthält, deren Einträge jeweils einer Summe über die Anzahl der Infizierten über 4 aufeinanderfolgende Tage darstellt. Nutzen Sie für diesen Schritt am besten die Funktionalität von Pandas. (6 Punkte)\n",
    "\n",
    "   - **Wichtig**: Die Summen in der Definition von $R(t)$ (siehe obige Gleichung) verlaufen jeweils über 4 direkt aufeinanderfolgenden Tagen.\n",
    "\n",
    "\n",
    "2. Bestimmen Sie $R(t)$ gemäß der Definition zu Beginn dieser Aufgabe. Nutzen Sie aus, dass Sie die Zeitreihe (der rollierenden 4-Tagessummen) um 4 Tage mithilfe von Pandas verschieben können. (6 Punkte)\n"
   ]
  },
  {
   "cell_type": "markdown",
   "metadata": {
    "pycharm": {
     "name": "#%% md\n"
    }
   },
   "source": [
    "(4) Visualisieren Sie die $R(t)$-Zahl als Funktion des Meldedatums $t$. <span style=\"color:red;font-weight:bold\">\\[ /4\\] Punkte</span>\n",
    "\n",
    "- Sie haben $R(t)$ als Funktion des Meldedatums in einer Abbildung visualisiert. (1 Punkt)\n",
    "- Die x-Achse ist mit \"Meldedatum\" beschriftet. (1 Punkt)\n",
    "- Auf der x-Achse stehen Datumsangaben (z.B: '2020-03-17' oder 'Apr 2020'), keine bloßen Integers. (1 Punkt)  \n",
    "- Der Titel der Abbildung lautet \"Reproduktionszahl R\". (1 Punkt)"
   ]
  },
  {
   "cell_type": "markdown",
   "metadata": {
    "pycharm": {
     "name": "#%% md\n"
    }
   },
   "source": [
    "1 2 3 4 5 6 7 8 9 \n",
    "\n",
    "Rolling: [1-4, 2-5, 3-6, 4-7, 5-8, 6-9]\n",
    "\n",
    "1. R-Wert: '5-8' / '1-4'"
   ]
  },
  {
   "cell_type": "code",
   "execution_count": 50,
   "metadata": {
    "pycharm": {
     "name": "#%%\n"
    }
   },
   "outputs": [
    {
     "data": {
      "text/plain": [
       "[<matplotlib.lines.Line2D at 0x15741d9ae20>]"
      ]
     },
     "execution_count": 50,
     "metadata": {},
     "output_type": "execute_result"
    },
    {
     "data": {
      "image/png": "[encoded data removed]",
      "text/plain": [
       "<Figure size 720x504 with 1 Axes>"
      ]
     },
     "metadata": {
      "needs_background": "light"
     },
     "output_type": "display_data"
    }
   ],
   "source": [
    "# Ihr Code\n",
    "df_covid_ger_4d: pd.DataFrame = df_covid_ger.rolling('4d', min_periods=1).sum()\n",
    "df_covid_ger_R = (df_covid_ger_4d / df_covid_ger_4d.shift(4))\n",
    "plt.xlabel('Meldedatum')\n",
    "plt.title('Reproduktionszahl R')\n",
    "plt.plot(df_covid_ger_R)"
   ]
  },
  {
   "cell_type": "markdown",
   "metadata": {
    "pycharm": {
     "name": "#%% md\n"
    }
   },
   "source": [
    "(5) An welchen Tagen im Juni 2020 können Sie Reproduktionszahlen beobachten, die größer sind als 2? <span style=\"color:red;font-weight:bold\">\\[ /8\\] Punkte</span>\n",
    "\n",
    "- Angabe der Tage im Juni 2020, deren Reproduktionszahlen größer sind als 2. (6 Punkte)\n",
    "- Welcher Ausbruch steht mit den erhöhten Reproduktionszahlen im Juni im Zusammenhang stehen? (1-2 Sätze oder Stichworte) (2 Punkte)"
   ]
  },
  {
   "cell_type": "code",
   "execution_count": 51,
   "metadata": {
    "pycharm": {
     "name": "#%%\n"
    }
   },
   "outputs": [
    {
     "data": {
      "text/plain": [
       "Meldedatum\n",
       "2020-06-18    2.210959\n",
       "2020-06-19    2.820370\n",
       "2020-06-20    2.387097\n",
       "Name: Deutschland, dtype: float64"
      ]
     },
     "execution_count": 51,
     "metadata": {},
     "output_type": "execute_result"
    }
   ],
   "source": [
    "# Ihr Code\n",
    "R_jul = df_covid_ger_R.loc['06-01-2020':'06-30-2020']\n",
    "R_jul.where(R_jul > 2).dropna()"
   ]
  },
  {
   "cell_type": "markdown",
   "metadata": {
    "pycharm": {
     "name": "#%% md\n"
    }
   },
   "source": [
    "<span style=\"color:green;font-weight:bold\">\n",
    "NRW, Tönnies Hotspot\n",
    "</span>"
   ]
  },
  {
   "cell_type": "markdown",
   "metadata": {
    "pycharm": {
     "name": "#%% md\n"
    }
   },
   "source": [
    "### Aufgabe: Corona-Warn-App Analyse\n",
    "\n",
    "#### <span style=\"color:red\">Erreichbare Punktzahl: 20</span>\n",
    "\n",
    "Die Corona-Warn-App wurde im Juni 2020 in Deutschland veröffentlicht, um die Kontaktnachverfolgung infizierter Personen zu erleichtern. Die App wurde bis Anfang Juli 2020 bereits über 14 Millionen Mal heruntergeladen.\n",
    "\n",
    "Über die App-Infrastruktur werden jeden Tag Menschen vor potentiellen Infektionen gewarnt. Aus den dabei benötigten täglichen Daten lassen sich die Anzahl der Menschen ermitteln, die pro Tag über die Warn-App als infiziert gemeldet wurden. \n",
    "\n",
    "Sie werden in dieser Aufgabe untersuchen, wieviel Prozent aller neuinfizierten Fälle (laut Robert-Koch-Institut) bereits über die Corona-Warn-App gemeldet werden.\n",
    "\n",
    "**Ihre Daten**\n",
    "\n",
    "- Ein vereinfachter Datensatz des Robert Koch Instituts (RKI) steht Ihnen in dieser Aufgabe zur Verfügung.\n",
    "\n",
    "- Corona-Warn-App Datensatz, der die Schätzung der Anzahl der als infiziert gemeldeten Menschen enthält\n",
    "\n",
    "**Ihre Aufgaben**\n",
    "\n",
    "(1) Führen Sie zunächst die unten stehende Code-Zelle aus, um die Datensätze und die Pandas-Bibliothek verfügbar zu machen."
   ]
  },
  {
   "cell_type": "code",
   "execution_count": 52,
   "metadata": {
    "pycharm": {
     "name": "#%%\n"
    }
   },
   "outputs": [],
   "source": [
    "import pandas as pd\n",
    "\n",
    "# Daten des Robert Koch Instituts\n",
    "RKI_data_simplified = 'https://data.bialonski.de/ds/kUdBuPrXjvr5d64OEy3UN82VKz646KLj2tuZFTFZ.csv'\n",
    "\n",
    "# Daten der Corona Warn App Infrastruktur\n",
    "cwa_data = 'https://data.bialonski.de/ds/kWgDRT4Q6W3TfK4u1AAjnJtzP67GebwP3l3cLpEF.csv'"
   ]
  },
  {
   "cell_type": "markdown",
   "metadata": {
    "pycharm": {
     "name": "#%% md\n"
    }
   },
   "source": [
    "(2) Importieren Sie mithilfe der Variablen `RKI_data_simplified` und `cwa_data` die Datensätze in Pandas DataFrames, die Sie `df_covid` bzw. `df_cwa` nennen. Für beide DataFrames machen Sie Folgendes:  <span style=\"color:red;font-weight:bold\">\\[ /4\\] Punkte</span>\n",
    "\n",
    "- Wandeln Sie die Spalte `Meldedatum` in einen *datetime* Typen um. Sie können die Pandas Funktion `to_datetime` dafür nutzen. (2 Punkte)\n",
    "\n",
    "- Machen Sie anschließend `Meldedatum` zum Index Ihres jeweiligen DataFrames. Sie können die Pandas Funktion `set_index` dafür nutzen. (2 Punkte)"
   ]
  },
  {
   "cell_type": "code",
   "execution_count": 53,
   "metadata": {
    "pycharm": {
     "name": "#%%\n"
    }
   },
   "outputs": [],
   "source": [
    "# Ihr Code\n",
    "df_covid: pd.DataFrame = pd.read_csv(RKI_data_simplified)\n",
    "df_cwa: pd.DataFrame = pd.read_csv(cwa_data)\n",
    "\n",
    "df_covid['Meldedatum'] = pd.to_datetime(df_covid['Meldedatum'])\n",
    "df_covid.set_index('Meldedatum',inplace=True)\n",
    "\n",
    "df_cwa['Meldedatum'] = pd.to_datetime(df_cwa['Meldedatum'])\n",
    "df_cwa.set_index('Meldedatum',inplace=True)\n"
   ]
  },
  {
   "cell_type": "markdown",
   "metadata": {
    "pycharm": {
     "name": "#%% md\n"
    }
   },
   "source": [
    "(3) Bestimmen Sie tagesgenau den prozentualen Anteil der Neuinfizierten, die durch die Corona-Warn-App gemeldet wurden, an der gesamten Anzahl der Neuinfizierten (Spalte \"Deutschland\"), die durch das Robert-Koch-Institut gemeldet wurden. <span style=\"color:red;font-weight:bold\">\\[ /6\\] Punkte</span>"
   ]
  },
  {
   "cell_type": "code",
   "execution_count": 58,
   "metadata": {
    "pycharm": {
     "name": "#%%\n"
    }
   },
   "outputs": [
    {
     "data": {
      "text/plain": [
       "Meldedatum\n",
       "2020-06-22    0.000000\n",
       "2020-06-23    0.049724\n",
       "2020-06-24    0.041833\n",
       "2020-06-25    0.033451\n",
       "2020-06-26    0.040280\n",
       "2020-06-27    0.120482\n",
       "2020-06-28    0.071795\n",
       "2020-06-29    0.038760\n",
       "2020-06-30    0.059361\n",
       "2020-07-01    0.057816\n",
       "2020-07-02    0.072687\n",
       "2020-07-03    0.043127\n",
       "2020-07-04    0.048035\n",
       "dtype: float64"
      ]
     },
     "execution_count": 58,
     "metadata": {},
     "output_type": "execute_result"
    }
   ],
   "source": [
    "# Ihr Code\n",
    "cwa_percent = (df_cwa['AnzahlFall'] / df_covid_ger)\n",
    "cwa_percent.dropna()"
   ]
  },
  {
   "cell_type": "markdown",
   "metadata": {
    "pycharm": {
     "name": "#%% md\n"
    }
   },
   "source": [
    "(4) Visualisieren Sie in einem Bar-Plot den prozentualen Anteil, den Sie in Schritt (3) ermittelt haben, als Funktion des Meldedatums. <span style=\"color:red;font-weight:bold\">\\[ /5\\] Punkte</span>\n",
    "\n",
    "- Die x-Achse ist mit \"Meldedatum\" beschriftet. (1 Punkte)\n",
    "- Auf der x-Achse stehen Datumsangaben (z.B: '2020-03-17' oder 'Apr 2020'), keine bloßen Integers. (2 Punkte)  \n",
    "- Der Titel der Abbildung lautet \"prozentualer Anteil gemeldeter Fälle\". (1 Punkte)"
   ]
  },
  {
   "cell_type": "code",
   "execution_count": 59,
   "metadata": {
    "pycharm": {
     "name": "#%%\n"
    }
   },
   "outputs": [
    {
     "data": {
      "text/plain": [
       "<BarContainer object of 144 artists>"
      ]
     },
     "execution_count": 59,
     "metadata": {},
     "output_type": "execute_result"
    },
    {
     "data": {
      "image/png": "[encoded data removed]",
      "text/plain": [
       "<Figure size 720x504 with 1 Axes>"
      ]
     },
     "metadata": {
      "needs_background": "light"
     },
     "output_type": "display_data"
    }
   ],
   "source": [
    "# Ihr Code\n",
    "plt.xlabel('Meldedatum')\n",
    "plt.title('Anzahl Neuinfektionen')\n",
    "plt.bar(cwa_percent.index, cwa_percent)"
   ]
  },
  {
   "cell_type": "markdown",
   "metadata": {
    "pycharm": {
     "name": "#%% md\n"
    }
   },
   "source": [
    "(5) Wieviel Prozent aller Neuinfizierten vom 2. Juli wurden durch die Corona-Warn-App gemeldet? Ermitteln Sie diese Prozentzahl und nennen Sie sie. <span style=\"color:red;font-weight:bold\">\\[ /5\\] Punkte</span>"
   ]
  },
  {
   "cell_type": "code",
   "execution_count": 60,
   "metadata": {
    "pycharm": {
     "name": "#%%\n"
    }
   },
   "outputs": [
    {
     "data": {
      "text/plain": [
       "0.07268722466960352"
      ]
     },
     "execution_count": 60,
     "metadata": {},
     "output_type": "execute_result"
    }
   ],
   "source": [
    "# Ihr Code\n",
    "cwa_percent['07-02-2020']"
   ]
  },
  {
   "cell_type": "markdown",
   "metadata": {
    "pycharm": {
     "name": "#%% md\n"
    }
   },
   "source": [
    "<span style=\"color:green;font-weight:bold\">\n",
    "7,27%\n",
    "</span>"
   ]
  },
  {
   "cell_type": "markdown",
   "metadata": {
    "pycharm": {
     "name": "#%% md\n"
    }
   },
   "source": [
    "### Aufgabe: Werbeindustrie\n",
    "\n",
    "#### <span style=\"color:red\">Erreichbare Punktzahl: 12</span>\n",
    "\n",
    "Der folgende Datenfall ist echt und wurde für die Klausurstellung anonymisiert:\n",
    "\n",
    "Ein Data Scientist einer Firma, die im Bereich Onlinewerbung tätig ist, fragt um Rat. Die Firma möchte anhand von Beobachtungen verschiedene Personengruppen identifizieren. Es liegen Daten von $N=700000$ Personen mit je $D=100000$ Merkmalen (Features) vor.\n",
    "\n",
    "Der Data Scientist hat eine explorative Datenanalyse (EDA) wie folgt vorgenommen:\n",
    "\n",
    "1. Die Dimension des Feature-Raums wurde mithilfe einer PCA (Principal Component Analysis) von 100000 auf $D^\\prime = 3500$ Dimensionen reduziert.\n",
    "\n",
    "2. Um eine Intuition über die in diesem dimensionsreduzierten Feature-Raum etwaig vorhandenen Cluster zu erhalten, wurden mit einem nichtlinearen Verfahren des Multidimensionalen Skalierens (MDS) die Daten in zwei Dimensionen dargestellt. Folgende Abbildung ergab sich:\n",
    "\n",
    "<img src=\"https://data.bialonski.de/ds/8zktDhGjvm5UFu5ltnPSQAaifDcXLFwkR0kiTCjW.png\" alt=\"Feature-Space\" style=\"width: 500px;\"/>\n",
    "\n",
    "Arbeiten Sie unter folgenden Annahmen:\n",
    "\n",
    "- Das MDS-Verfahren funktioniert wahrheitsgetreu.\n",
    "- Die PCA wurde korrekt implementiert.\n",
    "\n",
    "**Ihre Aufgaben**\n",
    "\n",
    "(1) Untersuchen Sie die oben dargestellte Analysekette des Data Scientist: Welche Aspekte müssen Sie hinterfragen bzw. kritisieren? Notieren Sie stichwortartig Ihre Fragen bzw. Kritikpunkte. (Bei zwei Kritikpunkten bzw. Fragen sind Sie schon gut unterwegs). <span style=\"color:red;font-weight:bold\">\\[ /6\\] Punkte</span>\n",
    "\n"
   ]
  },
  {
   "cell_type": "markdown",
   "metadata": {
    "pycharm": {
     "name": "#%% md\n"
    }
   },
   "source": [
    "<span style=\"color:green;font-weight:bold\">\n",
    "\n",
    "- Woher kommen die 3500 als Größe? Kann es sein, dass es dadurch zu einer Verfälschung der Daten kommt, weil die 3500 ausgewählten Features eine Verzerrung verursachen? Oder anders gefragt: Könnte es sein, dass eine PCA auf weniger als 3500 Features und darauffolgende 2D Skalierung zu einem besseren Ergebnis geführt hätte?\n",
    "\n",
    "- Woher weiß man, dass man nichtlinear Skalieren muss? Kann es sein, dass eine lineare Skalierung vielleicht bessere Ergebnisse liefern könnte?\n",
    "    </span>"
   ]
  },
  {
   "cell_type": "markdown",
   "metadata": {
    "pycharm": {
     "name": "#%% md\n"
    }
   },
   "source": [
    "(2) Der Data Scientist hat die in der obigen Abbildung erkennbaren Clusterstrukturen untersucht. Der rot eingekreiste Bereich markiert einen Cluster, der tatsächlich einer Personengruppe entspricht, wie er herausgefunden hat. Solche Cluster möchte er über ein geeignetes Clusterverfahren aus dem Feature-Raum extrahieren. <span style=\"color:red;font-weight:bold\">\\[ /6\\] Punkte</span>\n",
    "\n",
    "* Nennen Sie genau ein Clusterverfahren aus der Vorlesung *Data Science*, welches Sie ihm vorschlagen. (4 Punkte)\n"
   ]
  },
  {
   "cell_type": "markdown",
   "metadata": {
    "pycharm": {
     "name": "#%% md\n"
    }
   },
   "source": [
    "<span style=\"color:green;font-weight:bold\">\n",
    "K-Means Clustering\n",
    "</span>"
   ]
  },
  {
   "cell_type": "markdown",
   "metadata": {
    "pycharm": {
     "name": "#%% md\n"
    }
   },
   "source": [
    "* Begründen Sie Ihre Entscheidung für das von Ihnen vorgeschlagene Clusterverfahren und grenzen Sie es zu alternativen Verfahren ab. (1-5 Sätze) (2 Punkte)"
   ]
  },
  {
   "cell_type": "markdown",
   "metadata": {
    "pycharm": {
     "name": "#%% md\n"
    }
   },
   "source": [
    "<span style=\"color:green;font-weight:bold\">\n",
    "Wir kennen die Daten nicht, aber wenn es um Personengruppen geht, kommt es häufig vor, dass diese Mengen sich stark überschneiden und sich nicht gut trennen lassen. Das alternative Verfahren wäre ein hierarchisches Clusterverfahren (HCA), dadurch setzt man jedoch voraus, dass sich eine Hierarchie finden lassen muss, was in diesem Fall nicht sicher gestellt ist. Es könnte sein, wenn die Personengruppen bspw. Angestellte einer Firma sind, dass dadurch durch z.B. Gehalt und Vermögen eine Hierarchie aufbauen lässt, hierbei handelt es sich aber um ein vieldimensinales Profil von Werbekunden, welche analysiert werden. Somit lässt sich keine gute Hierarchie aufbauen (weil bspw. das Geschlecht nicht heirarhcische sortierbar ist).\n",
    "Außerdem lassen sich durch die Abstände von K-Means ähnliche Features gut zusammenfassen (Ein hohes Vermögen geht häufig mit einem hohen Gehalt und Bildungsstand einher, sodass diese Features sehr nah beieinander sind, was häufig durch Projektion erhalten bleibt und diese Nähe lässt sich dann gut finden)\n",
    "</span>"
   ]
  }
 ],
 "metadata": {
  "hide_input": false,
  "interpreter": {
   "hash": "56de633c5edf993cd5861a5e500898b7cf76119064ac4906482b26a80606c5b3"
  },
  "kernelspec": {
   "display_name": "Python 3.8.6 ('venv': venv)",
   "language": "python",
   "name": "python3"
  },
  "language_info": {
   "codemirror_mode": {
    "name": "ipython",
    "version": 3
   },
   "file_extension": ".py",
   "mimetype": "text/x-python",
   "name": "python",
   "nbconvert_exporter": "python",
   "pygments_lexer": "ipython3",
   "version": "3.8.6"
  },
  "learntools_metadata": {
   "lesson_index": 0,
   "type": "exercise"
  }
 },
 "nbformat": 4,
 "nbformat_minor": 1
}