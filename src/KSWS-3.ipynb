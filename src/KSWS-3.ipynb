{
 "cells": [
  {
   "cell_type": "markdown",
   "metadata": {
    "collapsed": false,
    "pycharm": {
     "name": "#%% md\n"
    }
   },
   "source": [
    "# Übung 3\n",
    "\n",
    "**Gruppenname:**\n",
    "\n",
    "*KSWS*\n",
    "\n",
    "<font color='red'>Anmerkung: <br>\n",
    "Aufgrund der genutzten Type Hints wird Python 3.9 oder hoeher zur\n",
    "Ausfuehrung benoetigt.\n",
    "</font>"
   ]
  },
  {
   "cell_type": "markdown",
   "metadata": {
    "pycharm": {
     "name": "#%% md\n"
    }
   },
   "source": [
    "### 3.1 Summary Statistics\n",
    "\n",
    "Sie haben in der Vorlesung gesehen, dass *Summary Statistics* hilfreich sind, um erste Informationen über einen Datensatz zu erhalten und zusammenzufassen. In dieser Aufgabe werden Sie diese Techniken anwenden und untersuchen.\n",
    "\n",
    "* Arbeiten Sie mit der Bibliothek *pandas*, die Sie in der letzten Übung kennengelernt haben. Dabei wird es auch darum gehen, Ihre Pandas Fertigkeiten zu festigen und zu vertiefen. Nutzen Sie auch Suchmaschinen und die Dokumentation von Pandas online, um die Befehle für die verschiedenen unten geforderten Arbeitsschritte herauszufinden.\n",
    "\n",
    "**Ihre Daten**\n",
    "\n",
    "* Sie finden die Daten, die Sie für diese Übung benötigen, [hier](https://data.bialonski.de/ds/mysterious_data.csv)."
   ]
  },
  {
   "cell_type": "markdown",
   "metadata": {
    "pycharm": {
     "name": "#%% md\n"
    }
   },
   "source": [
    "### In dieser Übung ...\n",
    "\n",
    "... werden Sie explorative Datenanalyse (EDA) kennenlernen und Prinzipien guter Visualisierung einsetzen. Nebenbei werden Sie mit den Software-Bibliotheken vertrauter, die Sie für Ihre Data Science Arbeiten nutzen."
   ]
  },
  {
   "cell_type": "code",
   "execution_count": 1,
   "metadata": {
    "pycharm": {
     "name": "#%%\n"
    }
   },
   "outputs": [],
   "source": [
    "# Dateipfade (relativ zum Uebungsblatt)\n",
    "mysterious_data_path:str = \"mysterious_data.csv\""
   ]
  },
  {
   "cell_type": "markdown",
   "metadata": {
    "pycharm": {
     "name": "#%% md\n"
    }
   },
   "source": [
    "\n",
    "\n",
    "**Ihre Aufgaben**\n",
    "\n",
    "(1) Importieren Sie die oben angegebene Datei mithilfe von Pandas. Interpretieren Sie dabei die 0-te Spalte als Index. **Bitte visualisieren Sie die Daten zunächst nicht**! Zur Visualisierung kommen Sie noch im Schritt (6) dieser Übung."
   ]
  },
  {
   "cell_type": "code",
   "execution_count": 80,
   "metadata": {
    "pycharm": {
     "name": "#%%\n"
    }
   },
   "outputs": [
    {
     "data": {
      "text/html": [
       "<div>\n",
       "<style scoped>\n",
       "    .dataframe tbody tr th:only-of-type {\n",
       "        vertical-align: middle;\n",
       "    }\n",
       "\n",
       "    .dataframe tbody tr th {\n",
       "        vertical-align: top;\n",
       "    }\n",
       "\n",
       "    .dataframe thead th {\n",
       "        text-align: right;\n",
       "    }\n",
       "</style>\n",
       "<table border=\"1\" class=\"dataframe\">\n",
       "  <thead>\n",
       "    <tr style=\"text-align: right;\">\n",
       "      <th></th>\n",
       "      <th>x</th>\n",
       "      <th>y</th>\n",
       "    </tr>\n",
       "    <tr>\n",
       "      <th>dataset</th>\n",
       "      <th></th>\n",
       "      <th></th>\n",
       "    </tr>\n",
       "  </thead>\n",
       "  <tbody>\n",
       "    <tr>\n",
       "      <th>mystery</th>\n",
       "      <td>55.3846</td>\n",
       "      <td>97.1795</td>\n",
       "    </tr>\n",
       "    <tr>\n",
       "      <th>mystery</th>\n",
       "      <td>51.5385</td>\n",
       "      <td>96.0256</td>\n",
       "    </tr>\n",
       "    <tr>\n",
       "      <th>mystery</th>\n",
       "      <td>46.1538</td>\n",
       "      <td>94.4872</td>\n",
       "    </tr>\n",
       "    <tr>\n",
       "      <th>mystery</th>\n",
       "      <td>42.8205</td>\n",
       "      <td>91.4103</td>\n",
       "    </tr>\n",
       "    <tr>\n",
       "      <th>mystery</th>\n",
       "      <td>40.7692</td>\n",
       "      <td>88.3333</td>\n",
       "    </tr>\n",
       "  </tbody>\n",
       "</table>\n",
       "</div>"
      ],
      "text/plain": [
       "               x        y\n",
       "dataset                  \n",
       "mystery  55.3846  97.1795\n",
       "mystery  51.5385  96.0256\n",
       "mystery  46.1538  94.4872\n",
       "mystery  42.8205  91.4103\n",
       "mystery  40.7692  88.3333"
      ]
     },
     "execution_count": 80,
     "metadata": {},
     "output_type": "execute_result"
    }
   ],
   "source": [
    "import pandas as pd\n",
    "import os\n",
    "RessourcePath = \"..\\\\Ressources\" # Basis Pfad zum Ressourcen Ordner ( enthaelt die csv Dateien )\n",
    "# Import and set index\n",
    "mysterious_data_frame : pd.DataFrame = pd.read_csv( os.path.join(RessourcePath, mysterious_data_path) )\n",
    "mysterious_data_frame                = mysterious_data_frame.set_index(\"dataset\")\n",
    "\n",
    "# Output\n",
    "mysterious_data_frame.head()"
   ]
  },
  {
   "cell_type": "code",
   "execution_count": 81,
   "metadata": {
    "pycharm": {
     "name": "#%%\n"
    }
   },
   "outputs": [],
   "source": [
    "# Pandas Profiling ist ein Modul, welches eine detailliertere Statistic als pandas.describe\n",
    "# in einer User GUI aufstellt. Auskommentieren Sie die folgenden Codezeilen fuer diese Zusatsstatistik\n",
    "#import pandas_profiling\n",
    "#mysterious_data_frame.profile_report()"
   ]
  },
  {
   "cell_type": "markdown",
   "metadata": {
    "pycharm": {
     "name": "#%% md\n"
    }
   },
   "source": [
    "(2) Ihr Index enthält die Bezeichnung verschiedener Datensätze. Wie viele verschiedenen Datensätze enthalten Ihre Daten und wie heißen diese? (kurze Angabe bzw. Ausgabe genügt)"
   ]
  },
  {
   "cell_type": "code",
   "execution_count": 82,
   "metadata": {
    "pycharm": {
     "name": "#%%\n"
    }
   },
   "outputs": [
    {
     "name": "stdout",
     "output_type": "stream",
     "text": [
      "['mystery', 'away', 'h_lines', 'v_lines', 'x_shape', 'star', 'high_lines', 'dots', 'circle', 'bullseye', 'slant_up', 'slant_down', 'wide_lines']\n"
     ]
    }
   ],
   "source": [
    "data_set_names:list[str] = list(  mysterious_data_frame.index.unique() )\n",
    "print( data_set_names )"
   ]
  },
  {
   "cell_type": "markdown",
   "metadata": {
    "pycharm": {
     "name": "#%% md\n"
    }
   },
   "source": [
    "(3) Wie heißen Ihre Spalten?"
   ]
  },
  {
   "cell_type": "code",
   "execution_count": 83,
   "metadata": {
    "pycharm": {
     "name": "#%%\n"
    }
   },
   "outputs": [
    {
     "name": "stdout",
     "output_type": "stream",
     "text": [
      "['x', 'y']\n"
     ]
    }
   ],
   "source": [
    "print( list(mysterious_data_frame.columns) )"
   ]
  },
  {
   "cell_type": "markdown",
   "metadata": {
    "pycharm": {
     "name": "#%% md\n"
    }
   },
   "source": [
    "(4) Bestimmen Sie die Summary Statistics \"[Mittelwert](https://pandas.pydata.org/pandas-docs/stable/reference/api/pandas.DataFrame.mean.html)\" und \"[Standardabweichung](https://pandas.pydata.org/pandas-docs/stable/reference/api/pandas.DataFrame.std.html)\" für jede Spalte eines jeden Datensatzes einzeln sowie den [Korrelationskoeffizienten](https://pandas.pydata.org/pandas-docs/stable/reference/api/pandas.DataFrame.corr.html) zwischen den beiden Spalten für jeden Datensatz und geben Sie diese drei Summary Statistics auf [zwei Nachkommastellen](https://pyformat.info/) genau an. "
   ]
  },
  {
   "cell_type": "code",
   "execution_count": 84,
   "metadata": {
    "pycharm": {
     "name": "#%%\n"
    }
   },
   "outputs": [],
   "source": [
    "def get_Statistics(data_frame : pd.DataFrame, columns: list )->list:\n",
    "    '''Extrahiert Mittelwert, Standardabweichung und Korrelationskoeffizient\n",
    "\n",
    "    Param:\n",
    "        data_frame : pandas DataFrame\n",
    "        columns    : Spalten, fuer welche die Statistik durchgefuert werden soll\n",
    "\n",
    "    Returns:\n",
    "        - Mittelwert\n",
    "        - Standardabweichung\n",
    "        - Korrelationskoeffizient\n",
    "    '''\n",
    "    mittelwert  : float = data_frame[columns].mean()\n",
    "    stdabw      : float = data_frame[columns].std()\n",
    "    korrelation : float = data_frame[columns].corr()\n",
    "\n",
    "    return [mittelwert, stdabw, korrelation]"
   ]
  },
  {
   "cell_type": "code",
   "execution_count": 85,
   "metadata": {
    "pycharm": {
     "name": "#%%\n"
    }
   },
   "outputs": [
    {
     "name": "stdout",
     "output_type": "stream",
     "text": [
      "\n",
      "   | Mittelwert | Standardabweichung |  Korrelation \n",
      "\n",
      "mystery                                  \n",
      "x  |   54.26    |       16.77        |     -0.06    \n",
      "y  |   47.83    |       26.94        |     -0.06    \n",
      "------------------------------------------------\n",
      "away                                     \n",
      "x  |   54.27    |       16.77        |     -0.06    \n",
      "y  |   47.83    |       26.94        |     -0.06    \n",
      "------------------------------------------------\n",
      "h_lines                                  \n",
      "x  |   54.26    |       16.77        |     -0.06    \n",
      "y  |   47.83    |       26.94        |     -0.06    \n",
      "------------------------------------------------\n",
      "v_lines                                  \n",
      "x  |   54.27    |       16.77        |     -0.07    \n",
      "y  |   47.84    |       26.94        |     -0.07    \n",
      "------------------------------------------------\n",
      "x_shape                                  \n",
      "x  |   54.26    |       16.77        |     -0.07    \n",
      "y  |   47.84    |       26.93        |     -0.07    \n",
      "------------------------------------------------\n",
      "star                                     \n",
      "x  |   54.27    |       16.77        |     -0.06    \n",
      "y  |   47.84    |       26.93        |     -0.06    \n",
      "------------------------------------------------\n",
      "high_lines                               \n",
      "x  |   54.27    |       16.77        |     -0.07    \n",
      "y  |   47.84    |       26.94        |     -0.07    \n",
      "------------------------------------------------\n",
      "dots                                     \n",
      "x  |   54.26    |       16.77        |     -0.06    \n",
      "y  |   47.84    |       26.93        |     -0.06    \n",
      "------------------------------------------------\n",
      "circle                                   \n",
      "x  |   54.27    |       16.76        |     -0.07    \n",
      "y  |   47.84    |       26.93        |     -0.07    \n",
      "------------------------------------------------\n",
      "bullseye                                 \n",
      "x  |   54.27    |       16.77        |     -0.07    \n",
      "y  |   47.83    |       26.94        |     -0.07    \n",
      "------------------------------------------------\n",
      "slant_up                                 \n",
      "x  |   54.27    |       16.77        |     -0.07    \n",
      "y  |   47.83    |       26.94        |     -0.07    \n",
      "------------------------------------------------\n",
      "slant_down                               \n",
      "x  |   54.27    |       16.77        |     -0.07    \n",
      "y  |   47.84    |       26.94        |     -0.07    \n",
      "------------------------------------------------\n",
      "wide_lines                               \n",
      "x  |   54.27    |       16.77        |     -0.07    \n",
      "y  |   47.83    |       26.94        |     -0.07    \n",
      "------------------------------------------------\n"
     ]
    }
   ],
   "source": [
    "print(\"\\n{:<2} | {:^10} | {:^18} | {:^13}\\n\".format(\"\",\"Mittelwert\",\"Standardabweichung\",\"Korrelation\"))\n",
    "for data_set in data_set_names:\n",
    "    print(\"{:<41}\".format(data_set))\n",
    "    subSet : pd.DataFrame = mysterious_data_frame[mysterious_data_frame.index==data_set]\n",
    "    stats  : list         = get_Statistics(subSet,[\"x\",\"y\"])  \n",
    "    print(\"{:<2} | {:^10.2f} | {:^18.2f} | {:^13.2f}\".format(\"x\",stats[0][0],stats[1][0],stats[2][\"x\"][\"y\"]))\n",
    "    print(\"{:<2} | {:^10.2f} | {:^18.2f} | {:^13.2f}\".format(\"y\",stats[0][1],stats[1][1],stats[2][\"y\"][\"x\"]))\n",
    "    print(\"------------------------------------------------\")"
   ]
  },
  {
   "cell_type": "markdown",
   "metadata": {
    "pycharm": {
     "name": "#%% md\n"
    }
   },
   "source": [
    "(5) Unterscheiden sich die Datensätze in den Summary Statistics (zwei Nachkommastellen) aus Schritt (4)?"
   ]
  },
  {
   "cell_type": "markdown",
   "metadata": {
    "pycharm": {
     "name": "#%% md\n"
    }
   },
   "source": [
    "<font color='green'>ANTWORT: <br>\n",
    "Alle Mittelwerte liegen bei x = 54.27 und y = 47.83 <br>\n",
    "Die Standardabweichung liegt immer bei x = 16.77 und y = 26.94 <br>\n",
    "Die Korrelationskoeffizienten variieren \n",
    "</font>"
   ]
  },
  {
   "cell_type": "markdown",
   "metadata": {
    "pycharm": {
     "name": "#%% md\n"
    }
   },
   "source": [
    "(6) Visualisierung: Erstellen Sie für jeden Datensatz **außer \"mystery\"** einen Scatter-Plot. Unterscheiden sich die Datensätze? Falls ja, gibt es große oder kleine Unterschiede? (1-5 Worte)"
   ]
  },
  {
   "cell_type": "code",
   "execution_count": 86,
   "metadata": {
    "pycharm": {
     "name": "#%%\n"
    }
   },
   "outputs": [
    {
     "data": {
      "image/png": "[encoded data removed]",
      "text/plain": [
       "<Figure size 1008x720 with 12 Axes>"
      ]
     },
     "metadata": {
      "needs_background": "light"
     },
     "output_type": "display_data"
    }
   ],
   "source": [
    "# Visualisierung der Datensätze als Punkte Plots um DataSnooping durch Annahmen zu vermeiden\n",
    "import matplotlib.pyplot as plt\n",
    "\n",
    "\n",
    "# Set up the plot\n",
    "row_num:int = 3\n",
    "col_num:int = 4\n",
    "fig, ax     = plt.subplots(nrows  = row_num,\n",
    "                           ncols  = col_num, \n",
    "                           sharex = True, \n",
    "                           sharey = True,\n",
    "                           figsize=(14,10)\n",
    "                           )\n",
    "#fig.suptitle=\"Vergleich der Datenpunkte fuer die einzelnen 'datasets'\"\n",
    "fig_row:int = 0\n",
    "fig_col:int = 0\n",
    "\n",
    "# Plot the data without mystery set\n",
    "no_mystery_data:list = data_set_names.copy()\n",
    "no_mystery_data.remove(\"mystery\")\n",
    "\n",
    "for data_set in no_mystery_data:\n",
    "    # Create a subset only holding the specified dataSet\n",
    "    subSet : pd.DataFrame = mysterious_data_frame[mysterious_data_frame.index == data_set]\n",
    "\n",
    "    # Create a scatter plot on the defined figure in a separate plot window\n",
    "    ax[fig_row][fig_col].scatter(data = subSet, \n",
    "                                    x = \"x\", \n",
    "                                    y = \"y\" )\n",
    "    ax[fig_row][fig_col].set(title=f\"{data_set}\")\n",
    "\n",
    "    # Update the fig row and col\n",
    "    fig_row += 1\n",
    "    if (fig_row >= row_num  ):\n",
    "        fig_col += 1\n",
    "        fig_row  = 0\n",
    "    "
   ]
  },
  {
   "cell_type": "markdown",
   "metadata": {
    "pycharm": {
     "name": "#%% md\n"
    }
   },
   "source": [
    "<font color='green'>ANTWORT: <br>\n",
    "Es gibt große Unterschiede.\n",
    "</font>"
   ]
  },
  {
   "cell_type": "markdown",
   "metadata": {
    "pycharm": {
     "name": "#%% md\n"
    }
   },
   "source": [
    "(7) Nehmen Sie sich die Folien zur heutigen Vorlesung zur Hand: Benennen Sie nun den Datensatz aus der Vorlesung, bei dem Sie ein ähnliches Phänomen beobachtet haben. (2 Worte)"
   ]
  },
  {
   "cell_type": "markdown",
   "metadata": {
    "pycharm": {
     "name": "#%% md\n"
    }
   },
   "source": [
    "<font color='green'>ANTWORT: <br>\n",
    "Anscombes Quartett\n",
    "</font>\n"
   ]
  },
  {
   "cell_type": "markdown",
   "metadata": {
    "pycharm": {
     "name": "#%% md\n"
    }
   },
   "source": [
    "(8) Visualisieren Sie nun den Datensatz **mystery** in einem Scatter-Plot."
   ]
  },
  {
   "cell_type": "code",
   "execution_count": 87,
   "metadata": {
    "pycharm": {
     "name": "#%%\n"
    }
   },
   "outputs": [
    {
     "data": {
      "image/png": "[encoded data removed]",
      "text/plain": [
       "<Figure size 432x288 with 1 Axes>"
      ]
     },
     "metadata": {
      "needs_background": "light"
     },
     "output_type": "display_data"
    }
   ],
   "source": [
    "subSet : pd.DataFrame = mysterious_data_frame[mysterious_data_frame.index == \"mystery\"]\n",
    "_ = subSet.plot.scatter(x=\"x\",y=\"y\",title=f\"Scatter Plot aller Daten im SubSet\\n mystery\")"
   ]
  },
  {
   "cell_type": "markdown",
   "metadata": {
    "pycharm": {
     "name": "#%% md\n"
    }
   },
   "source": [
    "Damit darf ich Ihnen gratulieren. Sie haben gerade einen bekannten Datensatz kennengelernt. Wenn Sie mit der Übung fertig sind, dekodieren Sie die nachfolgende [ROT13-kodierte Nachricht](http://rot13.de/) und lesen Sie sie:\n",
    "\n",
    "Uremyvpura Tyüpxjhafpu. Fvr unora fbrora qra \"QngnFnhehf\" ragqrpxg. Qvrfrf Trfpuöcs fgnzzg hefceüatyvpu iba Nyoregb Pnveb, qre na qre Havirefvgl bs Zvnzv Ivfhryyra Wbheanyvfzhf yrueg, haq gnhpugr mhz refgra Zny va rvarz Gjrrg iba Pnveb nhs: uggcf://gjvggre.pbz/nyoregbpnveb/fgnghf/765167969139765250/cubgb/1 \n",
    "\n",
    "Frvar Zrffntr vfg xyne: Qba'g gehfg fhzznel fgngvfgvpf. Nyjnlf ivfhnyvmr lbhe qngn svefg. \n",
    "\n",
    "Qre QngnFnhehf ung rf vamjvfpura mh xyrvare Oreüuzgurvg reynatg. Uvagre qrz anpusbytraqra Yvax xöaara Fvr frura, jvr qre Qngrafngm, qra Fvr trenqr nanylfvreg unora, ragfgnaqra vfg: uggcf://jjj.nhgbqrfxerfrnepu.pbz/choyvpngvbaf/fnzrfgngf"
   ]
  },
  {
   "cell_type": "markdown",
   "metadata": {
    "pycharm": {
     "name": "#%% md\n"
    }
   },
   "source": [
    "### 3.2 Visualisierung Teil 1 (Weltgesundheit)\n",
    "\n",
    "Die Visualisierung von Daten gehört zu den Tätigkeiten, die Sie als Data Scientist sehr häufig ausführen werden. Das Erstellen aussagekräftiger Abbildungen ist zeitintensiv, wird Ihnen aber mit wachsender Übung immer leichter fallen.\n",
    "\n",
    "In dieser Übung werden Sie einen Datensatz visualisieren und interpretieren, der in den letzten Jahren oft diskutiert wurde. Sie werden untersuchen, wie es um die Gesundheit und den Wohlstand der Weltbevölkerung (zurzeit etwa 7,6 Milliarden Menschen) steht. Die Daten stammen aus unterschiedlichen Quellen und wurden von der gemeinnützigen Gapminder-Stiftung zusammengeführt, die es sich zum Ziel gemacht hat, Menschen mit Statistiken über den Zustand der Welt aufzuklären.\n",
    "\n",
    "**Ihre Aufgaben**\n",
    "\n",
    "(1) Führen Sie die unten angeführte Code-Zelle aus, um die Daten zu importieren."
   ]
  },
  {
   "cell_type": "code",
   "execution_count": 3,
   "metadata": {
    "pycharm": {
     "name": "#%%\n"
    }
   },
   "outputs": [
    {
     "ename": "ModuleNotFoundError",
     "evalue": "No module named 'gapminder'",
     "output_type": "error",
     "traceback": [
      "\u001B[1;31m---------------------------------------------------------------------------\u001B[0m",
      "\u001B[1;31mModuleNotFoundError\u001B[0m                       Traceback (most recent call last)",
      "\u001B[1;32m~\\AppData\\Local\\Temp\\ipykernel_6308\\2053378838.py\u001B[0m in \u001B[0;36m<cell line: 1>\u001B[1;34m()\u001B[0m\n\u001B[1;32m----> 1\u001B[1;33m \u001B[1;32mfrom\u001B[0m \u001B[0mgapminder\u001B[0m \u001B[1;32mimport\u001B[0m \u001B[0mgapminder\u001B[0m\u001B[1;33m\u001B[0m\u001B[1;33m\u001B[0m\u001B[0m\n\u001B[0m",
      "\u001B[1;31mModuleNotFoundError\u001B[0m: No module named 'gapminder'"
     ]
    }
   ],
   "source": [
    "from gapminder import gapminder"
   ]
  },
  {
   "cell_type": "markdown",
   "metadata": {
    "pycharm": {
     "name": "#%% md\n"
    }
   },
   "source": [
    "(2) Welche Spalten sind in Ihrem Datensatz enthalten? (kurze Liste der Spalten)"
   ]
  },
  {
   "cell_type": "code",
   "execution_count": 89,
   "metadata": {
    "pycharm": {
     "name": "#%%\n"
    }
   },
   "outputs": [
    {
     "data": {
      "text/plain": [
       "['country', 'continent', 'year', 'lifeExp', 'pop', 'gdpPercap']"
      ]
     },
     "execution_count": 89,
     "metadata": {},
     "output_type": "execute_result"
    }
   ],
   "source": [
    "list(gapminder.columns)\n",
    "#gapminder.profile_report()"
   ]
  },
  {
   "cell_type": "markdown",
   "metadata": {
    "pycharm": {
     "name": "#%% md\n"
    }
   },
   "source": [
    "(3) Machen Sie eine Kurzrecherche und klären Sie für sich: Was ist \"GDP\"? Was bedeutet \"per capita\"? (1-2 Sätze)"
   ]
  },
  {
   "cell_type": "markdown",
   "metadata": {
    "pycharm": {
     "name": "#%% md\n"
    }
   },
   "source": [
    "<font color='green'>ANTWORT: <br>\n",
    "GDP        : Gross domestic product, Bruttoinlandsprodukt <br>\n",
    "per capita : pro Kopf\n",
    "</font>"
   ]
  },
  {
   "cell_type": "markdown",
   "metadata": {
    "pycharm": {
     "name": "#%% md\n"
    }
   },
   "source": [
    "(4) Erstellen Sie eine Abbildung (Scatter-Plot), auf der Sie die Lebenserwartung (y-Achse) gegen GDP per capita (x-Achse) für jedes Land auftragen - *und zwar für das im Datensatz enthaltene neueste Jahr*. Skalieren Sie die x-Achse logarithmisch. Skalieren Sie die Größe der Punkte proportional zur Population des Landes.\n",
    "\n",
    "* Hinweis: Um diese Teilaufgabe umzusetzen, recherchieren Sie gerne im Netz, wie Sie Pandas oder Matplotlib so verwenden können, damit Sie diese Aufgabe umsetzen können."
   ]
  },
  {
   "cell_type": "code",
   "execution_count": 90,
   "metadata": {
    "pycharm": {
     "name": "#%%\n"
    }
   },
   "outputs": [],
   "source": [
    "def plot_GDP_vs_pop(gapminder:pd.DataFrame, year:str):\n",
    "    \"\"\"Erzeugt fuer ein Jahr aus dem DataFrame einen Plot\n",
    "    Param:\n",
    "        - gapminder = gapminder dataframe\n",
    "        - year         = Jahr \n",
    "    Plot:\n",
    "    - x = GDP per Cap,\n",
    "    - y = life Expectancy,\n",
    "    - Markergröße = Population in 10^7\n",
    "    \"\"\"\n",
    "    \n",
    "    # Isoliere die Reihe fuer jedes Land, in welcher die groesste Jahreszahl steht\n",
    "    Gdp_per_cap:pd.DataFrame    = gapminder[['country','gdpPercap',\"lifeExp\",\"pop\"]][gapminder[\"year\"]==year]\n",
    "\n",
    "    # Fuege eine neue Spalte mit der umskalierten Populationsgroeße ein\n",
    "    Gdp_per_cap[\"pop_per_10^7\"] = Gdp_per_cap[\"pop\"]/10000000\n",
    "\n",
    "    # Visualisiere die Daten\n",
    "    fig, ax = plt.subplots(1)\n",
    "    _ = ax.scatter(data = Gdp_per_cap,\n",
    "                    x = \"gdpPercap\",\n",
    "                    y = \"lifeExp\",\n",
    "                    s = \"pop_per_10^7\")\n",
    "    _ = ax.set(\n",
    "            xscale = \"log\",\n",
    "            xlabel = \"Bruttoinlandsprodukt ( log )\",\n",
    "            ylabel = \"Maximale Lebenserwartung\",\n",
    "            title  = \"Expected lifetime by Country Wealth\")"
   ]
  },
  {
   "cell_type": "code",
   "execution_count": 91,
   "metadata": {
    "pycharm": {
     "name": "#%%\n"
    }
   },
   "outputs": [
    {
     "data": {
      "image/png": "[encoded data removed]",
      "text/plain": [
       "<Figure size 432x288 with 1 Axes>"
      ]
     },
     "metadata": {
      "needs_background": "light"
     },
     "output_type": "display_data"
    }
   ],
   "source": [
    "year  = gapminder[\"year\"].max()\n",
    "plot_GDP_vs_pop(gapminder,year)"
   ]
  },
  {
   "cell_type": "markdown",
   "metadata": {
    "pycharm": {
     "name": "#%% md\n"
    }
   },
   "source": [
    "(5) Interpretieren Sie Ihre Abbildung. Sehen Sie Zusammenhänge zwischen Lebenserwartung und GDP per Capita? (1-2 Sätze)"
   ]
  },
  {
   "cell_type": "markdown",
   "metadata": {
    "pycharm": {
     "name": "#%% md\n"
    }
   },
   "source": [
    "<font color='green'>ANTWORT: <br>\n",
    "Für die logarithmische x-Achse ist ein grob linearer Zusammenhang erkennbar => <br>\n",
    "ein logarithmische Zusammenhangzwischen der finanziellen Lage des Landes und der maximalen Lebenserwartung.\n",
    "Es ist grob ein Trend zur Annährung an eine asymptotische Grenze für eine maximale Lebenserwartung zwischen 90 un 100 Erkennbar. <br>\n",
    "Der visuelle Zusammenhang muss nicht einem logischen Sachzusammenhang entsprechen.\n",
    "</font>"
   ]
  },
  {
   "cell_type": "markdown",
   "metadata": {
    "pycharm": {
     "name": "#%% md\n"
    }
   },
   "source": [
    "(6) Erweitern Sie Ihre Abbildung aus Schritt (4), in dem Sie die Informationen über die Kontinente integrieren: Identifizieren Sie zunächst die Kontinente, die im Datensatz angeführt werden. Färben Sie die Punkte der Länder gemäß Ihrer Kontinentzugehörigkeit ein. \n",
    "\n",
    "* Hinweis: Um diese Teilaufgabe umzusetzen, recherchieren Sie gerne im Netz, wie Sie Pandas oder Matplotlib so verwenden können, damit Sie diese Aufgabe umsetzen können."
   ]
  },
  {
   "cell_type": "code",
   "execution_count": 92,
   "metadata": {
    "pycharm": {
     "name": "#%%\n"
    }
   },
   "outputs": [],
   "source": [
    "import matplotlib.pyplot as plt\n",
    "import numpy             as np \n",
    "\n",
    "def plot_Gdp_vs_pop_continent(gapminder:pd.DataFrame, year:str):\n",
    "    # Isoliere die Reihe fuer jedes Land, in welcher die groesste Jahreszahl steht\n",
    "    Gdp_per_cap:pd.DataFrame    = gapminder[['country','gdpPercap',\"lifeExp\",\"pop\"]][gapminder[\"year\"]==year]\n",
    "    \n",
    "    # Fuege eine neue Spalte mit der umskalierten Populationsgroeße ein\n",
    "    Gdp_per_cap[\"pop_per_10^7\"] = Gdp_per_cap[\"pop\"]/10000000\n",
    "    \n",
    "    # Ordne durch einen Merge jeder Reihe den Kontinent zu\n",
    "    kontinten_fuer_land   : pd.DataFrame = gapminder[['country',\"continent\"]].drop_duplicates('country')\n",
    "    Gdp_per_cap_continent : pd.DataFrame = Gdp_per_cap.merge(kontinten_fuer_land, on='country')\n",
    "\n",
    "    # Ordne jedem Kontinent eine eindeutige Farbe zu \n",
    "    continents : pd.core.series.Series   = kontinten_fuer_land[\"continent\"].drop_duplicates()\n",
    "\n",
    "    # Haendische Zuordnung, da sonst kleine Marker schwer zu erkennen sind\n",
    "                                    #     Asia,   Europe,   Africa,  Americas, Oceania\n",
    "    colors          : list[str]     = [\"yellow\"  ,\"blue\",   \"green\",   \"black\",   \"red\"]\n",
    "    kontinent_color : dict[str,str] = dict(zip(continents,colors))\n",
    "    \n",
    "    # Alternative Farbzuordnung\n",
    "    #cmap            = plt.get_cmap('tab10')\n",
    "    #colors          = cmap(np.linspace(0, 1,len(continents) ))\n",
    "\n",
    "    # Vergrößerung der Marker, da Länder mit niedriger Bevölkerung sonst nicht mehr sichtbar sind\n",
    "    Gdp_per_cap_continent_scaled_up : pd.DataFrame    = Gdp_per_cap_continent.copy()\n",
    "    Gdp_per_cap_continent_scaled_up[\"pop_per_10^7\"]   = Gdp_per_cap_continent_scaled_up[\"pop_per_10^7\"]*3\n",
    "\n",
    "    # Fuer jeden Kontinent (key) wird ein eigener DataFrame (value) erstellt\n",
    "    GDP_per_cap_continent_groups : pd.core.groupby.generic.DataFrameGroupBy = Gdp_per_cap_continent_scaled_up.groupby(\"continent\")\n",
    "\n",
    "    # Plot vorbereiten, damit alle Laender in einer Graphik angezeigt werden koennen\n",
    "    fig,ax = plt.subplots(1,figsize=(9,9))\n",
    "\n",
    "    # Iteriere ueber alle Teildataframes fuer die verschiedenen Kontinente\n",
    "    for continent, continent_df in GDP_per_cap_continent_groups:\n",
    "        ax.scatter(data  = continent_df,\n",
    "                x     = \"gdpPercap\",  \n",
    "                y     = \"lifeExp\",  \n",
    "                s     = \"pop_per_10^7\",  \n",
    "                c     = continent_df['continent'].map(kontinent_color),  \n",
    "                label = continent )  \n",
    "\n",
    "    # Setze die uebrigen Plot Parameter\n",
    "    _ = ax.set(\n",
    "            xscale = \"log\",\n",
    "            xlabel = \"Bruttoinlandsprodukt ( log )\",\n",
    "            ylabel = \"Maximale Lebenserwartung\",\n",
    "            title  = \"Expected lifetime by Country Wealth\")\n",
    "\n",
    "    legend = ax.legend()"
   ]
  },
  {
   "cell_type": "code",
   "execution_count": 93,
   "metadata": {
    "pycharm": {
     "name": "#%%\n"
    }
   },
   "outputs": [
    {
     "data": {
      "image/png": "[encoded data removed]",
      "text/plain": [
       "<Figure size 648x648 with 1 Axes>"
      ]
     },
     "metadata": {
      "needs_background": "light"
     },
     "output_type": "display_data"
    }
   ],
   "source": [
    "year  = gapminder[\"year\"].max()\n",
    "plot_Gdp_vs_pop_continent(gapminder,year)"
   ]
  },
  {
   "cell_type": "markdown",
   "metadata": {
    "pycharm": {
     "name": "#%% md\n"
    }
   },
   "source": [
    "(7) Interpretieren Sie Ihre Abbildung aus Schritt (6). Gibt es Tendenzen bezüglich der Kontinentzugehörigkeit der Länder? Falls ja, welche? (1-3 Sätze)."
   ]
  },
  {
   "cell_type": "markdown",
   "metadata": {
    "pycharm": {
     "name": "#%% md\n"
    }
   },
   "source": [
    "<font color='green'>ANTWORT: <br>\n",
    "Europa und Amerika sind fast vollständig im oberen rechten viertel Vertreten - Wohlhabend und Langlebig. <br>\n",
    "Währendessen ist Afrika im unteren linken viertel Vertreten - wenig Wohlhabend und kurzlebig. <br>\n",
    "Fuer Afrika scheint es einen Trend zu einem niedrigeren Supremum fuer die Lebenserwartung zu geben. <br>\n",
    "Oceania ist schwer zu erkennen, liegt jedoch dicht bei Europa. <br>\n",
    "Asien ist eher in der Mitte Vertreten - mittel Langlebig und mittel Wohlhabend ( dabei ist die logarithmische Skalierung zu beachten)\n",
    "</font>"
   ]
  },
  {
   "cell_type": "markdown",
   "metadata": {
    "pycharm": {
     "name": "#%% md\n"
    }
   },
   "source": [
    "(8) Erzeugen Sie eine neue Abbildung, die dieselben Informationen wie Ihre Abbildung in Schritt (6) zeigt, nur aus dem Jahr 1967. Vergleichen Sie diese Abbildung mit der aus Schritt (6). Was hat sich verändert und wie interpretieren Sie dies? (1-3 Sätze)"
   ]
  },
  {
   "cell_type": "code",
   "execution_count": 94,
   "metadata": {
    "pycharm": {
     "name": "#%%\n"
    }
   },
   "outputs": [
    {
     "data": {
      "image/png": "[encoded data removed]",
      "text/plain": [
       "<Figure size 648x648 with 1 Axes>"
      ]
     },
     "metadata": {
      "needs_background": "light"
     },
     "output_type": "display_data"
    }
   ],
   "source": [
    "year = 1967\n",
    "plot_Gdp_vs_pop_continent(gapminder,year)"
   ]
  },
  {
   "cell_type": "markdown",
   "metadata": {
    "pycharm": {
     "name": "#%% md\n"
    }
   },
   "source": [
    "<font color='green'>ANTWORT: <br>\n",
    "Allgemein wird in der heutigen Zeit eine höhere Lebzeit erreicht. <br>\n",
    "Europa, Amerika und Oceanien waren bereits 1967 wohlhabend und langlebig. <br>\n",
    "Afrika ist wenig wohlhabend und wenig langlebig geblieben. <br>\n",
    "Asien hat einen Aufschwung erlebt, da es 1967 eher im mittleren bis linken unteren Bereich vertreten war - wenig wohlhaben und wenig langlebig. <br>\n",
    "</font>"
   ]
  },
  {
   "cell_type": "markdown",
   "metadata": {
    "pycharm": {
     "name": "#%% md\n"
    }
   },
   "source": [
    "(9) \\[Optional\\] Machen Sie Ihre Abbildung interaktiv. Nutzen Sie die `interact` Funktion, um eine Abbildung zu erzeugen, in der Sie mithilfe eines Reglers das Jahr einstellen können, für das die Abbildung erzeugt werden soll. Wie verändern sich Lebenserwartung und GDP per Capita über die Jahre hinweg? (1-3 Sätze)\n",
    "\n",
    "* Hinweis: Um diese Teilaufgabe umzusetzen, recherchieren Sie im Netz und lesen Sie unter anderem [hier](https://ipywidgets.readthedocs.io/en/stable/examples/Using%20Interact.html) nach, wie Sie `interact` nutzen können."
   ]
  },
  {
   "cell_type": "code",
   "execution_count": 2,
   "metadata": {
    "pycharm": {
     "name": "#%%\n"
    }
   },
   "outputs": [
    {
     "ename": "NameError",
     "evalue": "name 'gapminder' is not defined",
     "output_type": "error",
     "traceback": [
      "\u001B[1;31m---------------------------------------------------------------------------\u001B[0m",
      "\u001B[1;31mNameError\u001B[0m                                 Traceback (most recent call last)",
      "\u001B[1;32m~\\AppData\\Local\\Temp\\ipykernel_6308\\2339554693.py\u001B[0m in \u001B[0;36m<cell line: 9>\u001B[1;34m()\u001B[0m\n\u001B[0;32m      7\u001B[0m \u001B[1;33m\u001B[0m\u001B[0m\n\u001B[0;32m      8\u001B[0m \u001B[1;31m# Konstanten\u001B[0m\u001B[1;33m\u001B[0m\u001B[1;33m\u001B[0m\u001B[0m\n\u001B[1;32m----> 9\u001B[1;33m \u001B[0myears\u001B[0m       \u001B[1;33m=\u001B[0m \u001B[0mgapminder\u001B[0m\u001B[1;33m[\u001B[0m\u001B[1;34m\"year\"\u001B[0m\u001B[1;33m]\u001B[0m\u001B[1;33m.\u001B[0m\u001B[0mdrop_duplicates\u001B[0m\u001B[1;33m(\u001B[0m\u001B[1;33m)\u001B[0m\u001B[1;33m\u001B[0m\u001B[1;33m\u001B[0m\u001B[0m\n\u001B[0m\u001B[0;32m     10\u001B[0m \u001B[0mmin_lifeExp\u001B[0m \u001B[1;33m=\u001B[0m \u001B[0mgapminder\u001B[0m\u001B[1;33m[\u001B[0m\u001B[1;34m\"lifeExp\"\u001B[0m\u001B[1;33m]\u001B[0m\u001B[1;33m.\u001B[0m\u001B[0mmin\u001B[0m\u001B[1;33m(\u001B[0m\u001B[1;33m)\u001B[0m\u001B[1;33m\u001B[0m\u001B[1;33m\u001B[0m\u001B[0m\n\u001B[0;32m     11\u001B[0m \u001B[0mmax_lifeExp\u001B[0m \u001B[1;33m=\u001B[0m \u001B[0mgapminder\u001B[0m\u001B[1;33m[\u001B[0m\u001B[1;34m\"lifeExp\"\u001B[0m\u001B[1;33m]\u001B[0m\u001B[1;33m.\u001B[0m\u001B[0mmax\u001B[0m\u001B[1;33m(\u001B[0m\u001B[1;33m)\u001B[0m\u001B[1;33m\u001B[0m\u001B[1;33m\u001B[0m\u001B[0m\n",
      "\u001B[1;31mNameError\u001B[0m: name 'gapminder' is not defined"
     ]
    }
   ],
   "source": [
    "from __future__ import print_function\n",
    "import ipywidgets as widgets\n",
    "\n",
    "# Import um Matplotlib Warnung ueber unbeschriftete Legenden zu unterdruecken\n",
    "import logging\n",
    "logging.getLogger().setLevel(logging.CRITICAL)\n",
    "\n",
    "# Konstanten\n",
    "years       = gapminder[\"year\"].drop_duplicates()\n",
    "min_lifeExp = gapminder[\"lifeExp\"].min()\n",
    "max_lifeExp = gapminder[\"lifeExp\"].max()\n",
    "min_GPD     = 10e2\n",
    "max_GPD     = 10e5\n",
    "\n",
    "# Ordne jedem Kontinent eine eindeutige Farbe zu \n",
    "kontinten_fuer_land : pd.DataFrame = gapminder[['country',\"continent\"]].drop_duplicates('country')\n",
    "continents                         = kontinten_fuer_land[\"continent\"].drop_duplicates()\n",
    "colors:list[str]                   = [\"yellow\"  ,\"blue\",   \"green\",   \"black\",   \"red\"]\n",
    "kontinent_color:dict[str,str]      = dict(zip(continents,colors))\n",
    "\n",
    "# Interaction function\n",
    "def f(year,continent_choice):\n",
    "    \n",
    "    # Erzeuge den DataFrame fuer das Gewaehlte Jahr\n",
    "    Gdp_per_cap           : pd.DataFrame   = gapminder[['country','gdpPercap',\"lifeExp\",\"pop\"]][gapminder[\"year\"]==year]\n",
    "    Gdp_per_cap[\"pop_per_10^7\"]            = Gdp_per_cap[\"pop\"]/10000000\n",
    "    Gdp_per_cap_continent : pd.DataFrame   = Gdp_per_cap.merge(kontinten_fuer_land, on='country')\n",
    "\n",
    "    # Vergrößerung der Marker, da Länder mit niedriger Bevölkerung sonst nicht mehr sichtbar sind\n",
    "    Gdp_per_cap_continet_scaled_up : pd.DataFrame  = Gdp_per_cap_continent.copy()\n",
    "    Gdp_per_cap_continet_scaled_up[\"pop_per_10^7\"] = Gdp_per_cap_continet_scaled_up[\"pop_per_10^7\"]*3\n",
    "\n",
    "    # Fuer jeden Kontinent wird eine getrennte Gruppe erstellt, um die Farb- und Labelzurodnung zu ermoeglichen\n",
    "    continent_group:pd.core.groupby.generic.DataFrameGroupBy = Gdp_per_cap_continet_scaled_up.groupby(\"continent\")\n",
    "    \n",
    "    #Plot vorbereiten, damit alle Laender in einer Graphik angezeigt werden koennen\n",
    "    fig,ax = plt.subplots(1)\n",
    "    fig.set_size_inches(7,7)\n",
    "    \n",
    "    for continent, continent_df in continent_group:\n",
    "        \n",
    "        if(continent in continent_choice):\n",
    "            \n",
    "            ax.scatter(data  = continent_df,\n",
    "                          x  = \"gdpPercap\",  \n",
    "                          y  = \"lifeExp\",  \n",
    "                          s  = \"pop_per_10^7\",  \n",
    "                          c  = continent_df['continent'].map(kontinent_color),  \n",
    "                      label  = continent )  \n",
    "\n",
    "        # Setze die uebrigen Parameter\n",
    "        ax.set(title = f\"Expected lifetime by Country Wealth {year}\",\n",
    "              xlabel = \"GDP per Cap\",\n",
    "              ylabel = \"Life Expectancy\",\n",
    "                xlim = [min_GPD,max_GPD],\n",
    "                ylim = [min_lifeExp,max_lifeExp],\n",
    "              xscale = \"log\")\n",
    "        ax.legend()\n",
    "        \n",
    "print(\"Waehlen Sie ein oher mehrere Kontinente aus der Tabelle und waehlen Sie das Jahr über den Slider\")\n",
    "_ = widgets.interact( f, year=widgets.SelectionSlider(options=years),continent_choice=widgets.SelectMultiple(options=continents) )"
   ]
  },
  {
   "cell_type": "markdown",
   "metadata": {
    "pycharm": {
     "name": "#%% md\n"
    }
   },
   "source": [
    "<font color='green'>ANTWORT: <br>\n",
    "Werden die Länder einzeln Betrachtet so ist für alle Länder eine deutliche Entwicklung\n",
    "zu einer höheren Lebenserwartung und einem höheren GDP zu beobachten.\n",
    "</font>"
   ]
  },
  {
   "cell_type": "markdown",
   "metadata": {
    "pycharm": {
     "name": "#%% md\n"
    }
   },
   "source": [
    "### 3.3 Visualisierung Teil 2 (Geburtenraten)\n",
    "\n",
    "In dieser Aufgabe werden Sie Ihre Fähigkeiten, Daten zu visualisieren, weiter verfeinern. Wir werden uns wieder Daten der Gapminder Stiftung anschauen.\n",
    "\n",
    "* Da diese Übung an die obere Übung anschließt, gehe ich davon aus, dass Sie nun vertrauter mit der Visualisierung von Daten sind. Daher sind die Anweisungen in dieser Übungsaufgabe etwas freier gehalten.\n",
    "\n",
    "**Ihre Daten**\n",
    "\n",
    "* Sie finden die Daten, die Sie für diese Übung benötigen, [hier](https://data.bialonski.de/ds/child_mortality_0_5_year_olds_dying_per_1000_born.csv) (Datensatz 1) und [hier](https://data.bialonski.de/ds/children_per_woman_total_fertility.csv) (Datensatz 2).\n",
    "\n",
    "**Ihre Aufgaben**\n",
    "\n",
    "(1) Importieren Sie die oben aufgeführten Datensätze."
   ]
  },
  {
   "cell_type": "code",
   "execution_count": 96,
   "metadata": {
    "pycharm": {
     "name": "#%%\n"
    }
   },
   "outputs": [],
   "source": [
    "child_mortality : pd.DataFrame = pd.read_csv( os.path.join(RessourcePath,\"child_mortality_0_5_year_olds_dying_per_1000_born.csv\") )\n",
    "fertilily       : pd.DataFrame = pd.read_csv( os.path.join(RessourcePath, \"children_per_woman_total_fertility.csv\") )"
   ]
  },
  {
   "cell_type": "markdown",
   "metadata": {
    "pycharm": {
     "name": "#%% md\n"
    }
   },
   "source": [
    "(2) Interpretieren Sie die Dateinamen und schauen Sie in die Datensätze: Was enthalten Ihre Datensätze für Daten?"
   ]
  },
  {
   "cell_type": "markdown",
   "metadata": {
    "pycharm": {
     "name": "#%% md\n"
    }
   },
   "source": [
    "<font color='green'>ANTWORT: <br>\n",
    "Interpretation: child mortality <br>\n",
    "Die Steblichkeitsrate von 0 bis 5 Jährigen Kinder in einer Einheit von Verstorbenen pro 1000 Geburten. <br>\n",
    "Interpretation: children per woman <br>\n",
    "Anzahl der Geburten pro Frau <br> <br>\n",
    "Nach der Betrachtung : <br>\n",
    "Die beschriebenden Daten pro Land und Jahr - 1800 bis 2018\n",
    "</font>"
   ]
  },
  {
   "cell_type": "code",
   "execution_count": 97,
   "metadata": {
    "pycharm": {
     "name": "#%%\n"
    }
   },
   "outputs": [
    {
     "data": {
      "text/html": [
       "<div>\n",
       "<style scoped>\n",
       "    .dataframe tbody tr th:only-of-type {\n",
       "        vertical-align: middle;\n",
       "    }\n",
       "\n",
       "    .dataframe tbody tr th {\n",
       "        vertical-align: top;\n",
       "    }\n",
       "\n",
       "    .dataframe thead th {\n",
       "        text-align: right;\n",
       "    }\n",
       "</style>\n",
       "<table border=\"1\" class=\"dataframe\">\n",
       "  <thead>\n",
       "    <tr style=\"text-align: right;\">\n",
       "      <th></th>\n",
       "      <th>country</th>\n",
       "      <th>1800</th>\n",
       "      <th>1801</th>\n",
       "      <th>1802</th>\n",
       "      <th>1803</th>\n",
       "      <th>1804</th>\n",
       "      <th>1805</th>\n",
       "      <th>1806</th>\n",
       "      <th>1807</th>\n",
       "      <th>1808</th>\n",
       "      <th>...</th>\n",
       "      <th>2009</th>\n",
       "      <th>2010</th>\n",
       "      <th>2011</th>\n",
       "      <th>2012</th>\n",
       "      <th>2013</th>\n",
       "      <th>2014</th>\n",
       "      <th>2015</th>\n",
       "      <th>2016</th>\n",
       "      <th>2017</th>\n",
       "      <th>2018</th>\n",
       "    </tr>\n",
       "  </thead>\n",
       "  <tbody>\n",
       "    <tr>\n",
       "      <th>0</th>\n",
       "      <td>Afghanistan</td>\n",
       "      <td>469.0</td>\n",
       "      <td>469.0</td>\n",
       "      <td>469.0</td>\n",
       "      <td>469.0</td>\n",
       "      <td>469.0</td>\n",
       "      <td>469.0</td>\n",
       "      <td>470.0</td>\n",
       "      <td>470.0</td>\n",
       "      <td>470.0</td>\n",
       "      <td>...</td>\n",
       "      <td>94.1</td>\n",
       "      <td>90.2</td>\n",
       "      <td>86.4</td>\n",
       "      <td>82.8</td>\n",
       "      <td>79.3</td>\n",
       "      <td>76.1</td>\n",
       "      <td>73.2</td>\n",
       "      <td>70.4</td>\n",
       "      <td>68.2</td>\n",
       "      <td>65.9</td>\n",
       "    </tr>\n",
       "    <tr>\n",
       "      <th>1</th>\n",
       "      <td>Albania</td>\n",
       "      <td>375.0</td>\n",
       "      <td>375.0</td>\n",
       "      <td>375.0</td>\n",
       "      <td>375.0</td>\n",
       "      <td>375.0</td>\n",
       "      <td>375.0</td>\n",
       "      <td>375.0</td>\n",
       "      <td>375.0</td>\n",
       "      <td>375.0</td>\n",
       "      <td>...</td>\n",
       "      <td>17.2</td>\n",
       "      <td>16.6</td>\n",
       "      <td>16.0</td>\n",
       "      <td>15.4</td>\n",
       "      <td>14.9</td>\n",
       "      <td>14.4</td>\n",
       "      <td>14.0</td>\n",
       "      <td>13.5</td>\n",
       "      <td>13.3</td>\n",
       "      <td>12.9</td>\n",
       "    </tr>\n",
       "    <tr>\n",
       "      <th>2</th>\n",
       "      <td>Algeria</td>\n",
       "      <td>460.0</td>\n",
       "      <td>460.0</td>\n",
       "      <td>460.0</td>\n",
       "      <td>460.0</td>\n",
       "      <td>460.0</td>\n",
       "      <td>460.0</td>\n",
       "      <td>460.0</td>\n",
       "      <td>460.0</td>\n",
       "      <td>460.0</td>\n",
       "      <td>...</td>\n",
       "      <td>28.3</td>\n",
       "      <td>27.3</td>\n",
       "      <td>26.6</td>\n",
       "      <td>26.1</td>\n",
       "      <td>25.8</td>\n",
       "      <td>25.6</td>\n",
       "      <td>25.5</td>\n",
       "      <td>25.2</td>\n",
       "      <td>23.9</td>\n",
       "      <td>23.1</td>\n",
       "    </tr>\n",
       "    <tr>\n",
       "      <th>3</th>\n",
       "      <td>Andorra</td>\n",
       "      <td>NaN</td>\n",
       "      <td>NaN</td>\n",
       "      <td>NaN</td>\n",
       "      <td>NaN</td>\n",
       "      <td>NaN</td>\n",
       "      <td>NaN</td>\n",
       "      <td>NaN</td>\n",
       "      <td>NaN</td>\n",
       "      <td>NaN</td>\n",
       "      <td>...</td>\n",
       "      <td>3.4</td>\n",
       "      <td>3.3</td>\n",
       "      <td>3.2</td>\n",
       "      <td>3.1</td>\n",
       "      <td>3.0</td>\n",
       "      <td>2.9</td>\n",
       "      <td>2.8</td>\n",
       "      <td>2.7</td>\n",
       "      <td>NaN</td>\n",
       "      <td>NaN</td>\n",
       "    </tr>\n",
       "    <tr>\n",
       "      <th>4</th>\n",
       "      <td>Angola</td>\n",
       "      <td>486.0</td>\n",
       "      <td>486.0</td>\n",
       "      <td>486.0</td>\n",
       "      <td>486.0</td>\n",
       "      <td>486.0</td>\n",
       "      <td>486.0</td>\n",
       "      <td>486.0</td>\n",
       "      <td>486.0</td>\n",
       "      <td>486.0</td>\n",
       "      <td>...</td>\n",
       "      <td>128.0</td>\n",
       "      <td>119.0</td>\n",
       "      <td>111.0</td>\n",
       "      <td>104.0</td>\n",
       "      <td>96.8</td>\n",
       "      <td>91.2</td>\n",
       "      <td>86.5</td>\n",
       "      <td>82.5</td>\n",
       "      <td>83.1</td>\n",
       "      <td>81.6</td>\n",
       "    </tr>\n",
       "  </tbody>\n",
       "</table>\n",
       "<p>5 rows × 220 columns</p>\n",
       "</div>"
      ],
      "text/plain": [
       "       country   1800   1801   1802   1803   1804   1805   1806   1807   1808  \\\n",
       "0  Afghanistan  469.0  469.0  469.0  469.0  469.0  469.0  470.0  470.0  470.0   \n",
       "1      Albania  375.0  375.0  375.0  375.0  375.0  375.0  375.0  375.0  375.0   \n",
       "2      Algeria  460.0  460.0  460.0  460.0  460.0  460.0  460.0  460.0  460.0   \n",
       "3      Andorra    NaN    NaN    NaN    NaN    NaN    NaN    NaN    NaN    NaN   \n",
       "4       Angola  486.0  486.0  486.0  486.0  486.0  486.0  486.0  486.0  486.0   \n",
       "\n",
       "   ...   2009   2010   2011   2012  2013  2014  2015  2016  2017  2018  \n",
       "0  ...   94.1   90.2   86.4   82.8  79.3  76.1  73.2  70.4  68.2  65.9  \n",
       "1  ...   17.2   16.6   16.0   15.4  14.9  14.4  14.0  13.5  13.3  12.9  \n",
       "2  ...   28.3   27.3   26.6   26.1  25.8  25.6  25.5  25.2  23.9  23.1  \n",
       "3  ...    3.4    3.3    3.2    3.1   3.0   2.9   2.8   2.7   NaN   NaN  \n",
       "4  ...  128.0  119.0  111.0  104.0  96.8  91.2  86.5  82.5  83.1  81.6  \n",
       "\n",
       "[5 rows x 220 columns]"
      ]
     },
     "execution_count": 97,
     "metadata": {},
     "output_type": "execute_result"
    }
   ],
   "source": [
    "# Betrachtung der Datensätze\n",
    "child_mortality.head()"
   ]
  },
  {
   "cell_type": "code",
   "execution_count": 98,
   "metadata": {
    "pycharm": {
     "name": "#%%\n"
    }
   },
   "outputs": [
    {
     "data": {
      "text/html": [
       "<div>\n",
       "<style scoped>\n",
       "    .dataframe tbody tr th:only-of-type {\n",
       "        vertical-align: middle;\n",
       "    }\n",
       "\n",
       "    .dataframe tbody tr th {\n",
       "        vertical-align: top;\n",
       "    }\n",
       "\n",
       "    .dataframe thead th {\n",
       "        text-align: right;\n",
       "    }\n",
       "</style>\n",
       "<table border=\"1\" class=\"dataframe\">\n",
       "  <thead>\n",
       "    <tr style=\"text-align: right;\">\n",
       "      <th></th>\n",
       "      <th>country</th>\n",
       "      <th>1800</th>\n",
       "      <th>1801</th>\n",
       "      <th>1802</th>\n",
       "      <th>1803</th>\n",
       "      <th>1804</th>\n",
       "      <th>1805</th>\n",
       "      <th>1806</th>\n",
       "      <th>1807</th>\n",
       "      <th>1808</th>\n",
       "      <th>...</th>\n",
       "      <th>2009</th>\n",
       "      <th>2010</th>\n",
       "      <th>2011</th>\n",
       "      <th>2012</th>\n",
       "      <th>2013</th>\n",
       "      <th>2014</th>\n",
       "      <th>2015</th>\n",
       "      <th>2016</th>\n",
       "      <th>2017</th>\n",
       "      <th>2018</th>\n",
       "    </tr>\n",
       "  </thead>\n",
       "  <tbody>\n",
       "    <tr>\n",
       "      <th>0</th>\n",
       "      <td>Afghanistan</td>\n",
       "      <td>7.00</td>\n",
       "      <td>7.00</td>\n",
       "      <td>7.00</td>\n",
       "      <td>7.00</td>\n",
       "      <td>7.00</td>\n",
       "      <td>7.00</td>\n",
       "      <td>7.00</td>\n",
       "      <td>7.00</td>\n",
       "      <td>7.00</td>\n",
       "      <td>...</td>\n",
       "      <td>6.04</td>\n",
       "      <td>5.82</td>\n",
       "      <td>5.60</td>\n",
       "      <td>5.38</td>\n",
       "      <td>5.17</td>\n",
       "      <td>4.98</td>\n",
       "      <td>4.80</td>\n",
       "      <td>4.64</td>\n",
       "      <td>4.48</td>\n",
       "      <td>4.33</td>\n",
       "    </tr>\n",
       "    <tr>\n",
       "      <th>1</th>\n",
       "      <td>Albania</td>\n",
       "      <td>4.60</td>\n",
       "      <td>4.60</td>\n",
       "      <td>4.60</td>\n",
       "      <td>4.60</td>\n",
       "      <td>4.60</td>\n",
       "      <td>4.60</td>\n",
       "      <td>4.60</td>\n",
       "      <td>4.60</td>\n",
       "      <td>4.60</td>\n",
       "      <td>...</td>\n",
       "      <td>1.65</td>\n",
       "      <td>1.65</td>\n",
       "      <td>1.67</td>\n",
       "      <td>1.69</td>\n",
       "      <td>1.70</td>\n",
       "      <td>1.71</td>\n",
       "      <td>1.71</td>\n",
       "      <td>1.71</td>\n",
       "      <td>1.71</td>\n",
       "      <td>1.71</td>\n",
       "    </tr>\n",
       "    <tr>\n",
       "      <th>2</th>\n",
       "      <td>Algeria</td>\n",
       "      <td>6.99</td>\n",
       "      <td>6.99</td>\n",
       "      <td>6.99</td>\n",
       "      <td>6.99</td>\n",
       "      <td>6.99</td>\n",
       "      <td>6.99</td>\n",
       "      <td>6.99</td>\n",
       "      <td>6.99</td>\n",
       "      <td>6.99</td>\n",
       "      <td>...</td>\n",
       "      <td>2.83</td>\n",
       "      <td>2.89</td>\n",
       "      <td>2.93</td>\n",
       "      <td>2.94</td>\n",
       "      <td>2.92</td>\n",
       "      <td>2.89</td>\n",
       "      <td>2.84</td>\n",
       "      <td>2.78</td>\n",
       "      <td>2.71</td>\n",
       "      <td>2.64</td>\n",
       "    </tr>\n",
       "    <tr>\n",
       "      <th>3</th>\n",
       "      <td>Angola</td>\n",
       "      <td>6.93</td>\n",
       "      <td>6.93</td>\n",
       "      <td>6.93</td>\n",
       "      <td>6.93</td>\n",
       "      <td>6.93</td>\n",
       "      <td>6.93</td>\n",
       "      <td>6.93</td>\n",
       "      <td>6.94</td>\n",
       "      <td>6.94</td>\n",
       "      <td>...</td>\n",
       "      <td>6.24</td>\n",
       "      <td>6.16</td>\n",
       "      <td>6.08</td>\n",
       "      <td>6.00</td>\n",
       "      <td>5.92</td>\n",
       "      <td>5.84</td>\n",
       "      <td>5.77</td>\n",
       "      <td>5.69</td>\n",
       "      <td>5.62</td>\n",
       "      <td>5.55</td>\n",
       "    </tr>\n",
       "    <tr>\n",
       "      <th>4</th>\n",
       "      <td>Antigua and Barbuda</td>\n",
       "      <td>5.00</td>\n",
       "      <td>5.00</td>\n",
       "      <td>4.99</td>\n",
       "      <td>4.99</td>\n",
       "      <td>4.99</td>\n",
       "      <td>4.98</td>\n",
       "      <td>4.98</td>\n",
       "      <td>4.97</td>\n",
       "      <td>4.97</td>\n",
       "      <td>...</td>\n",
       "      <td>2.15</td>\n",
       "      <td>2.13</td>\n",
       "      <td>2.12</td>\n",
       "      <td>2.10</td>\n",
       "      <td>2.09</td>\n",
       "      <td>2.08</td>\n",
       "      <td>2.06</td>\n",
       "      <td>2.05</td>\n",
       "      <td>2.04</td>\n",
       "      <td>2.03</td>\n",
       "    </tr>\n",
       "  </tbody>\n",
       "</table>\n",
       "<p>5 rows × 220 columns</p>\n",
       "</div>"
      ],
      "text/plain": [
       "               country  1800  1801  1802  1803  1804  1805  1806  1807  1808  \\\n",
       "0          Afghanistan  7.00  7.00  7.00  7.00  7.00  7.00  7.00  7.00  7.00   \n",
       "1              Albania  4.60  4.60  4.60  4.60  4.60  4.60  4.60  4.60  4.60   \n",
       "2              Algeria  6.99  6.99  6.99  6.99  6.99  6.99  6.99  6.99  6.99   \n",
       "3               Angola  6.93  6.93  6.93  6.93  6.93  6.93  6.93  6.94  6.94   \n",
       "4  Antigua and Barbuda  5.00  5.00  4.99  4.99  4.99  4.98  4.98  4.97  4.97   \n",
       "\n",
       "   ...  2009  2010  2011  2012  2013  2014  2015  2016  2017  2018  \n",
       "0  ...  6.04  5.82  5.60  5.38  5.17  4.98  4.80  4.64  4.48  4.33  \n",
       "1  ...  1.65  1.65  1.67  1.69  1.70  1.71  1.71  1.71  1.71  1.71  \n",
       "2  ...  2.83  2.89  2.93  2.94  2.92  2.89  2.84  2.78  2.71  2.64  \n",
       "3  ...  6.24  6.16  6.08  6.00  5.92  5.84  5.77  5.69  5.62  5.55  \n",
       "4  ...  2.15  2.13  2.12  2.10  2.09  2.08  2.06  2.05  2.04  2.03  \n",
       "\n",
       "[5 rows x 220 columns]"
      ]
     },
     "execution_count": 98,
     "metadata": {},
     "output_type": "execute_result"
    }
   ],
   "source": [
    "# Betrachtung der Datensätze\n",
    "fertilily.head()"
   ]
  },
  {
   "cell_type": "markdown",
   "metadata": {
    "pycharm": {
     "name": "#%% md\n"
    }
   },
   "source": [
    "(3) Erstellen Sie die erste Abbildung: Tragen Sie in einem Scatter-Plot die Kind-Überlebensrate (in Prozent) (y-Achse) gegen die Kinder pro Frau (x-Achse) für jedes aufgeführte Land für das Jahr 1965 ein."
   ]
  },
  {
   "cell_type": "code",
   "execution_count": 99,
   "metadata": {
    "pycharm": {
     "name": "#%%\n"
    }
   },
   "outputs": [],
   "source": [
    "YEAR:int = 1962\n",
    "\n",
    "# Build the mortality dataframe\n",
    "child_mortality_1962 : pd.DataFrame   = child_mortality[[\"country\",str(YEAR)]].rename( columns = { str(YEAR) : \"mortality\" } )\n",
    "child_mortality_1962[\"survival_perc\"] = 1- ( child_mortality_1962[\"mortality\"]/1000 )\n",
    "child_mortality_1962                  = child_mortality_1962.drop(columns=\"mortality\")\n",
    "#child_mortality_1965.head()"
   ]
  },
  {
   "cell_type": "code",
   "execution_count": 100,
   "metadata": {
    "pycharm": {
     "name": "#%%\n"
    }
   },
   "outputs": [],
   "source": [
    "# Build the fertility dataframe\n",
    "fertility_1962                   = fertilily[[\"country\",str(YEAR)]].rename( columns = { str(YEAR) : \"children_per_woman\" } )\n",
    "#fertility_1962.head()"
   ]
  },
  {
   "cell_type": "code",
   "execution_count": 101,
   "metadata": {
    "pycharm": {
     "name": "#%%\n"
    }
   },
   "outputs": [],
   "source": [
    "# Concatenate\n",
    "fertiliy_mortality_1962 = fertility_1962.merge(child_mortality_1962, on = \"country\")\n",
    "#fertiliy_mortality_1965.head()"
   ]
  },
  {
   "cell_type": "code",
   "execution_count": 102,
   "metadata": {
    "pycharm": {
     "name": "#%%\n"
    }
   },
   "outputs": [
    {
     "data": {
      "image/png": "[encoded data removed]",
      "text/plain": [
       "<Figure size 432x288 with 1 Axes>"
      ]
     },
     "metadata": {
      "needs_background": "light"
     },
     "output_type": "display_data"
    }
   ],
   "source": [
    "# Visualisierung\n",
    "_ = fertiliy_mortality_1962.plot.scatter(x=\"children_per_woman\",\n",
    "                                         y=\"survival_perc\",\n",
    "                                     title=\"Children survival rate agains births per woman\")"
   ]
  },
  {
   "cell_type": "markdown",
   "metadata": {
    "pycharm": {
     "name": "#%% md\n"
    }
   },
   "source": [
    "<font color='green'>ANTWORT: <br>\n",
    "Allgemein scheint zu gelten: Bei wenigen Kindern pro Frau ist eine geringe Kindersterblichkeit zu erwarten.<br>\n",
    "Bei vielen Kinder pro Frau ist die Varianz der Sterblichkeitsrate der Kinder größer.\n",
    "</font>"
   ]
  },
  {
   "cell_type": "markdown",
   "metadata": {
    "pycharm": {
     "name": "#%% md\n"
    }
   },
   "source": [
    "(4) Erweitern Sie die Abbildung aus Schritt (3), indem Sie die Punkte des Scatterplots proportional zur Populationsgröße des jeweiligen Landes skalieren. Dazu werden Sie Informationen aus Übung 3.2 verwenden müssen."
   ]
  },
  {
   "cell_type": "code",
   "execution_count": 103,
   "metadata": {
    "pycharm": {
     "name": "#%%\n"
    }
   },
   "outputs": [],
   "source": [
    "# Erstelle einen DataFrame welcher nur Land und Population enthält\n",
    "land_pop : pd.DataFrame  =  gapminder[[\"country\",\"pop\"]].copy()\n",
    "# Es wurde hier copy genutzt, da Ansosten eine Warnung \"SettingWithCopyWarning\" geworfen wird\n",
    "land_pop[\"pop_per_7k\"]   =  land_pop[\"pop\"]/10000000 \n",
    "# Entferne Pop zur optimierung des Merge Outputs\n",
    "land_pop = land_pop.drop(columns=\"pop\")"
   ]
  },
  {
   "cell_type": "code",
   "execution_count": 104,
   "metadata": {
    "pycharm": {
     "name": "#%%\n"
    }
   },
   "outputs": [
    {
     "data": {
      "text/html": [
       "<div>\n",
       "<style scoped>\n",
       "    .dataframe tbody tr th:only-of-type {\n",
       "        vertical-align: middle;\n",
       "    }\n",
       "\n",
       "    .dataframe tbody tr th {\n",
       "        vertical-align: top;\n",
       "    }\n",
       "\n",
       "    .dataframe thead th {\n",
       "        text-align: right;\n",
       "    }\n",
       "</style>\n",
       "<table border=\"1\" class=\"dataframe\">\n",
       "  <thead>\n",
       "    <tr style=\"text-align: right;\">\n",
       "      <th></th>\n",
       "      <th>country</th>\n",
       "      <th>children_per_woman</th>\n",
       "      <th>survival_perc</th>\n",
       "      <th>pop_per_7k</th>\n",
       "    </tr>\n",
       "  </thead>\n",
       "  <tbody>\n",
       "    <tr>\n",
       "      <th>0</th>\n",
       "      <td>Afghanistan</td>\n",
       "      <td>7.45</td>\n",
       "      <td>0.648</td>\n",
       "      <td>0.842533</td>\n",
       "    </tr>\n",
       "    <tr>\n",
       "      <th>1</th>\n",
       "      <td>Afghanistan</td>\n",
       "      <td>7.45</td>\n",
       "      <td>0.648</td>\n",
       "      <td>0.924093</td>\n",
       "    </tr>\n",
       "    <tr>\n",
       "      <th>2</th>\n",
       "      <td>Afghanistan</td>\n",
       "      <td>7.45</td>\n",
       "      <td>0.648</td>\n",
       "      <td>1.026708</td>\n",
       "    </tr>\n",
       "    <tr>\n",
       "      <th>3</th>\n",
       "      <td>Afghanistan</td>\n",
       "      <td>7.45</td>\n",
       "      <td>0.648</td>\n",
       "      <td>1.153797</td>\n",
       "    </tr>\n",
       "    <tr>\n",
       "      <th>4</th>\n",
       "      <td>Afghanistan</td>\n",
       "      <td>7.45</td>\n",
       "      <td>0.648</td>\n",
       "      <td>1.307946</td>\n",
       "    </tr>\n",
       "  </tbody>\n",
       "</table>\n",
       "</div>"
      ],
      "text/plain": [
       "       country  children_per_woman  survival_perc  pop_per_7k\n",
       "0  Afghanistan                7.45          0.648    0.842533\n",
       "1  Afghanistan                7.45          0.648    0.924093\n",
       "2  Afghanistan                7.45          0.648    1.026708\n",
       "3  Afghanistan                7.45          0.648    1.153797\n",
       "4  Afghanistan                7.45          0.648    1.307946"
      ]
     },
     "execution_count": 104,
     "metadata": {},
     "output_type": "execute_result"
    }
   ],
   "source": [
    "# Merge den Datensatz über die Spalte countries mit der bekannten Populationsgroeße\n",
    "fertiliy_mortality_1962 = fertiliy_mortality_1962.merge(land_pop,on=\"country\")\n",
    "fertiliy_mortality_1962.head()"
   ]
  },
  {
   "cell_type": "code",
   "execution_count": 105,
   "metadata": {
    "pycharm": {
     "name": "#%%\n"
    }
   },
   "outputs": [],
   "source": [
    "def plot_mortality_vs_births(dataFrame:pd.DataFrame, ax, year:int):\n",
    "    \"\"\"Erzeugt einen Plot fuer die gegebene Achse fuer einen spezifischen DataFrame\n",
    "\n",
    "    Param:\n",
    "        dataFrame (pandas.DataFrame): DataFrame mit country,\tchildren_per_woman,\tsurvival_perc,\tpop_per_7k\n",
    "        ax (matplotlib.axes._subplots.AxesSubplot): Beliebige Matplotlib Achse\n",
    "        year (int): Betrachtetes Jahr fuer die Beschriftung. \n",
    "    \"\"\"\n",
    "    _ = ax.scatter( data = dataFrame,\n",
    "                      x = \"children_per_woman\",\n",
    "                      y = \"survival_perc\",\n",
    "                      s = \"pop_per_7k\")\n",
    "    _ = ax.set(\n",
    "                    xlim = [0,10],\n",
    "                    ylim = [0.5,1],\n",
    "                    title = f\"Survival vs Birth {year}\",\n",
    "                    xlabel= \"Geburten pro Frau\",\n",
    "                    ylabel= \"Ueberlebensrate der Kinder\")"
   ]
  },
  {
   "cell_type": "code",
   "execution_count": 106,
   "metadata": {
    "pycharm": {
     "name": "#%%\n"
    }
   },
   "outputs": [
    {
     "data": {
      "image/png": "[encoded data removed]",
      "text/plain": [
       "<Figure size 432x288 with 1 Axes>"
      ]
     },
     "metadata": {
      "needs_background": "light"
     },
     "output_type": "display_data"
    }
   ],
   "source": [
    "fig,ax = plt.subplots(1)\n",
    "plot_mortality_vs_births(fertiliy_mortality_1962,ax,1962)"
   ]
  },
  {
   "cell_type": "markdown",
   "metadata": {
    "pycharm": {
     "name": "#%% md\n"
    }
   },
   "source": [
    "(5) Interpretieren Sie die Abbildung aus Schritt (4). Können Sie verschiedene Cluster von Ländern erkennen? (1-5 Sätze)"
   ]
  },
  {
   "cell_type": "markdown",
   "metadata": {
    "pycharm": {
     "name": "#%% md\n"
    }
   },
   "source": [
    "<font color='green'>ANTWORT: <br>\n",
    "Es sind grob zwei Kluster unterscheidbar. <br>\n",
    "1) Der obere linke Bereich - hier sind Frauen mit wenigen Geburten und niedriger Kindersterblichkeit zu sehen.\n",
    "Die Länder haben eine niedrige bis mittlere Bevölkerungsdichte <br>\n",
    "2) der gesammte rechte Bereich - hier sind Frauen mit vielen Geburten und hoher Varianz in der Kindersterblichkeit zu sehen. Die Länder haben eine stark gestreute Bevölkerungsdichte.\n",
    "</font>"
   ]
  },
  {
   "cell_type": "markdown",
   "metadata": {
    "pycharm": {
     "name": "#%% md\n"
    }
   },
   "source": [
    "(6) Erstellen Sie eine weitere Abbildung wie in Schritt (4), allerdings für das Jahr 2018."
   ]
  },
  {
   "cell_type": "code",
   "execution_count": 107,
   "metadata": {
    "pycharm": {
     "name": "#%%\n"
    }
   },
   "outputs": [],
   "source": [
    "YEAR:int = 2007\n",
    "\n",
    "# Erstelle den child_mortility data Frame\n",
    "child_mortality_2007   : pd.DataFrame   = child_mortality[[\"country\",str(YEAR)]].rename( columns={str(YEAR):\"mortality\"} )\n",
    "child_mortality_2007[\"survival_perc\"]   = 1 - (child_mortality_2007[\"mortality\"]/1000)\n",
    "child_mortality_2007                    = child_mortality_2007.drop(columns=\"mortality\")\n",
    "\n",
    "# Erstelle den Fertilitaets DataFrame\n",
    "fertility_2007          : pd.DataFrame  = fertilily[[\"country\",str(YEAR)]].rename( columns={str(YEAR):\"children_per_woman\"} )\n",
    "fertiliy_mortality_2007 : pd.DataFrame  = fertility_2007.merge(child_mortality_2007,on=\"country\")\n",
    "\n",
    "# Erstelle einen DataFrame welcher nur Land und Population enthält\n",
    "land_pop                : pd.DataFrame  = gapminder[[\"country\",\"pop\"]].copy()\n",
    "land_pop[\"pop_per_7k\"]                  =  land_pop[\"pop\"]/10000000\n",
    "land_pop                                = land_pop.drop(columns=\"pop\")\n",
    "\n",
    "# Merge den Datensatz über die Spalte countries mit der bekannter Populationsgroeße\n",
    "fertiliy_mortality_2007                 = fertiliy_mortality_2007.merge(land_pop,on=\"country\")\n",
    "\n"
   ]
  },
  {
   "cell_type": "code",
   "execution_count": 108,
   "metadata": {
    "pycharm": {
     "name": "#%%\n"
    }
   },
   "outputs": [
    {
     "data": {
      "image/png": "[encoded data removed]",
      "text/plain": [
       "<Figure size 864x360 with 2 Axes>"
      ]
     },
     "metadata": {
      "needs_background": "light"
     },
     "output_type": "display_data"
    }
   ],
   "source": [
    "fig,ax = plt.subplots(1,2,sharex=True, sharey=True)\n",
    "fig.set_size_inches(12,5)\n",
    "\n",
    "plot_mortality_vs_births(fertiliy_mortality_1962,ax[0],1962)\n",
    "plot_mortality_vs_births(fertiliy_mortality_2007,ax[1],2007)"
   ]
  },
  {
   "cell_type": "markdown",
   "metadata": {
    "pycharm": {
     "name": "#%% md\n"
    }
   },
   "source": [
    "(7) Vergleichen Sie Ihre Abbildungen aus Schritt (4) und Schritt (6): Wie haben sich die Daten verändert? Können Sie für das Jahr 2018 weiterhin Cluster erkennen? (1-5 Sätze)"
   ]
  },
  {
   "cell_type": "markdown",
   "metadata": {
    "pycharm": {
     "name": "#%% md\n"
    }
   },
   "source": [
    "<font color='green'>ANTWORT: <br>\n",
    "Die durschnittliche Geburtenanzahl pro Frau scheint leicht gesunken zu sein. <br>\n",
    "Die Sterblichkeitsrate von Kindern ist stark gesunken von max > 55 % auf max < 20 % <br> \n",
    "Länder mit großer Population sind nun fast nur noch bei 2 oder weniger Kinder mit\n",
    "sehr geringer Sterblickeitsrate < 5 % vertreten.\n",
    "</font>"
   ]
  },
  {
   "cell_type": "markdown",
   "metadata": {
    "pycharm": {
     "name": "#%% md\n"
    }
   },
   "source": [
    "(8) Ziehen Sie ein Fazit: Beschreiben Sie in wenigen Sätzen, was Sie aus den beiden Abbildungen lernen."
   ]
  },
  {
   "cell_type": "markdown",
   "metadata": {
    "pycharm": {
     "name": "#%% md\n"
    }
   },
   "source": [
    "<font color='green'>ANTWORT: <br>\n",
    "1) Bei niedriger Geburtenrate ist meist auch die Kindersterblichkeit niedrig\n",
    "2) Im Jahre 1965 streute die Kindersterblichkeit bei hohen Geburtenraten start mit einem Maximum nahe 55%\n",
    "3) Im Vergleich zu 1965 hat sich 2007 die Kindersterblichkeit allgemeins stark abgesenkt mit einem Maximum nahe 20%\n",
    "</font>"
   ]
  },
  {
   "cell_type": "markdown",
   "metadata": {
    "pycharm": {
     "name": "#%% md\n"
    }
   },
   "source": [
    "### 3.4 Visualisierung Teil 3\n",
    "\n",
    "Sie haben in den letzten beiden Aufgaben Daten der Gapminder Stiftung visualisiert. In dieser Aufgabe geht es darum, Daten selbstständig zu analysieren, zu visualisieren und Ihre Erkenntnisse aufzubereiten. \n",
    "\n",
    "**Ihre Aufgaben**\n",
    "\n",
    "(1) Sofern noch nicht geschehen: Tun Sie sich mit einem Kollegen/einer Kollegin zusammen."
   ]
  },
  {
   "cell_type": "markdown",
   "metadata": {
    "pycharm": {
     "name": "#%% md\n"
    }
   },
   "source": [
    "(2) Stöbern Sie gemeinsam in den Datenquellen der Gapminder Stiftung unter [https://www.gapminder.org/data/](https://www.gapminder.org/data/). (Scrollen Sie auf der verlinkten Seite weiter nach unten, um die Datensammlung zu sehen: \"List of indicators in Gapminder Tools\")."
   ]
  },
  {
   "cell_type": "markdown",
   "metadata": {
    "pycharm": {
     "name": "#%% md\n"
    }
   },
   "source": [
    "#### Idee 1"
   ]
  },
  {
   "cell_type": "markdown",
   "metadata": {
    "pycharm": {
     "name": "#%% md\n"
    }
   },
   "source": [
    "(3) Identifizieren Sie Datensätze, die Sie interessant finden. Führen Sie eine explorative Analyse durch, d.h. laden und importieren Sie die Daten, stellen Sie Fragen auf, und erstellen Sie entsprechende Visualisierungen, interpretieren Sie Ihre Befunde."
   ]
  },
  {
   "cell_type": "markdown",
   "metadata": {
    "pycharm": {
     "name": "#%% md\n"
    }
   },
   "source": [
    "> Fragestellung: In den gapminder Datensätzen wurde der Zusammenhang zwischen finanziellen Wohlstand und\n",
    "Lebenserwartung untersucht. Neben dem Bruttoinlandsprodukt ist auch die Arbeitslosigkeit \n",
    "ein Maß für den Wohlstand eines Landes. Daher wäre es interessant, ob\n",
    "es zwischen den Gapminder Daten sowie der Langzeitarbeitslosigkeit einen Zusammenhang gibt."
   ]
  },
  {
   "cell_type": "code",
   "execution_count": 109,
   "metadata": {
    "pycharm": {
     "name": "#%%\n"
    }
   },
   "outputs": [
    {
     "data": {
      "text/html": [
       "<div>\n",
       "<style scoped>\n",
       "    .dataframe tbody tr th:only-of-type {\n",
       "        vertical-align: middle;\n",
       "    }\n",
       "\n",
       "    .dataframe tbody tr th {\n",
       "        vertical-align: top;\n",
       "    }\n",
       "\n",
       "    .dataframe thead th {\n",
       "        text-align: right;\n",
       "    }\n",
       "</style>\n",
       "<table border=\"1\" class=\"dataframe\">\n",
       "  <thead>\n",
       "    <tr style=\"text-align: right;\">\n",
       "      <th></th>\n",
       "      <th>country</th>\n",
       "      <th>1990</th>\n",
       "      <th>1991</th>\n",
       "      <th>1992</th>\n",
       "      <th>1993</th>\n",
       "      <th>1994</th>\n",
       "      <th>1995</th>\n",
       "      <th>1996</th>\n",
       "      <th>1997</th>\n",
       "      <th>1998</th>\n",
       "      <th>...</th>\n",
       "      <th>2011</th>\n",
       "      <th>2012</th>\n",
       "      <th>2013</th>\n",
       "      <th>2014</th>\n",
       "      <th>2015</th>\n",
       "      <th>2016</th>\n",
       "      <th>2017</th>\n",
       "      <th>2018</th>\n",
       "      <th>2019</th>\n",
       "      <th>2020</th>\n",
       "    </tr>\n",
       "  </thead>\n",
       "  <tbody>\n",
       "    <tr>\n",
       "      <th>0</th>\n",
       "      <td>Angola</td>\n",
       "      <td>NaN</td>\n",
       "      <td>NaN</td>\n",
       "      <td>NaN</td>\n",
       "      <td>NaN</td>\n",
       "      <td>NaN</td>\n",
       "      <td>NaN</td>\n",
       "      <td>NaN</td>\n",
       "      <td>NaN</td>\n",
       "      <td>NaN</td>\n",
       "      <td>...</td>\n",
       "      <td>1.56</td>\n",
       "      <td>NaN</td>\n",
       "      <td>NaN</td>\n",
       "      <td>NaN</td>\n",
       "      <td>NaN</td>\n",
       "      <td>NaN</td>\n",
       "      <td>NaN</td>\n",
       "      <td>NaN</td>\n",
       "      <td>NaN</td>\n",
       "      <td>NaN</td>\n",
       "    </tr>\n",
       "    <tr>\n",
       "      <th>1</th>\n",
       "      <td>Albania</td>\n",
       "      <td>NaN</td>\n",
       "      <td>NaN</td>\n",
       "      <td>NaN</td>\n",
       "      <td>NaN</td>\n",
       "      <td>NaN</td>\n",
       "      <td>NaN</td>\n",
       "      <td>NaN</td>\n",
       "      <td>NaN</td>\n",
       "      <td>NaN</td>\n",
       "      <td>...</td>\n",
       "      <td>5.28</td>\n",
       "      <td>5.310</td>\n",
       "      <td>5.560</td>\n",
       "      <td>6.020</td>\n",
       "      <td>6.23</td>\n",
       "      <td>5.92</td>\n",
       "      <td>5.22</td>\n",
       "      <td>4.74</td>\n",
       "      <td>4.25</td>\n",
       "      <td>NaN</td>\n",
       "    </tr>\n",
       "    <tr>\n",
       "      <th>2</th>\n",
       "      <td>United Arab Emirates</td>\n",
       "      <td>NaN</td>\n",
       "      <td>NaN</td>\n",
       "      <td>NaN</td>\n",
       "      <td>NaN</td>\n",
       "      <td>NaN</td>\n",
       "      <td>NaN</td>\n",
       "      <td>NaN</td>\n",
       "      <td>NaN</td>\n",
       "      <td>NaN</td>\n",
       "      <td>...</td>\n",
       "      <td>NaN</td>\n",
       "      <td>NaN</td>\n",
       "      <td>NaN</td>\n",
       "      <td>NaN</td>\n",
       "      <td>NaN</td>\n",
       "      <td>NaN</td>\n",
       "      <td>1.07</td>\n",
       "      <td>NaN</td>\n",
       "      <td>1.04</td>\n",
       "      <td>NaN</td>\n",
       "    </tr>\n",
       "    <tr>\n",
       "      <th>3</th>\n",
       "      <td>Argentina</td>\n",
       "      <td>NaN</td>\n",
       "      <td>NaN</td>\n",
       "      <td>NaN</td>\n",
       "      <td>NaN</td>\n",
       "      <td>NaN</td>\n",
       "      <td>NaN</td>\n",
       "      <td>NaN</td>\n",
       "      <td>NaN</td>\n",
       "      <td>NaN</td>\n",
       "      <td>...</td>\n",
       "      <td>0.79</td>\n",
       "      <td>0.818</td>\n",
       "      <td>0.805</td>\n",
       "      <td>0.863</td>\n",
       "      <td>NaN</td>\n",
       "      <td>NaN</td>\n",
       "      <td>1.15</td>\n",
       "      <td>1.29</td>\n",
       "      <td>1.44</td>\n",
       "      <td>1.38</td>\n",
       "    </tr>\n",
       "    <tr>\n",
       "      <th>4</th>\n",
       "      <td>Armenia</td>\n",
       "      <td>NaN</td>\n",
       "      <td>NaN</td>\n",
       "      <td>NaN</td>\n",
       "      <td>NaN</td>\n",
       "      <td>NaN</td>\n",
       "      <td>NaN</td>\n",
       "      <td>NaN</td>\n",
       "      <td>NaN</td>\n",
       "      <td>NaN</td>\n",
       "      <td>...</td>\n",
       "      <td>NaN</td>\n",
       "      <td>5.790</td>\n",
       "      <td>7.750</td>\n",
       "      <td>7.130</td>\n",
       "      <td>7.09</td>\n",
       "      <td>5.38</td>\n",
       "      <td>5.08</td>\n",
       "      <td>5.47</td>\n",
       "      <td>5.29</td>\n",
       "      <td>NaN</td>\n",
       "    </tr>\n",
       "  </tbody>\n",
       "</table>\n",
       "<p>5 rows × 32 columns</p>\n",
       "</div>"
      ],
      "text/plain": [
       "                country  1990  1991  1992  1993  1994  1995  1996  1997  1998  \\\n",
       "0                Angola   NaN   NaN   NaN   NaN   NaN   NaN   NaN   NaN   NaN   \n",
       "1               Albania   NaN   NaN   NaN   NaN   NaN   NaN   NaN   NaN   NaN   \n",
       "2  United Arab Emirates   NaN   NaN   NaN   NaN   NaN   NaN   NaN   NaN   NaN   \n",
       "3             Argentina   NaN   NaN   NaN   NaN   NaN   NaN   NaN   NaN   NaN   \n",
       "4               Armenia   NaN   NaN   NaN   NaN   NaN   NaN   NaN   NaN   NaN   \n",
       "\n",
       "   ...  2011   2012   2013   2014  2015  2016  2017  2018  2019  2020  \n",
       "0  ...  1.56    NaN    NaN    NaN   NaN   NaN   NaN   NaN   NaN   NaN  \n",
       "1  ...  5.28  5.310  5.560  6.020  6.23  5.92  5.22  4.74  4.25   NaN  \n",
       "2  ...   NaN    NaN    NaN    NaN   NaN   NaN  1.07   NaN  1.04   NaN  \n",
       "3  ...  0.79  0.818  0.805  0.863   NaN   NaN  1.15  1.29  1.44  1.38  \n",
       "4  ...   NaN  5.790  7.750  7.130  7.09  5.38  5.08  5.47  5.29   NaN  \n",
       "\n",
       "[5 rows x 32 columns]"
      ]
     },
     "execution_count": 109,
     "metadata": {},
     "output_type": "execute_result"
    }
   ],
   "source": [
    "unemployment_data : pd.DataFrame = pd.read_csv(os.path.join(RessourcePath,\"long_term_unemployment_rate_percent.csv\"))\n",
    "unemployment_data.head()"
   ]
  },
  {
   "cell_type": "markdown",
   "metadata": {
    "pycharm": {
     "name": "#%% md\n"
    }
   },
   "source": [
    "Betrachtung des Arbeitslosigkeits Datensatzes"
   ]
  },
  {
   "cell_type": "code",
   "execution_count": 110,
   "metadata": {
    "pycharm": {
     "name": "#%%\n"
    }
   },
   "outputs": [
    {
     "data": {
      "application/vnd.jupyter.widget-view+json": {
       "model_id": "9f289d280b454a1db44839451e327f85",
       "version_major": 2,
       "version_minor": 0
      },
      "text/plain": [
       "interactive(children=(SelectionSlider(description='year', options=(1990, 1991, 1992, 1993, 1994, 1995, 1996, 1…"
      ]
     },
     "metadata": {},
     "output_type": "display_data"
    }
   ],
   "source": [
    "import logging\n",
    "logging.getLogger().setLevel(logging.CRITICAL)\n",
    "\n",
    "xmin = unemployment_data.min(numeric_only=True).min()\n",
    "xmax = unemployment_data.max(numeric_only=True).max()\n",
    "years = np.arange(1990,2020,1)\n",
    "\n",
    "def f(year):\n",
    "    fig, ax = plt.subplots(1)\n",
    "    fig.set_size_inches(10,7)\n",
    "    unemployment_data_year = unemployment_data[[\"country\",str(year)]].rename( columns={str(year):\"Arbeitlosigkeit\"} )\n",
    "    _ = ax.scatter(data=unemployment_data_year, x=\"Arbeitlosigkeit\",y =\"country\" )\n",
    "    _ = ax.set(yticks=[\"\"],xlim=[xmin,50],xlabel=\"Arbeitslosigkeit\",ylabel=\"Land\")\n",
    "    \n",
    "    \n",
    "_ = widgets.interact( f, year=widgets.SelectionSlider(options=years))"
   ]
  },
  {
   "cell_type": "markdown",
   "metadata": {
    "pycharm": {
     "name": "#%% md\n"
    }
   },
   "source": [
    "> Mit den Jahren habe immer mehr Laender ihre Arbeitslosigkeitsquote offen gelegt.\n",
    "> Allgemein gibt es einen Trend zu einer niedrigen Arbeitlosigkeit. Dies kann jedoch auch an der Offenlegung\n",
    "der Quoten liegen. "
   ]
  },
  {
   "cell_type": "code",
   "execution_count": 111,
   "metadata": {
    "pycharm": {
     "name": "#%%\n"
    }
   },
   "outputs": [
    {
     "name": "stdout",
     "output_type": "stream",
     "text": [
      "Data without nan rows: \n",
      "\n"
     ]
    },
    {
     "data": {
      "text/html": [
       "<div>\n",
       "<style scoped>\n",
       "    .dataframe tbody tr th:only-of-type {\n",
       "        vertical-align: middle;\n",
       "    }\n",
       "\n",
       "    .dataframe tbody tr th {\n",
       "        vertical-align: top;\n",
       "    }\n",
       "\n",
       "    .dataframe thead th {\n",
       "        text-align: right;\n",
       "    }\n",
       "</style>\n",
       "<table border=\"1\" class=\"dataframe\">\n",
       "  <thead>\n",
       "    <tr style=\"text-align: right;\">\n",
       "      <th></th>\n",
       "      <th>country</th>\n",
       "      <th>unemployment</th>\n",
       "      <th>continent</th>\n",
       "      <th>lifeExp</th>\n",
       "      <th>pop</th>\n",
       "      <th>gdpPercap</th>\n",
       "    </tr>\n",
       "  </thead>\n",
       "  <tbody>\n",
       "    <tr>\n",
       "      <th>1</th>\n",
       "      <td>Albania</td>\n",
       "      <td>5.270</td>\n",
       "      <td>Europe</td>\n",
       "      <td>76.423</td>\n",
       "      <td>3600523</td>\n",
       "      <td>5937.029526</td>\n",
       "    </tr>\n",
       "    <tr>\n",
       "      <th>3</th>\n",
       "      <td>Australia</td>\n",
       "      <td>0.887</td>\n",
       "      <td>Oceania</td>\n",
       "      <td>81.235</td>\n",
       "      <td>20434176</td>\n",
       "      <td>34435.367440</td>\n",
       "    </tr>\n",
       "    <tr>\n",
       "      <th>4</th>\n",
       "      <td>Austria</td>\n",
       "      <td>1.070</td>\n",
       "      <td>Europe</td>\n",
       "      <td>79.829</td>\n",
       "      <td>8199783</td>\n",
       "      <td>36126.492700</td>\n",
       "    </tr>\n",
       "    <tr>\n",
       "      <th>5</th>\n",
       "      <td>Belgium</td>\n",
       "      <td>2.140</td>\n",
       "      <td>Europe</td>\n",
       "      <td>79.441</td>\n",
       "      <td>10392226</td>\n",
       "      <td>33692.605080</td>\n",
       "    </tr>\n",
       "    <tr>\n",
       "      <th>9</th>\n",
       "      <td>Bulgaria</td>\n",
       "      <td>2.330</td>\n",
       "      <td>Europe</td>\n",
       "      <td>73.005</td>\n",
       "      <td>7322858</td>\n",
       "      <td>10680.792820</td>\n",
       "    </tr>\n",
       "  </tbody>\n",
       "</table>\n",
       "</div>"
      ],
      "text/plain": [
       "     country  unemployment continent  lifeExp       pop     gdpPercap\n",
       "1    Albania         5.270    Europe   76.423   3600523   5937.029526\n",
       "3  Australia         0.887   Oceania   81.235  20434176  34435.367440\n",
       "4    Austria         1.070    Europe   79.829   8199783  36126.492700\n",
       "5    Belgium         2.140    Europe   79.441  10392226  33692.605080\n",
       "9   Bulgaria         2.330    Europe   73.005   7322858  10680.792820"
      ]
     },
     "execution_count": 111,
     "metadata": {},
     "output_type": "execute_result"
    }
   ],
   "source": [
    "# Take data from 2007 and merge together\n",
    "def merge_per_year(year):\n",
    "    unemployment_data_year : pd.DataFrame = unemployment_data[[\"country\", str(year)]]\n",
    "    grouped_data_year      : pd.DataFrame = gapminder[gapminder[\"year\"].isin([2007])].sort_values(\"country\")\n",
    "    data_year              : pd.DataFrame = pd.merge(unemployment_data_year, grouped_data_year, on=\"country\")\n",
    "    data_year.rename(columns={str(year):'unemployment'}, inplace=True)\n",
    "    data_year.drop(columns=\"year\",inplace=True)\n",
    "    data_year                             = data_year.dropna()   \n",
    "    return data_year\n",
    "\n",
    "print(\"Data without nan rows: \\n\")\n",
    "data_2007 = merge_per_year(2007)\n",
    "data_2007.head()"
   ]
  },
  {
   "cell_type": "code",
   "execution_count": 112,
   "metadata": {
    "pycharm": {
     "name": "#%%\n"
    }
   },
   "outputs": [
    {
     "data": {
      "application/vnd.jupyter.widget-view+json": {
       "model_id": "a32afab1110549dab0fa620fdf69fd0a",
       "version_major": 2,
       "version_minor": 0
      },
      "text/plain": [
       "interactive(children=(SelectionSlider(description='year', options=(1990, 1991, 1992, 1993, 1994, 1995, 1996, 1…"
      ]
     },
     "metadata": {},
     "output_type": "display_data"
    }
   ],
   "source": [
    "\n",
    "years   = np.arange(1990,2020,1)\n",
    "columns = [\"lifeExp\",\"pop\",\"gdpPercap\"]\n",
    "xmax = unemployment_data.dropna().max(numeric_only=True).max()\n",
    "def f(year,column):\n",
    "    # Plot vorbereiten\n",
    "    fig, ax = plt.subplots(1,2)\n",
    "    fig.set_size_inches(14,7)  \n",
    "    \n",
    "    # Daten fuer das Gewaehlte Jahr isolieren\n",
    "    unemployment_data_year = merge_per_year(year) \n",
    "    \n",
    "    # Plot parameter setzten\n",
    "    ymin    = gapminder[column].min()\n",
    "    ymax    = gapminder[column].max()\n",
    "    \n",
    "    # Plot fuer die gewaehlte Spalte erzeugen\n",
    "    ax[0].scatter(data=unemployment_data_year, x=\"unemployment\",y = column )\n",
    "    ax[0].set(xlim =[0,xmax], ylim=[ymin,ymax],xlabel=\"Arbeitslosigkeit\",ylabel=str(column))\n",
    "    \n",
    "    # Statistik pro Kontinent\n",
    "    mean_by_continent = unemployment_data_year.groupby(\"continent\").mean()\n",
    "    ax[1].scatter(data=unemployment_data_year,x=\"continent\",y=\"unemployment\",s=10,label=\"Countries\")\n",
    "    ax[1].scatter(mean_by_continent.index, mean_by_continent[\"unemployment\"], c=\"r\", label=\"Mean\")\n",
    "    ax[1].set(xlabel=\"Continents\",ylabel=\"Arbeitslosigkeit\",ylim=(0,xmax))\n",
    "    ax[1].legend()\n",
    "_ = widgets.interact( f, year=widgets.SelectionSlider(options=years), column=widgets.Select(options=columns) )"
   ]
  },
  {
   "cell_type": "markdown",
   "metadata": {
    "pycharm": {
     "name": "#%% md\n"
    }
   },
   "source": [
    "> Es scheint keine klaren Zusammenhaenge zu geben"
   ]
  },
  {
   "cell_type": "markdown",
   "metadata": {
    "pycharm": {
     "name": "#%% md\n"
    }
   },
   "source": [
    "#### Idee 2"
   ]
  },
  {
   "cell_type": "markdown",
   "metadata": {
    "pycharm": {
     "name": "#%% md\n"
    }
   },
   "source": [
    "> Fragestellung: Neben der Verfügbarkeit von Nahrungsmitteln sind für das Ernährungsverhalten auch individuelle Entscheidungen über Einkauf, verzehrte Menge und Zubereitung auschlaggebend.\n",
    "Es stellt sich die Frage, ob eine gute Grundbildung auch zu \"gesunden\" Entscheidungen im\n",
    "Ernährungsverhalten beiträgt.\n",
    "Da auf Gapminder nur begrenzt Daten zur verfügung stehen wurden die naheliegensten Datensätze für die\n",
    "Fragestellung gewählt.\n",
    "Als sehr \"ungesunt\" gilt ein hoher Zuckerkonsum,\n",
    "die Bildung kann z.B. am Prozentsatz der Schulabschlüsse gemessen werden.\n",
    "Daher wird hier der Zusammenhang zwischen den Datensätzen\n",
    ">1) Prozentualer Anteil der abgeschlossenen Grundschule sowie\n",
    ">2) der durchschnittlich Konsumierten Menge an Zucker verglichen\n"
   ]
  },
  {
   "cell_type": "code",
   "execution_count": 113,
   "metadata": {
    "pycharm": {
     "name": "#%%\n"
    }
   },
   "outputs": [],
   "source": [
    "# Import der Datensätze\n",
    "grundschulbildung: pd.DataFrame = pd.read_csv(os.path.join(RessourcePath,\"primary_completion_rate_total_percent_of_relevant_age_group.csv\"))\n",
    "zuerernaehrung   : pd.DataFrame = pd.read_csv(os.path.join(RessourcePath,\"sugar_per_person_g_per_day.csv\"))"
   ]
  },
  {
   "cell_type": "markdown",
   "metadata": {
    "pycharm": {
     "name": "#%% md\n"
    }
   },
   "source": [
    "(3) Identifizieren Sie Datensätze, die Sie interessant finden. Führen Sie eine explorative Analyse durch, d.h. laden und importieren Sie die Daten, stellen Sie Fragen auf, und erstellen Sie entsprechende Visualisierungen, interpretieren Sie Ihre Befunde."
   ]
  },
  {
   "cell_type": "markdown",
   "metadata": {
    "pycharm": {
     "name": "#%% md\n"
    }
   },
   "source": [
    "> Primäre Analyse Bildungsgrad <br>\n",
    "> Welche Daten enthält der Datensatz? Über welche Zeiträume, Ausdehung (Global) etc.? <br>\n",
    "> Gibt es Zeitliche oder Räumiche Tendenzen?"
   ]
  },
  {
   "cell_type": "code",
   "execution_count": 114,
   "metadata": {
    "pycharm": {
     "name": "#%%\n"
    }
   },
   "outputs": [
    {
     "name": "stdout",
     "output_type": "stream",
     "text": [
      "                country  1970  1971  1972  1973  1974  1975  1976  1977  1978  \\\n",
      "0                 Aruba   NaN   NaN   NaN   NaN   NaN   NaN   NaN   NaN   NaN   \n",
      "1           Afghanistan   NaN   NaN   NaN   NaN  16.7   NaN   NaN  17.9  19.7   \n",
      "2                Angola   NaN   NaN   NaN   NaN   NaN   NaN   NaN   NaN   NaN   \n",
      "3               Albania   NaN   NaN   NaN   NaN   NaN   NaN   NaN   NaN   NaN   \n",
      "4  United Arab Emirates   NaN   NaN   NaN   NaN  39.5  41.7  49.5  56.8  60.7   \n",
      "\n",
      "   ...  2011  2012  2013   2014   2015  2016   2017   2018   2019   2020  \n",
      "0  ...   NaN   NaN  96.6  101.0    NaN   NaN    NaN    NaN    NaN    NaN  \n",
      "1  ...   NaN   NaN   NaN    NaN    NaN  80.5   84.4   85.6   84.3    NaN  \n",
      "2  ...  46.2   NaN   NaN    NaN    NaN   NaN    NaN    NaN    NaN    NaN  \n",
      "3  ...  93.0  98.7  89.5  101.0   98.9  99.9  102.0  102.0  103.0  101.0  \n",
      "4  ...   NaN  93.9  95.7   99.1  104.0   NaN    NaN    NaN  112.0  105.0  \n",
      "\n",
      "[5 rows x 52 columns]\n"
     ]
    }
   ],
   "source": [
    "print(grundschulbildung.head())"
   ]
  },
  {
   "cell_type": "code",
   "execution_count": 115,
   "metadata": {
    "pycharm": {
     "name": "#%%\n"
    }
   },
   "outputs": [
    {
     "data": {
      "application/vnd.jupyter.widget-view+json": {
       "model_id": "f2f8c9ce2c104f1ea4f58b45124426d7",
       "version_major": 2,
       "version_minor": 0
      },
      "text/plain": [
       "interactive(children=(SelectionSlider(description='year', options=(1990, 1991, 1992, 1993, 1994, 1995, 1996, 1…"
      ]
     },
     "metadata": {},
     "output_type": "display_data"
    }
   ],
   "source": [
    "xmin = grundschulbildung.min(numeric_only=True).min()\n",
    "xmax = grundschulbildung.max(numeric_only=True).max()\n",
    "\n",
    "def f(year):\n",
    "    fig, ax = plt.subplots(1)\n",
    "    fig.set_size_inches(10,7)\n",
    "    grundschulbildung_for_year = grundschulbildung[[\"country\",str(year)]].rename( columns={str(year):\"Grundschulabschluesse\"} )\n",
    "    _ = ax.scatter(data=grundschulbildung_for_year, x=\"Grundschulabschluesse\",y =\"country\" )\n",
    "    _ = ax.set(yticks=[\"\"],xlim=[xmin,xmax],xlabel=\"Grundschulabschluesse\",ylabel=\"Land\")\n",
    "    \n",
    "    \n",
    "_ = widgets.interact( f, year=widgets.SelectionSlider(options=years))"
   ]
  },
  {
   "cell_type": "markdown",
   "metadata": {
    "pycharm": {
     "name": "#%% md\n"
    }
   },
   "source": [
    "> Ueber die Jahre steigt der Anteil der Grundschulabschluesse pro Land immer weiter an"
   ]
  },
  {
   "cell_type": "markdown",
   "metadata": {
    "pycharm": {
     "name": "#%% md\n"
    }
   },
   "source": [
    "> Betrachtung der Zuckerernährung"
   ]
  },
  {
   "cell_type": "code",
   "execution_count": 116,
   "metadata": {
    "pycharm": {
     "name": "#%%\n"
    }
   },
   "outputs": [
    {
     "data": {
      "text/plain": [
       "<AxesSubplot:xlabel='Zuckerkonsum', ylabel='country'>"
      ]
     },
     "execution_count": 116,
     "metadata": {},
     "output_type": "execute_result"
    },
    {
     "data": {
      "image/png": "[encoded data removed]",
      "text/plain": [
       "<Figure size 432x288 with 1 Axes>"
      ]
     },
     "metadata": {
      "needs_background": "light"
     },
     "output_type": "display_data"
    }
   ],
   "source": [
    "years = np.arange(1970,2020,1)\n",
    "i = 5\n",
    "zuerernaehrung_year = zuerernaehrung[[\"country\",str(years[i])]].rename( columns={str(years[i]):\"Zuckerkonsum\"} )\n",
    "zuerernaehrung_year.plot.scatter(x=\"Zuckerkonsum\",y=\"country\")"
   ]
  },
  {
   "cell_type": "code",
   "execution_count": 117,
   "metadata": {
    "pycharm": {
     "name": "#%%\n"
    }
   },
   "outputs": [
    {
     "data": {
      "application/vnd.jupyter.widget-view+json": {
       "model_id": "3f13ee8262174ea7a7b4672710e5976d",
       "version_major": 2,
       "version_minor": 0
      },
      "text/plain": [
       "interactive(children=(SelectionSlider(description='year', options=(1970, 1971, 1972, 1973, 1974, 1975, 1976, 1…"
      ]
     },
     "metadata": {},
     "output_type": "display_data"
    }
   ],
   "source": [
    "xmin = zuerernaehrung.min(numeric_only=True).min()\n",
    "#xmax = zuerernaehrung.max(numeric_only=True).max()\n",
    "xmax = 300\n",
    "def f(year):\n",
    "    fig, ax = plt.subplots(1)\n",
    "    fig.set_size_inches(10,7)\n",
    "    zuerernaehrung_year = zuerernaehrung[[\"country\",str(year)]].rename( columns={str(year):\"Zuckerkonsum\"} )\n",
    "    ax.scatter(data=zuerernaehrung_year, x=\"Zuckerkonsum\",y =\"country\" )\n",
    "    ax.set(yticks=[\"\"],xlim=[xmin,xmax],xlabel=\"Zuckerkonsum\",ylabel=\"Land\")\n",
    "    \n",
    "    \n",
    "_ = widgets.interact( f, year=widgets.SelectionSlider(options=years))"
   ]
  },
  {
   "cell_type": "markdown",
   "metadata": {
    "pycharm": {
     "name": "#%% md\n"
    }
   },
   "source": [
    "> Der Konsum der einzelnen Länder verschiebt sich, es ist jedoch kein allgemeiner Trend erkennbar"
   ]
  },
  {
   "cell_type": "markdown",
   "metadata": {
    "pycharm": {
     "name": "#%% md\n"
    }
   },
   "source": [
    "Als naechstes wird der Zusammenhang zwischen Zuckerkonsum und Grundschulbildung durch\n",
    "ein Stacken der DataFrames pro Jahr untersucht"
   ]
  },
  {
   "cell_type": "code",
   "execution_count": 118,
   "metadata": {
    "pycharm": {
     "name": "#%%\n"
    }
   },
   "outputs": [],
   "source": [
    "# Zusammenfassung für plot pro Jahr\n",
    "years = np.arange(1970,2018,1)\n",
    "grundschulbildung_for_year       = grundschulbildung[[\"country\",str(years[0])]].rename( columns={str(years[0]):\"Grundschulabschluesse\"} )\n",
    "zuerernaehrung_year              = zuerernaehrung[[\"country\",str(years[0])]].rename( columns={str(years[0]):\"Zuckerkonsum\"} )\n",
    "zuerernaehrung_year[\"year\"]      = years[0]\n",
    "zucker_und_bildungsgrad          = zuerernaehrung_year.merge(grundschulbildung_for_year,on=\"country\")\n",
    "zucker_und_bildungsgrad          = zucker_und_bildungsgrad.dropna()\n",
    "zucker_und_bildungsgrad_komplett = zuerernaehrung_year.merge(grundschulbildung_for_year,on=\"country\")\n",
    "zucker_und_bildungsgrad_komplett = pd.DataFrame()\n",
    "for i in range(1,len(years)):\n",
    "\n",
    "    grundschulbildung_for_year       = grundschulbildung[[\"country\",str(years[i])]].rename( columns={str(years[i]):\"Grundschulabschluesse\"} )\n",
    "    zuerernaehrung_year              = zuerernaehrung[[\"country\",str(years[i])]].rename( columns={str(years[i]):\"Zuckerkonsum\"} )\n",
    "    zuerernaehrung_year[\"year\"]      = years[i]\n",
    "    zucker_und_bildungsgrad          = zuerernaehrung_year.merge(grundschulbildung_for_year,on=\"country\")\n",
    "    zucker_und_bildungsgrad          = zucker_und_bildungsgrad.dropna()\n",
    "    zucker_und_bildungsgrad_komplett = zucker_und_bildungsgrad_komplett.append(zucker_und_bildungsgrad)\n"
   ]
  },
  {
   "cell_type": "code",
   "execution_count": 119,
   "metadata": {
    "pycharm": {
     "name": "#%%\n"
    }
   },
   "outputs": [
    {
     "data": {
      "text/html": [
       "<div>\n",
       "<style scoped>\n",
       "    .dataframe tbody tr th:only-of-type {\n",
       "        vertical-align: middle;\n",
       "    }\n",
       "\n",
       "    .dataframe tbody tr th {\n",
       "        vertical-align: top;\n",
       "    }\n",
       "\n",
       "    .dataframe thead th {\n",
       "        text-align: right;\n",
       "    }\n",
       "</style>\n",
       "<table border=\"1\" class=\"dataframe\">\n",
       "  <thead>\n",
       "    <tr style=\"text-align: right;\">\n",
       "      <th></th>\n",
       "      <th>country</th>\n",
       "      <th>Zuckerkonsum</th>\n",
       "      <th>year</th>\n",
       "      <th>Grundschulabschluesse</th>\n",
       "    </tr>\n",
       "  </thead>\n",
       "  <tbody>\n",
       "    <tr>\n",
       "      <th>4</th>\n",
       "      <td>Argentina</td>\n",
       "      <td>118.00</td>\n",
       "      <td>1971</td>\n",
       "      <td>71.8</td>\n",
       "    </tr>\n",
       "    <tr>\n",
       "      <th>7</th>\n",
       "      <td>Austria</td>\n",
       "      <td>113.00</td>\n",
       "      <td>1971</td>\n",
       "      <td>95.0</td>\n",
       "    </tr>\n",
       "    <tr>\n",
       "      <th>10</th>\n",
       "      <td>Benin</td>\n",
       "      <td>8.90</td>\n",
       "      <td>1971</td>\n",
       "      <td>18.2</td>\n",
       "    </tr>\n",
       "    <tr>\n",
       "      <th>11</th>\n",
       "      <td>Burkina Faso</td>\n",
       "      <td>6.41</td>\n",
       "      <td>1971</td>\n",
       "      <td>7.2</td>\n",
       "    </tr>\n",
       "    <tr>\n",
       "      <th>13</th>\n",
       "      <td>Bulgaria</td>\n",
       "      <td>99.30</td>\n",
       "      <td>1971</td>\n",
       "      <td>96.8</td>\n",
       "    </tr>\n",
       "  </tbody>\n",
       "</table>\n",
       "</div>"
      ],
      "text/plain": [
       "         country  Zuckerkonsum  year  Grundschulabschluesse\n",
       "4      Argentina        118.00  1971                   71.8\n",
       "7        Austria        113.00  1971                   95.0\n",
       "10         Benin          8.90  1971                   18.2\n",
       "11  Burkina Faso          6.41  1971                    7.2\n",
       "13      Bulgaria         99.30  1971                   96.8"
      ]
     },
     "execution_count": 119,
     "metadata": {},
     "output_type": "execute_result"
    }
   ],
   "source": [
    "zucker_und_bildungsgrad_komplett.head()"
   ]
  },
  {
   "cell_type": "code",
   "execution_count": 120,
   "metadata": {
    "pycharm": {
     "name": "#%%\n"
    }
   },
   "outputs": [
    {
     "data": {
      "image/png": "[encoded data removed]",
      "text/plain": [
       "<Figure size 432x288 with 2 Axes>"
      ]
     },
     "metadata": {
      "needs_background": "light"
     },
     "output_type": "display_data"
    }
   ],
   "source": [
    "_ = zucker_und_bildungsgrad_komplett.plot.scatter(x=\"Grundschulabschluesse\",y=\"Zuckerkonsum\",c=\"year\")"
   ]
  },
  {
   "cell_type": "markdown",
   "metadata": {
    "pycharm": {
     "name": "#%% md\n"
    }
   },
   "source": [
    "> Fazit\n",
    "> Es ist über die Jare sowohl ein Trend zu einem höheren Zuckerkonsum als auch zu\n",
    "eine höheren Bildungsgrad erkennbar. <br>\n",
    "> Ein direkter Zusammenhang zwischen Zuckerkonsum und Bildungsgrad ist jedoch nicht erkennbar.\n",
    "> Auffällig ist, dass bei niedrigem Bildungsgrad meist auch ein niedriger Zuckerkonsum auftritt.\n",
    "Vermutlich besteht hier jedoch kein direkter Zusammenhang sonder ein gemeinsamer Zusammenhang mit\n",
    "der finanziellen Lage des Landes. "
   ]
  },
  {
   "cell_type": "markdown",
   "metadata": {
    "pycharm": {
     "name": "#%% md\n"
    }
   },
   "source": [
    "(4) Dokumentieren Sie Ihre explorative Analyse in diesem Jupyter Notebook und reichen Sie es bei ILIAS als Teamabgabe ein. "
   ]
  }
 ],
 "metadata": {
  "hide_input": false,
  "kernelspec": {
   "display_name": "Python 3",
   "language": "python",
   "name": "python3"
  },
  "language_info": {
   "codemirror_mode": {
    "name": "ipython",
    "version": 3
   },
   "file_extension": ".py",
   "mimetype": "text/x-python",
   "name": "python",
   "nbconvert_exporter": "python",
   "pygments_lexer": "ipython3",
   "version": "3.9.12"
  },
  "learntools_metadata": {
   "lesson_index": 0,
   "type": "exercise"
  }
 },
 "nbformat": 4,
 "nbformat_minor": 1
}