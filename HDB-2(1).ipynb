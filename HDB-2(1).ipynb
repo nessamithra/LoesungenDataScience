{
 "cells": [
  {
   "cell_type": "markdown",
   "metadata": {
    "pycharm": {
     "name": "#%% md\n"
    }
   },
   "source": [
    "# Übung 2.1 \n",
    "\n",
    "In dieser Übung werden wir uns mit wichtigen Software-Werkzeugen für Data Science vertraut machen. In diesem Notebook finden Sie Übung 2.1, die sich mit Numpy beschäftigt. Übung 2.2 (Pandas) finden Sie bei ILIAs.\n",
    "\n",
    "Diese Übungen dienen dazu, Sie auf verschiedene Aspekte der in den kommenden Wochen in den Übungen genutzten Werkzeuge aufmerksam zu machen.\n",
    "\n",
    "* Wenn Sie in Ihrem bisherigen Studienverlauf noch nicht viel mit Python zu tun hatten, schauen Sie doch gerne einmal bei ILIAS unter \"Lernressourcen\" nach. Ich habe Ihnen dort Inhalte hinterlegt, die Sie nutzen können, um sich im Selbststudium mit Python vertrauter zu machen."
   ]
  },
  {
   "cell_type": "markdown",
   "metadata": {
    "pycharm": {
     "name": "#%% md\n"
    }
   },
   "source": [
    "## 2.1.1 Shapes und Co.\n",
    "\n",
    "Bei vielen Data Science Projekten werden Daten zunächst zugänglich gemacht, so dass sie als Numpy Arrays vorliegen. Das Verständnis von *Shapes* solcher Arrays ist eine wichtige Voraussetzung für eine produktive Arbeit mit diesen Datenstrukturen.\n",
    "\n",
    "Nehmen Sie die Folien zur heutigen Vorlesung zur Hand.\n",
    "\n",
    "**Ihre Aufgaben**\n",
    "\n",
    "(1) Betrachten Sie den untenstehenden Code. Beantworten Sie: Welchen [Shape](https://docs.scipy.org/doc/numpy/reference/generated/numpy.ndarray.shape.html) hat das Numpy Array `a`? "
   ]
  },
  {
   "cell_type": "code",
   "execution_count": 5,
   "metadata": {
    "pycharm": {
     "name": "#%%\n"
    }
   },
   "outputs": [
    {
     "name": "stdout",
     "output_type": "stream",
     "text": [
      "a:\t[ 5 10 15 20], shape of a:\t(4,)\n"
     ]
    }
   ],
   "source": [
    "import numpy as np\n",
    "a = np.array([5, 10, 15, 20])\n",
    "\n",
    "print(f\"a:\\t{a}, shape of a:\\t{a.shape}\")"
   ]
  },
  {
   "cell_type": "markdown",
   "metadata": {
    "pycharm": {
     "name": "#%% md\n"
    }
   },
   "source": [
    "> Shape: (4,)"
   ]
  },
  {
   "cell_type": "markdown",
   "metadata": {
    "pycharm": {
     "name": "#%% md\n"
    }
   },
   "source": [
    "(2) Lässt sich das Array `a` als (mathematischen) Vektor interpretieren? Wenn `a` ein Vektor ist, können Sie ihn [transponieren](https://docs.scipy.org/doc/numpy/reference/generated/numpy.ndarray.T.html)?"
   ]
  },
  {
   "cell_type": "markdown",
   "metadata": {
    "pycharm": {
     "name": "#%% md\n"
    }
   },
   "source": [
    "a shape: (4,) => besitzt nur eine Dimension (1D-Array), es ist strenggenommen kein Vektor, da die zweite Dimension (auch wenn diese =1 ist) fehlt.\n",
    "Transponiert man a so wie es ist, ändert sich nichts. Um zwischen Spalten- und Zeilenvektoren zu transponieren, muss die fehlende Dimension hinzugefügt werden (reshape)."
   ]
  },
  {
   "cell_type": "code",
   "execution_count": 4,
   "metadata": {
    "pycharm": {
     "name": "#%%\n"
    }
   },
   "outputs": [
    {
     "name": "stdout",
     "output_type": "stream",
     "text": [
      "a reshaped:\t[[ 5 10 15 20]], new shape:\t(1, 4)\n",
      "a reshaped, transposed:\t[[ 5]\n",
      " [10]\n",
      " [15]\n",
      " [20]], new shape:\t(4, 1)\n"
     ]
    }
   ],
   "source": [
    "# missing dim is inferred when providing '-1')\n",
    "a_reshaped = a.reshape(-1, a.shape[0])\n",
    "print(f\"a reshaped:\\t{a_reshaped}, new shape:\\t{a_reshaped.shape}\")\n",
    "a_reshaped_transposed = a_reshaped.T\n",
    "print(f\"a reshaped, transposed:\\t{a_reshaped_transposed}, new shape:\\t{a_reshaped_transposed.shape}\")"
   ]
  },
  {
   "cell_type": "markdown",
   "metadata": {
    "pycharm": {
     "name": "#%% md\n"
    }
   },
   "source": [
    "Durch reshape(-1, a.shape(0)) wird ein 2D-Array erzeugt, a ist nun ein Zeilenvektor. Transponieren überführt a dann in einen Spaltenvektor."
   ]
  },
  {
   "cell_type": "markdown",
   "metadata": {
    "pycharm": {
     "name": "#%% md\n"
    }
   },
   "source": [
    "(3) Betrachten Sie das unten stehende Array `b`. Erzeugen Sie aus `b` bitte zwei neue Arrays `c` und `d`: `c` soll ein Spaltenvektor sein, und `d` soll ein Zeilenvektor sein. Wie gehen Sie vor?"
   ]
  },
  {
   "cell_type": "code",
   "execution_count": 7,
   "metadata": {
    "pycharm": {
     "name": "#%%\n"
    }
   },
   "outputs": [
    {
     "name": "stdout",
     "output_type": "stream",
     "text": [
      "Shape of b:\t(5,)\n"
     ]
    }
   ],
   "source": [
    "b = np.array([2, 4, 6, 8, 10])\n",
    "print(f\"Shape of b:\\t{b.shape}\")"
   ]
  },
  {
   "cell_type": "code",
   "execution_count": 8,
   "metadata": {
    "pycharm": {
     "name": "#%%\n"
    }
   },
   "outputs": [
    {
     "name": "stdout",
     "output_type": "stream",
     "text": [
      "c:\t[[ 2]\n",
      " [ 4]\n",
      " [ 6]\n",
      " [ 8]\n",
      " [10]], shape of c:\t(5, 1)\n",
      "d:\t[[ 2  4  6  8 10]], shape of d:\t(1, 5)\n"
     ]
    }
   ],
   "source": [
    "c = b.reshape(b.shape[0], -1)\n",
    "d = c.T\n",
    "print(f\"c:\\t{c}, shape of c:\\t{c.shape}\")\n",
    "print(f\"d:\\t{d}, shape of d:\\t{d.shape}\")"
   ]
  },
  {
   "cell_type": "markdown",
   "metadata": {
    "pycharm": {
     "name": "#%% md\n"
    }
   },
   "source": [
    "Lässt sich `c` bzw. `d` transponieren? Warum?"
   ]
  },
  {
   "cell_type": "markdown",
   "metadata": {
    "pycharm": {
     "name": "#%% md\n"
    }
   },
   "source": [
    "=> Ja, c und d haben nach dem Reshape nun 2 Dimensionen, können also als Vektoren bzw. Matrizen mit einer Zeile / Spalte betrachtet werden."
   ]
  },
  {
   "cell_type": "markdown",
   "metadata": {
    "pycharm": {
     "name": "#%% md\n"
    }
   },
   "source": [
    "(4) Betrachten Sie die dritte Zeile des unten stehenden Codes: Hat sich durch die Zeile `k[0, 1] = 10` das Array `m` geändert? Falls ja, warum? Falls nein, warum hat es sich nicht geändert?"
   ]
  },
  {
   "cell_type": "code",
   "execution_count": 11,
   "metadata": {
    "pycharm": {
     "name": "#%%\n"
    }
   },
   "outputs": [
    {
     "name": "stdout",
     "output_type": "stream",
     "text": [
      "Sub-Array m von k (View):\n",
      "[[2 3]\n",
      " [6 7]]\n",
      "k geändert:\n",
      "[[ 1 10  3  4]\n",
      " [ 5  6  7  8]\n",
      " [ 9 10 11 12]]\n",
      "m:\n",
      "[[10  3]\n",
      " [ 6  7]]\n"
     ]
    }
   ],
   "source": [
    "k = np.array([[1, 2, 3, 4], [5, 6, 7, 8], [9, 10, 11, 12]])\n",
    "# m als eine Submatrix von k: Zeilen 0-1 und Spalten 1-2 aus k nehmen\n",
    "m = k[:2, 1:3]  # hier wird Basic-Indexing verwendet => erzegt eine View von k, keine Kopie!\n",
    "print(f\"Sub-Array m von k (View):\\n{m}\")\n",
    "k[0, 1] = 10\n",
    "print(f\"k geändert:\\n{k}\\nm:\\n{m}\")"
   ]
  },
  {
   "cell_type": "markdown",
   "metadata": {
    "pycharm": {
     "name": "#%% md\n"
    }
   },
   "source": [
    "Ja, das Array m hat sich durch k[0, 1] = 10 geändert: hier wird Basic-Indexing verwendet, welches eine View von k erzeugt, keine Kopie von k."
   ]
  },
  {
   "cell_type": "markdown",
   "metadata": {
    "pycharm": {
     "name": "#%% md\n"
    }
   },
   "source": [
    "(5) Betrachten Sie die dritte Zeile des unten stehenden Codes: Hat sich durch die Änderung des Arrays `p` der Inhalt von `q` geändert? Falls ja, warum? Falls nein, warum hat es sich nicht geändert?"
   ]
  },
  {
   "cell_type": "code",
   "execution_count": 12,
   "metadata": {
    "pycharm": {
     "name": "#%%\n"
    }
   },
   "outputs": [
    {
     "name": "stdout",
     "output_type": "stream",
     "text": [
      "p:\n",
      "[[ 1  2  3  4]\n",
      " [ 5  6  7  8]\n",
      " [ 9 10 11 12]]\n",
      "q:\n",
      "[5 9]\n",
      "p:\n",
      "[[ 1  2  3  4]\n",
      " [25  6  7  8]\n",
      " [ 9 10 11 12]]\n",
      "q:\n",
      "[5 9]\n"
     ]
    }
   ],
   "source": [
    "p = np.array([[1,2,3,4], [5,6,7,8], [9,10,11,12]])\n",
    "# Selektion: Zeilen 1 und 2 aus p von Spalte 0 nehmen\n",
    "q = p[[1, 2], 0]  # Verwendung von Advanced-Indexing => q ist eine Kopie der entsprechenden Selektion von p-Elementen\n",
    "print(f\"p:\\n{p}\\nq:\\n{q}\")\n",
    "# Änderung des Elementwertes an der Stelle (1,0): Zeilenidx = 1, Spaltenidx = 0 => 5 ==> 25\n",
    "p[1, 0] = 25\n",
    "print(f\"p:\\n{p}\\nq:\\n{q}\")"
   ]
  },
  {
   "cell_type": "markdown",
   "metadata": {
    "pycharm": {
     "name": "#%% md\n"
    }
   },
   "source": [
    "Durch die Änderung des Arrays p hat sich der Inhalt von q nicht geändert: zur Erzeugung von q wird Advanced Indexing verwendet, wodurch eine Kopie erzeugt wird."
   ]
  },
  {
   "cell_type": "markdown",
   "metadata": {
    "pycharm": {
     "name": "#%% md\n"
    }
   },
   "source": [
    "## 2.1.2 Broadcasting - Teil 1\n",
    "\n",
    "Nehmen Sie sich die Folien zur heutigen Vorlesung zur Hand. Unten sehen Sie eine Operation mit zwei Numpy Arrays `a` und `b`."
   ]
  },
  {
   "cell_type": "markdown",
   "metadata": {
    "pycharm": {
     "name": "#%% md\n"
    }
   },
   "source": [
    "**Ihre Aufgaben**\n",
    "\n",
    "(1) Betrachten Sie die unten stehende Code-Zelle. Welchen Shape (Anzahl Zeilen, Anzahl Spalten) wird das Numpy Array `c` erhalten? \n",
    "\n",
    "  * Tragen Sie ihre Voraussage in die Variable `shape` ein. \n",
    "  * Begründen Sie Ihre Vorhersage mit den drei Broadcasting Regeln aus der Vorlesung.\n",
    "  * Berechnen Sie auf Papier das zu erwartende Ergebnis. Tragen Sie es als Numpy Array in die Variable `ergebnis` ein.\n",
    "  * Führen Sie dann jeweils die Zelle aus, um zu schauen, ob Sie richtig lagen."
   ]
  },
  {
   "cell_type": "code",
   "execution_count": 13,
   "metadata": {
    "pycharm": {
     "name": "#%%\n"
    }
   },
   "outputs": [
    {
     "name": "stdout",
     "output_type": "stream",
     "text": [
      "(3,)\n",
      "Shape korrekt.\n",
      "\n",
      "Ergebnis korrekt.\n",
      "\n"
     ]
    }
   ],
   "source": [
    "import numpy as np\n",
    "\n",
    "a = np.array([1, 2, 3])\n",
    "b = np.array([4, 5, 6])\n",
    "\n",
    "c = a + b\n",
    "print(c.shape)\n",
    "\n",
    "# Ihre Vorhersagen\n",
    "shape = (3,)\n",
    "\n",
    "# ergebnis: a und b werden elementweise addiert\n",
    "ergebnis = np.array([5, 7, 9])\n",
    "\n",
    "print('{}\\n'.format('Shape korrekt.' if np.all(shape==c.shape) else 'Shape nicht korrekt.'))\n",
    "print('{}\\n'.format('Ergebnis korrekt.' if np.array_equal(ergebnis, c) else 'Ergebnis nicht korrekt.'))"
   ]
  },
  {
   "cell_type": "markdown",
   "metadata": {
    "pycharm": {
     "name": "#%% md\n"
    }
   },
   "source": [
    "(2) Betrachten Sie die unten stehende Code-Zelle. Welchen Shape (Anzahl Zeilen, Anzahl Spalten) wird das Numpy Array `c` erhalten? \n",
    "\n",
    "  * Tragen Sie ihre Voraussage in die Variable `shape` ein. \n",
    "  * Begründen Sie Ihre Vorhersage mit den drei Broadcasting Regeln aus der Vorlesung.\n",
    "  * Berechnen Sie auf Papier das zu erwartende Ergebnis. Tragen Sie es als Numpy Array in die Variable `ergebnis` ein.\n",
    "  * Führen Sie dann jeweils die Zelle aus, um zu schauen, ob Sie richtig lagen."
   ]
  },
  {
   "cell_type": "markdown",
   "source": [
    "**Rules of Broadcasting:**\n",
    "1. The two arrays differ in their number of dimensions The Shape of the array with fewer dims is padded with ones on its left (:= leading) side.\n",
    "2. The shape of the two arrays does not match in ANY dimension The array with shape equal to 1 in that dimension is stretched to match the other shape,\n",
    "3. If in any dim the sizes disagree and neither is equal to 1 => Error-Message"
   ],
   "metadata": {
    "collapsed": false,
    "pycharm": {
     "name": "#%% md\n"
    }
   }
  },
  {
   "cell_type": "code",
   "execution_count": 15,
   "metadata": {
    "pycharm": {
     "name": "#%%\n"
    }
   },
   "outputs": [
    {
     "name": "stdout",
     "output_type": "stream",
     "text": [
      "Shape Korrekt.\n",
      "\n",
      "Ergebnis korrekt.\n",
      "\n"
     ]
    }
   ],
   "source": [
    "a = np.array([1, 2, 3]) #1x3\n",
    "b = np.array([4, 5, 6])[:, np.newaxis] #3x1\n",
    "\n",
    "c = a + b\n",
    "\n",
    "shape = (3, 3) # Ihre Vorhersage\n",
    "ergebnis = np.array([[5, 6, 7], [6, 7, 8], [7, 8, 9]])\n",
    "\n",
    "print('{}\\n'.format('Shape Korrekt.' if np.all(shape==c.shape) else 'Shape nicht korrekt.'))\n",
    "print('{}\\n'.format('Ergebnis korrekt.' if np.array_equal(ergebnis, c) else 'Ergebnis nicht korrekt.'))"
   ]
  },
  {
   "cell_type": "markdown",
   "source": [
    "Zur Aufgabe: Hier stimmen a und b in ihrem Shape von vornherein überein, es muss also kein Padding / Stretching stattfinden. Es werden einfach die a_i und b_i elementweise addiert (ufunc)."
   ],
   "metadata": {
    "collapsed": false,
    "pycharm": {
     "name": "#%% md\n"
    }
   }
  },
  {
   "cell_type": "markdown",
   "metadata": {
    "pycharm": {
     "name": "#%% md\n"
    }
   },
   "source": [
    "(3) Betrachten Sie die unten stehende Code-Zelle. Welchen Shape (Anzahl Zeilen, Anzahl Spalten) wird das Numpy Array `c` erhalten? \n",
    "\n",
    "  * Tragen Sie ihre Voraussage in die Variable `shape` ein. \n",
    "  * Begründen Sie Ihre Vorhersage mit den drei Broadcasting Regeln aus der Vorlesung.\n",
    "  * Berechnen Sie auf Papier das zu erwartende Ergebnis. Tragen Sie es als Numpy Array in die Variable `ergebnis` ein.\n",
    "  * Führen Sie dann jeweils die Zelle aus, um zu schauen, ob Sie richtig lagen."
   ]
  },
  {
   "cell_type": "code",
   "execution_count": 17,
   "metadata": {
    "pycharm": {
     "name": "#%%\n"
    }
   },
   "outputs": [
    {
     "name": "stdout",
     "output_type": "stream",
     "text": [
      "Shape korrekt.\n",
      "\n",
      "Ergebnis korrekt.\n",
      "\n"
     ]
    }
   ],
   "source": [
    "a = np.array([[1, 0, 0], [0, 0, 2]])\n",
    "b = np.ones(12).reshape((4, 1, 3))\n",
    "c = a * b\n",
    "\n",
    "shape = (4, 2, 3) # Ihre Vorhersage\n",
    "# pad a\n",
    "a_padded = np.reshape(a, (1, 2, 3))\n",
    "a_stretched = np.array([*a_padded, *a_padded, *a_padded, *a_padded])  # * resolves the arg\n",
    "# print(a_stretched)\n",
    "ergebnis = np.array(a_stretched) # sobald die dims alle passen wird elementweise multipliziert;\n",
    "# b ist eine komplette 1er Matrix => also überall nur mult. mit 1\n",
    "\n",
    "print('{}\\n'.format('Shape korrekt.' if np.all(shape==c.shape) else 'Shape nicht korrekt.'))\n",
    "print('{}\\n'.format('Ergebnis korrekt.' if np.array_equal(ergebnis, c) else 'Ergebnis nicht korrekt.'))"
   ]
  },
  {
   "cell_type": "markdown",
   "source": [
    "(a) shape von a: (2,3), shape von b: (4,1,3) => die shapes passen nicht zueinander\n",
    "(b) 1. Padding von a => (1,2,3) ist neuer shape\n",
    "(c) 2. Stretching von a und b => a: gedankliches Hinzufügen (vertikal) von [[1,0,0],[0,0,2]], 3x => “shape”: (4,2,3) b: gedankliches Hinzufügen (horizontal) von [1,1,1,1,1,1,1,1,1,1,1,1], 1x => “shape”: (4,2,3)\n",
    "(d) shapes von a und b stimmen un überein => Anwendung der ufunc * elementweise auf a_ij und b_ij"
   ],
   "metadata": {
    "collapsed": false,
    "pycharm": {
     "name": "#%% md\n"
    }
   }
  },
  {
   "cell_type": "markdown",
   "source": [],
   "metadata": {
    "collapsed": false,
    "pycharm": {
     "name": "#%% md\n"
    }
   }
  },
  {
   "cell_type": "markdown",
   "metadata": {
    "pycharm": {
     "name": "#%% md\n"
    }
   },
   "source": [
    "## 2.1.3 Broadcasting Teil 2\n",
    "\n",
    "Ein häufiger Vorverarbeitungsschritt, der Ihnen in verschiedenen Data Science Projekten begegnen wird, ist die Normierung von Daten. Häufig werden dabei Datensätze, z.B. Zeitreihen, auf Mittelwert $0$ und Standardabweichung $1$ normiert. Dieser Vorgang wird auch *z-scoring* (oder: *Standardisierung*) genannt:\n",
    "\n",
    "Sei $x_i$ der $i$-te Datenpunkt einer Zeitreihe. Dann ist der z-score dieses Datenpunkts definiert als\n",
    "\n",
    "$$\\tilde{x}_i = \\frac{x_i - \\bar{x}}{\\sigma},$$ \n",
    "\n",
    "wobei $\\bar{x}$ der Mittelwert sowie $\\sigma$ die Standardabweichung der Zeitreihe bezeichnen.\n",
    "\n",
    "Das in der unten stehenden Code-Zelle definierte Numpy Array `X` enthält 5 Zeitreihen (Spalten) mit je 30 Einträgen (Zeilen). \n",
    "\n",
    "* Nutzen Sie Broadcasting sowie [np.mean](https://docs.scipy.org/doc/numpy/reference/generated/numpy.mean.html) und [np.std](https://docs.scipy.org/doc/numpy/reference/generated/numpy.std.html), um die Zeitreihen auf Mittelwert 0 und Varianz 1 zu normieren. Die transformierten Zeitreihen sollen im Numpy Array `Y` gespeichert werden. Dabei schreiben Sie nur eine Zeile Code, um die Zeitreihen zu transformieren.\n",
    "* Beachten Sie das `axis` Argument bei `np.mean` und `np.std`."
   ]
  },
  {
   "cell_type": "code",
   "execution_count": 19,
   "metadata": {
    "pycharm": {
     "name": "#%%\n"
    }
   },
   "outputs": [
    {
     "name": "stdout",
     "output_type": "stream",
     "text": [
      "Ergebnis Y => Standardization on each col of the array:\n",
      "[[ 0.16740311  0.99146058  0.26566035 -0.19189575 -0.10401878]\n",
      " [ 0.55391341 -0.15048406  1.19070719  1.37326414 -0.23972755]\n",
      " [ 1.13451499  0.22511946  0.15453418  1.23099463 -1.29401013]\n",
      " [-1.67071577 -1.86737303  1.00137287  0.67994818  1.40231461]\n",
      " [ 1.8785996   1.33687639 -0.18655411  0.68881496 -1.13459362]\n",
      " [ 0.53013254 -1.36084517  1.36001366 -0.27798696 -0.13436721]\n",
      " [-0.96432242  1.23434539 -0.20361099 -0.10387638 -1.47032689]\n",
      " [ 0.44140643  0.56737441  0.31101693  1.29883439  0.76721883]\n",
      " [-0.58628567 -0.15276817  0.56930829 -2.00327065  0.71641712]\n",
      " [ 0.65242656 -1.08511345 -1.25097251 -1.04946742 -0.30631341]\n",
      " [ 0.25253703 -0.14631163  1.49990208 -1.84697374 -0.82883566]\n",
      " [-1.37537957  0.73608391 -0.85291057 -0.48555474 -0.7088681 ]\n",
      " [-1.38469563 -1.49650412  0.43711227 -1.71190993 -0.87032586]\n",
      " [-0.54958864  1.42669551 -1.35283637  0.90340231 -1.20943159]\n",
      " [ 1.87000439 -0.02269919  1.4627326   0.03220936  0.96107412]\n",
      " [-1.86158691 -0.78718832 -1.2789142  -1.12155557 -1.13306388]\n",
      " [-0.75160944 -0.24643059 -1.4583131   0.35970776  0.37838689]\n",
      " [-0.96100247  0.20189051 -1.36295318 -0.07579876  1.60238198]\n",
      " [-0.74927728  0.79491687 -1.24178136  0.4488645  -0.55707127]\n",
      " [-1.28826065  0.46213702 -1.59927386  0.86974719 -1.51789136]\n",
      " [ 0.68100723 -0.83983826  0.68953741  1.36775437 -0.69426381]\n",
      " [ 0.27626802  0.4848811   0.16800083 -1.39460694  1.68152878]\n",
      " [-0.23745125  1.53124451  0.57522352 -1.11670904  1.2126067 ]\n",
      " [-0.43898492  1.67396396  0.19687467  1.06706612  0.8033665 ]\n",
      " [ 0.86987272  0.11170526  1.39654929  0.17850991 -0.103343  ]\n",
      " [ 0.39664715 -1.8715903  -0.69836819  0.23899403 -0.5548051 ]\n",
      " [ 0.44291907 -0.1867599  -1.23001477 -1.11354951  0.38973764]\n",
      " [ 0.33485505  0.41200173  0.42709787  0.20883196 -0.07781864]\n",
      " [ 1.55184459 -0.43854041 -0.26853946  1.10514305  1.18694586]\n",
      " [ 0.78480875 -1.53824999  1.27939866  0.44106857  1.83709685]]\n",
      "Test:\n",
      "Mean of first column = -3.7377508495713604e-16\n",
      "VAR of first column = 1.0\n"
     ]
    }
   ],
   "source": [
    "import numpy as np\n",
    "np.random.seed(0)\n",
    "\n",
    "X = np.random.random((30, 5))\n",
    "\n",
    "# Ihr Ergebnis:\n",
    "Y = (X-np.mean(X, axis=0))/np.std(X, axis=0)\n",
    "print(f\"Ergebnis Y => Standardization on each col of the array:\\n{Y}\")\n",
    "# Test if e.g. mean of 1st col = 1\n",
    "print(f\"Test:\\nMean of first column = {np.mean(Y[:, [0]])}\\nVAR of first column = {np.var(Y[:, [0]])}\")"
   ]
  },
  {
   "cell_type": "markdown",
   "metadata": {
    "pycharm": {
     "name": "#%% md\n"
    }
   },
   "source": [
    "## 2.1.4 Advanced Indexing\n",
    "\n",
    "Nehmen Sie sich die Folien der heutigen Vorlesung zur Hand. In diesem Übungsteil geht es darum, Sie mit *Advanced Indexing* in Numpy Arrays vertraut zu machen.\n",
    "\n",
    "**Ihre Aufgaben**\n",
    "\n",
    "(1) Betrachten Sie den unten stehenden Code-Zellen.\n",
    "* Tragen Sie in der Variable `vorhersage` ein, welches Array Sie in Variable `y` erwarten.\n",
    "* Prüfen Sie durch Ausführen des Codes, ob Ihre Vorhersage richtig war.\n",
    "* Beantworten Sie die Frage: Wodurch wird der Shape des Arrays `y` bestimmt?"
   ]
  },
  {
   "cell_type": "code",
   "execution_count": 20,
   "metadata": {
    "pycharm": {
     "name": "#%%\n"
    }
   },
   "outputs": [
    {
     "name": "stdout",
     "output_type": "stream",
     "text": [
      "Ergebnis korrekt.\n",
      "\n"
     ]
    }
   ],
   "source": [
    "import numpy as np \n",
    "\n",
    "x = np.array([[1, 2], [3, 4], [5, 6]]) \n",
    "y = x[[0,1,2], [0,1,0]] \n",
    "\n",
    "vorhersage = np.array([1, 4, 5]) # Ihre Vorhersage\n",
    "\n",
    "print('{}\\n'.format('Ergebnis korrekt.' if np.array_equal(vorhersage, y) else 'Ergebnis nicht korrekt.'))"
   ]
  },
  {
   "cell_type": "markdown",
   "metadata": {
    "pycharm": {
     "name": "#%% md\n"
    }
   },
   "source": [
    "=> Der Shape des Ergebnisarrays wird durch das \"Indexarray\" bestimmt => shape von 'row' (= [0,1,2]): (3,), shape von 'col' (=[0,1,0]): (3,) (beide shapes stimmen überein)\n",
    "=> Zur Indizierung werden hier für die Zeilen- und Spaltenelemente jeweils Arrays übergeben\n",
    "=> daraus wird gedanklich eine Indexmatrix gebaut, indem elementweise die zu selektierenden Elemente in Tupel (row_ij, col_ij) zusammengepackt werden:\n",
    "    $idx = \\begin{pmatrix} (0,0) &(1,1) &(2,0)\\end{pmatrix}$\n",
    "=> da row und col hier den gleichen shape haben, ist auch die \"indexmatrix\" von diesem shape und somit dann auch das Ergebnis"
   ]
  },
  {
   "cell_type": "markdown",
   "metadata": {
    "pycharm": {
     "name": "#%% md\n"
    }
   },
   "source": [
    "(2) Betrachten Sie den unten stehenden Code-Zellen.\n",
    "* Tragen Sie in der Variable `vorhersage` ein, welches Array Sie in Variable `y` erwarten.\n",
    "* Prüfen Sie durch Ausführen des Codes, ob Ihre Vorhersage richtig war.\n",
    "* Beantworten Sie die Frage: Wodurch wird der Shape des Arrays `y` bestimmt?"
   ]
  },
  {
   "cell_type": "code",
   "execution_count": 21,
   "metadata": {
    "pycharm": {
     "name": "#%%\n"
    }
   },
   "outputs": [
    {
     "name": "stdout",
     "output_type": "stream",
     "text": [
      "Ergebnis korrekt.\n",
      "\n"
     ]
    }
   ],
   "source": [
    "x = np.array([[0,  1,  2], [3,  4,  5], [6,  7,  8], [9, 10, 11]])\n",
    "\n",
    "rows = np.array([[0,0],[3,3]])\n",
    "cols = np.array([[0,2],[0,2]])\n",
    "y = x[rows,cols]\n",
    "\n",
    "vorhersage = np.array([[0, 2], [9, 11]]) # Ihre Vorhersage\n",
    "\n",
    "print('{}\\n'.format('Ergebnis korrekt.' if np.array_equal(vorhersage, y) else 'Ergebnis nicht korrekt.'))"
   ]
  },
  {
   "cell_type": "markdown",
   "metadata": {
    "pycharm": {
     "name": "#%% md\n"
    }
   },
   "source": [
    "Der Shape des Ergebnisarrays wird durch das “Indexarray” bestimmt: shape von rows: (2,2), shape von cols: (2,2)\n",
    "=> Zur Indizierung werden hier für die Zeilen- und Spaltenelemente jeweils Arrays übergeben; daraus wird gedanklich eine Indexmatrix gebaut, indem  elementweise die zu selektierenden Elemente in Tupel (row_ij, col_ij) zusammengepackt werden:\n",
    "    $idx = \\begin{pmatrix} (0,0) &(0,2)\\\\ (3,0) &(0,2)\\end{pmatrix}$\n",
    "Da row und col hier den gleichen shape haben, ist auch die “indexmatrix” von diesem shape und somit dann auch das Ergebnis.\n"
   ]
  },
  {
   "cell_type": "markdown",
   "metadata": {
    "pycharm": {
     "name": "#%% md\n"
    }
   },
   "source": [
    "(3) Betrachten Sie den unten stehenden Code-Zellen.\n",
    "* Tragen Sie in der Variable `vorhersage` ein, welches Array Sie in Variable `y` erwarten.\n",
    "* Prüfen Sie durch Ausführen des Codes, ob Ihre Vorhersage richtig war.\n",
    "* Beantworten Sie die Frage: Wodurch wird der Shape des Arrays `y` bestimmt?"
   ]
  },
  {
   "cell_type": "code",
   "execution_count": 22,
   "metadata": {
    "pycharm": {
     "name": "#%%\n"
    }
   },
   "outputs": [
    {
     "name": "stdout",
     "output_type": "stream",
     "text": [
      "Ergebnis korrekt.\n",
      "\n"
     ]
    }
   ],
   "source": [
    "x = np.array([[0, 1, 2],[3, 4, 5],[6, 7, 8],[9, 10, 11]]) \n",
    "\n",
    "y = x[1:4,[1,2]] # Kombination von Slicing und Advanced Indexing\n",
    "\n",
    "vorhersage = np.array([[4, 5], [7, 8], [10, 11]]) # Ihre Vorhersage\n",
    "\n",
    "print('{}\\n'.format('Ergebnis korrekt.' if np.array_equal(vorhersage, y) else 'Ergebnis nicht korrekt.'))"
   ]
  },
  {
   "cell_type": "markdown",
   "metadata": {
    "pycharm": {
     "name": "#%% md\n"
    }
   },
   "source": [
    "Der Shape von y wird durch die Kombination von Slicing und Advanced Indexing bestimmt: die Anzahl der Zeilen wird durch Slicing von x (Zeilen 1-4 (exkl.)) bestimmt, die Anzahl der Spalten durch Advanced Indexing (jeweils Spalte mit Idx 1 und 2). => Shape von y: (3,2)"
   ]
  }
 ],
 "metadata": {
  "kernelspec": {
   "display_name": "Python 3",
   "language": "python",
   "name": "python3"
  },
  "language_info": {
   "codemirror_mode": {
    "name": "ipython",
    "version": 3
   },
   "file_extension": ".py",
   "mimetype": "text/x-python",
   "name": "python",
   "nbconvert_exporter": "python",
   "pygments_lexer": "ipython3",
   "version": "3.7.3"
  },
  "learntools_metadata": {
   "lesson_index": 0,
   "type": "exercise"
  }
 },
 "nbformat": 4,
 "nbformat_minor": 4
}