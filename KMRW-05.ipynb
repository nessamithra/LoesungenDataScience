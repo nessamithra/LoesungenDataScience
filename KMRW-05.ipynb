{
 "cells": [
  {
   "cell_type": "markdown",
   "metadata": {
    "pycharm": {
     "name": "#%% md\n"
    }
   },
   "source": [
    "# Übung 5\n",
    "\n",
    "**Gruppenname:**\n",
    "\n",
    "*KMRW*\n",
    "\n",
    "Gehen Sie wie folgt vor:\n",
    "\n",
    "1. Bitte benennen Sie jetzt dieses Jupyter Notebook um (z.B. über `File -> Rename`):\n",
    "\n",
    "   Namensschema: `Gruppenname-X`. Ersetzen Sie \"X\" mit der oben angegebenen Nummer der Übung.\n",
    "\n",
    "   - Beispiel 1: Team REZA bearbeitet Übung 2. Das Notebook heißt: REZA-2.\n",
    "   - Beispiel 2: Sie sind keinem Team zugeordnet (nicht empfehlenswert) und bearbeiten Übung 2: Ihr Notebook heißt: Nachname-2.\n",
    "\n",
    "\n",
    "2. Tragen Sie Ihren Gruppennamen auch ganz oben bei \"Name Ihrer Gruppe\" ein.\n",
    "\n",
    "3. Bearbeiten Sie dann dieses Notebook. Vergessen Sie dabei nicht, das Jupyter Notebook regelmäßig zu speichern (z.B. über `Strg + S` oder über `File -> Save and Checkpoint`)."
   ]
  },
  {
   "cell_type": "markdown",
   "metadata": {
    "pycharm": {
     "name": "#%% md\n"
    }
   },
   "source": [
    "### In dieser Übung ...\n",
    "\n",
    "werden Sie einen echten Datenfall bearbeiten, der die Firma Tesla betrifft. In diesem Fall werden Sie sich mit dem Thema *Datenaufbereitung* und dessen Konsequenzen beschäftigen. Nach dieser Aufgabe werden Sie sich noch einmal mit explorativer Analyse und Zusammenhangsmaßen (wie beispielsweise der *Mutual Information*) beschäftigen."
   ]
  },
  {
   "cell_type": "markdown",
   "metadata": {
    "pycharm": {
     "name": "#%% md\n"
    }
   },
   "source": [
    "### 5.1 Der Fall Tesla: Autopilot\n",
    "\n",
    "* In diesem Datenfall üben Sie Ihre Fähigkeiten, Datensätze zu erschließen, aufzubereiten und auf Plausibilität zu prüfen.\n",
    "\n",
    "Seit wenigen Jahren verstärken verschiedene Unternehmen und Startups ihre Bemühungen, autonome Fahrzeuge zu entwickeln. Solche selbststeuerenden Fahrzeuge versprechen eine Vielzahl neuer Anwendungen und haben das Potenzial, unser Verhältnis zu Autos zu verändern. Manche Visionäre sprechen bereits von \"mobility as a service\", bei der Autos nicht mehr besessen, sondern per App für eine Fahrt geliehen werden und selbstständig fahren.\n",
    "\n",
    "Bei der Entwicklung von autonomen Fahrzeugen verfolgen verschiedene Hersteller eine schrittweise Strategie, nach der Assistenzfunktionen zum Parken oder für das Halten der Fahrspur nach und nach den Fahrern zur Verfügung gestellt werden. Tesla stellt den sogenannten *Autopilot* bereit, der das Feature *Autosteer* zum automatischen Halten der Fahrspur enthält.\n",
    "\n",
    "[Im Jahr 2016 verunglückte Joshua Brown](https://www.nytimes.com/2016/07/02/business/joshua-brown-technology-enthusiast-tested-the-limits-of-his-tesla.html) in Florida in einem Tesla Model S, während das Autosteer Feature aktiviert war. Er war damit der erste (soweit bekannte) Todesfall, der in einem selbstfahrenden Auto eingetreten ist.\n",
    "\n",
    "Die NHTSA, eine Bundesbehörde der USA im Bereich des Verkehrsministeriums, untersuchte den Fall und forderte Zahlen von Tesla an, die die Sicherheit des Autosteering Features belegen sollten. Anhand dieser Zahlen konnte die Behörde im Jahr 2017 folgende Feststellung machen:"
   ]
  },
  {
   "cell_type": "markdown",
   "metadata": {
    "pycharm": {
     "name": "#%% md\n"
    }
   },
   "source": [
    "![Abbildung](https://data.bialonski.de/ds/tesla_autosteer_nhtsa.png)"
   ]
  },
  {
   "cell_type": "markdown",
   "metadata": {
    "pycharm": {
     "name": "#%% md\n"
    }
   },
   "source": [
    "Die Anzahl der Airbag-Auslösungen dient dabei als ein Anhaltspunkt für die Anzahl der Unfälle. Dieser Auswertung zufolge reduziert *Autosteer* die Unfallwahrscheinlichkeit um 40%!"
   ]
  },
  {
   "cell_type": "markdown",
   "metadata": {
    "pycharm": {
     "name": "#%% md\n"
    }
   },
   "source": [
    "Der dieser Statistik zugrundeliegende Datensatz wurde aufgrund eines Antrags basierend auf dem Informationsfreiheitsgesetz der USA (Freedom of Information Act) verfügbar gemacht und steht Ihnen in dieser Übung zur Verfügung.\n",
    "\n",
    "**Ihre Daten**\n",
    "\n",
    "* Sie finden die Daten, die Sie für diese Übung benötigen, [hier](https://data.bialonski.de/ds/tesla.xlsx).\n"
   ]
  },
  {
   "cell_type": "markdown",
   "metadata": {
    "pycharm": {
     "name": "#%% md\n"
    }
   },
   "source": [
    "Wir werden die folgenden Eigenschaften [1-6] untersuchen:\n",
    "\n",
    "1. Kilometerstand (in Meilen) bevor der Installation von Autosteer (\"1l Previous Mileage before Autosteer Install\").\n",
    "\n",
    "   * Dieser Wert wurde abgelesen vor Installation von Autosteer.\n",
    "\n",
    "\n",
    "2. Kilometerstand (in Meilen) nach der Installation von Autosteer (\"1l Next Mileage after Autosteer Install\")\n",
    "\n",
    "   * Dieser Wert wurde abgelesen nach Installation von Autosteer.\n",
    "   \n",
    "   \n",
    "3. Gefahrene Meilen vor Autosteer-Installation (\"Miles before Autosteer\")\n",
    "\n",
    "   * Dieser Wert wurde von Tesla so angegeben.\n",
    "\n",
    "\n",
    "4. Gefahrene Meilen nach Autosteer Installation (\"Miles after Autosteer\")\n",
    "\n",
    "   * Dieser Wert wurde von Tesla so angegeben.\n",
    "\n",
    "\n",
    "5. Airbag-Auslösungen vor Autosteer-Installation (\"Airbag events before Autosteer\")\n",
    "\n",
    "   * Dieser Wert wurde von Tesla so angegeben.\n",
    "\n",
    "\n",
    "6. Airbag-Auslösungen nach Autosteer-Installation (\"Airbag events after Autosteer\")\n",
    "\n",
    "   * Dieser Wert wurde von Tesla so angegeben.\n"
   ]
  },
  {
   "cell_type": "code",
   "execution_count": null,
   "metadata": {
    "pycharm": {
     "name": "#%%\n"
    }
   },
   "outputs": [],
   "source": [
    "import pandas as pd\n",
    "import numpy as np\n",
    "raw_data= pd.read_excel('data/tesla.xlsx', sheet_name=3, usecols=\"AA,AB,AR,AS,AX,AY\", names=[\"mileage_before\",\"mileage_after\", \"events_before\", \"events_after\", \"miles_before\", \"miles_after\"])[1:-4]\n",
    "raw_data[[\"events_before\", \"events_after\"]] = raw_data[[\"events_before\", \"events_after\"]].fillna(0)\n",
    "tesla_miles = pd.read_excel('data/tesla.xlsx', sheet_name=0,usecols=\"C,D,E\", header=2, index_col=0, skiprows=[4, 5, 6, 7, 8, 11, 12, 13])\n",
    "tesla_airbag = pd.read_excel('data/tesla.xlsx', sheet_name=0,usecols=\"C,P,Q\", header=2, index_col=0, skiprows=[4, 5, 6, 7, 8, 11, 12, 13])"
   ]
  },
  {
   "cell_type": "code",
   "execution_count": null,
   "metadata": {
    "pycharm": {
     "name": "#%%\n"
    }
   },
   "outputs": [
    {
     "data": {
      "text/html": [
       "<div>\n",
       "<style scoped>\n",
       "    .dataframe tbody tr th:only-of-type {\n",
       "        vertical-align: middle;\n",
       "    }\n",
       "\n",
       "    .dataframe tbody tr th {\n",
       "        vertical-align: top;\n",
       "    }\n",
       "\n",
       "    .dataframe thead th {\n",
       "        text-align: right;\n",
       "    }\n",
       "</style>\n",
       "<table border=\"1\" class=\"dataframe\">\n",
       "  <thead>\n",
       "    <tr style=\"text-align: right;\">\n",
       "      <th></th>\n",
       "      <th>mileage_before</th>\n",
       "      <th>mileage_after</th>\n",
       "      <th>events_before</th>\n",
       "      <th>events_after</th>\n",
       "      <th>miles_before</th>\n",
       "      <th>miles_after</th>\n",
       "    </tr>\n",
       "  </thead>\n",
       "  <tbody>\n",
       "    <tr>\n",
       "      <th>43776</th>\n",
       "      <td>0.0</td>\n",
       "      <td>2.0</td>\n",
       "      <td>0.0</td>\n",
       "      <td>0.0</td>\n",
       "      <td>0</td>\n",
       "      <td>36</td>\n",
       "    </tr>\n",
       "    <tr>\n",
       "      <th>43777</th>\n",
       "      <td>0.0</td>\n",
       "      <td>2.0</td>\n",
       "      <td>0.0</td>\n",
       "      <td>0.0</td>\n",
       "      <td>0</td>\n",
       "      <td>55</td>\n",
       "    </tr>\n",
       "    <tr>\n",
       "      <th>43778</th>\n",
       "      <td>0.0</td>\n",
       "      <td>0.0</td>\n",
       "      <td>0.0</td>\n",
       "      <td>0.0</td>\n",
       "      <td>0</td>\n",
       "      <td>28</td>\n",
       "    </tr>\n",
       "    <tr>\n",
       "      <th>43779</th>\n",
       "      <td>0.0</td>\n",
       "      <td>0.0</td>\n",
       "      <td>0.0</td>\n",
       "      <td>0.0</td>\n",
       "      <td>0</td>\n",
       "      <td>8</td>\n",
       "    </tr>\n",
       "    <tr>\n",
       "      <th>43780</th>\n",
       "      <td>0.0</td>\n",
       "      <td>0.0</td>\n",
       "      <td>0.0</td>\n",
       "      <td>0.0</td>\n",
       "      <td>0</td>\n",
       "      <td>282</td>\n",
       "    </tr>\n",
       "  </tbody>\n",
       "</table>\n",
       "</div>"
      ],
      "text/plain": [
       "       mileage_before  mileage_after  events_before  events_after  \\\n",
       "43776             0.0            2.0            0.0           0.0   \n",
       "43777             0.0            2.0            0.0           0.0   \n",
       "43778             0.0            0.0            0.0           0.0   \n",
       "43779             0.0            0.0            0.0           0.0   \n",
       "43780             0.0            0.0            0.0           0.0   \n",
       "\n",
       "      miles_before miles_after  \n",
       "43776            0          36  \n",
       "43777            0          55  \n",
       "43778            0          28  \n",
       "43779            0           8  \n",
       "43780            0         282  "
      ]
     },
     "execution_count": 26,
     "metadata": {},
     "output_type": "execute_result"
    }
   ],
   "source": [
    "raw_data.tail()"
   ]
  },
  {
   "cell_type": "code",
   "execution_count": null,
   "metadata": {
    "pycharm": {
     "name": "#%%\n"
    }
   },
   "outputs": [
    {
     "data": {
      "text/html": [
       "<div>\n",
       "<style scoped>\n",
       "    .dataframe tbody tr th:only-of-type {\n",
       "        vertical-align: middle;\n",
       "    }\n",
       "\n",
       "    .dataframe tbody tr th {\n",
       "        vertical-align: top;\n",
       "    }\n",
       "\n",
       "    .dataframe thead th {\n",
       "        text-align: right;\n",
       "    }\n",
       "</style>\n",
       "<table border=\"1\" class=\"dataframe\">\n",
       "  <thead>\n",
       "    <tr style=\"text-align: right;\">\n",
       "      <th></th>\n",
       "      <th>Before AutoSteer</th>\n",
       "      <th>After Autosteer</th>\n",
       "    </tr>\n",
       "  </thead>\n",
       "  <tbody>\n",
       "    <tr>\n",
       "      <th>2014</th>\n",
       "      <td>28214308</td>\n",
       "      <td>48130324</td>\n",
       "    </tr>\n",
       "    <tr>\n",
       "      <th>2015</th>\n",
       "      <td>36438878</td>\n",
       "      <td>144530555</td>\n",
       "    </tr>\n",
       "    <tr>\n",
       "      <th>2016</th>\n",
       "      <td>8683</td>\n",
       "      <td>41951857</td>\n",
       "    </tr>\n",
       "  </tbody>\n",
       "</table>\n",
       "</div>"
      ],
      "text/plain": [
       "      Before AutoSteer  After Autosteer\n",
       "2014          28214308         48130324\n",
       "2015          36438878        144530555\n",
       "2016              8683         41951857"
      ]
     },
     "execution_count": 27,
     "metadata": {},
     "output_type": "execute_result"
    }
   ],
   "source": [
    "tesla_miles"
   ]
  },
  {
   "cell_type": "code",
   "execution_count": null,
   "metadata": {
    "pycharm": {
     "name": "#%%\n"
    }
   },
   "outputs": [
    {
     "data": {
      "text/html": [
       "<div>\n",
       "<style scoped>\n",
       "    .dataframe tbody tr th:only-of-type {\n",
       "        vertical-align: middle;\n",
       "    }\n",
       "\n",
       "    .dataframe tbody tr th {\n",
       "        vertical-align: top;\n",
       "    }\n",
       "\n",
       "    .dataframe thead th {\n",
       "        text-align: right;\n",
       "    }\n",
       "</style>\n",
       "<table border=\"1\" class=\"dataframe\">\n",
       "  <thead>\n",
       "    <tr style=\"text-align: right;\">\n",
       "      <th></th>\n",
       "      <th>Before AutoSteer.1</th>\n",
       "      <th>After Autosteer.1</th>\n",
       "    </tr>\n",
       "  </thead>\n",
       "  <tbody>\n",
       "    <tr>\n",
       "      <th>2014</th>\n",
       "      <td>36</td>\n",
       "      <td>37</td>\n",
       "    </tr>\n",
       "    <tr>\n",
       "      <th>2015</th>\n",
       "      <td>47</td>\n",
       "      <td>125</td>\n",
       "    </tr>\n",
       "    <tr>\n",
       "      <th>2016</th>\n",
       "      <td>1</td>\n",
       "      <td>27</td>\n",
       "    </tr>\n",
       "  </tbody>\n",
       "</table>\n",
       "</div>"
      ],
      "text/plain": [
       "      Before AutoSteer.1  After Autosteer.1\n",
       "2014                  36                 37\n",
       "2015                  47                125\n",
       "2016                   1                 27"
      ]
     },
     "execution_count": 28,
     "metadata": {},
     "output_type": "execute_result"
    }
   ],
   "source": [
    "tesla_airbag"
   ]
  },
  {
   "cell_type": "markdown",
   "metadata": {
    "pycharm": {
     "name": "#%% md\n"
    }
   },
   "source": [
    "**Ihre Aufgaben**\n",
    "\n",
    "Für die nachfolgenden Aufgaben benötigen Sie Ihre Neugier und etwas detektivisches Gespür.\n",
    "\n",
    "(1) Betrachten Sie zunächst mit einer Tabellenkalkulation den oben hinterlegten Datensatz. Suchen Sie nach den oben erwähnten sechs Eigenschaften. \n",
    "\n",
    "   * Importieren Sie nun mithilfe von Pandas die oben sechs erwähnten Eigenschaften aus der Excel-Datei. Dabei kann es hilfreich sein, das entsprechende Sheet der Excel-Datei in Pandas anzugeben, aus dem Sie die Daten importieren müssen."
   ]
  },
  {
   "cell_type": "markdown",
   "metadata": {
    "pycharm": {
     "name": "#%% md\n"
    }
   },
   "source": [
    "(2) Von wie vielen Fahrzeugen wurden Daten erhoben? Nennen Sie die Anzahl der Fahrzeuge, indem Sie sie aus Ihren Daten aus Teilaufgabe (1) bestimmen."
   ]
  },
  {
   "cell_type": "code",
   "execution_count": null,
   "metadata": {
    "pycharm": {
     "name": "#%%\n"
    }
   },
   "outputs": [
    {
     "data": {
      "text/plain": [
       "43780"
      ]
     },
     "execution_count": 29,
     "metadata": {},
     "output_type": "execute_result"
    }
   ],
   "source": [
    "raw_data.shape[0]"
   ]
  },
  {
   "cell_type": "markdown",
   "metadata": {
    "pycharm": {
     "name": "#%% md\n"
    }
   },
   "source": [
    "Es wurden 43780 Fahrzeuge betrachtet."
   ]
  },
  {
   "cell_type": "markdown",
   "metadata": {
    "pycharm": {
     "name": "#%% md\n"
    }
   },
   "source": [
    "(3) Reproduzieren Sie die beiden Zahlen der NHTSA Behörde der USA, d.h. berechnen Sie die Anzahl der Airbag-Auslösungen vor Autosteer-Installation pro 1 Million gefahrener Meilen und nach Autosteer-Installation pro 1 Million gefahrener Meilen und geben Sie sie an.\n",
    "\n",
    "   * Wenn Sie nicht auf die Zahlen der NHTSA kommen, lesen Sie diesen [Rot-13](https://rot13.de/index.php) kodierten Hinweis: Süe qvr Orerpuahat ahgmra Fvr ovggr qvr Qngraervura qerv ovf frpuf jvr vz Nofpuavgg \"Vuer Qngra\" natrtrora."
   ]
  },
  {
   "cell_type": "code",
   "execution_count": null,
   "metadata": {
    "pycharm": {
     "name": "#%%\n"
    }
   },
   "outputs": [
    {
     "name": "stdout",
     "output_type": "stream",
     "text": [
      "2014      1.275948\n",
      "2015      1.289831\n",
      "2016    115.167569\n",
      "dtype: float64\n",
      "2014    0.768746\n",
      "2015    0.864869\n",
      "2016    0.643595\n",
      "dtype: float64\n"
     ]
    }
   ],
   "source": [
    "print(tesla_airbag['Before AutoSteer.1'] / tesla_miles['Before AutoSteer'] * 1000000)\n",
    "print(tesla_airbag['After Autosteer.1'] / tesla_miles['After Autosteer'] * 1000000)"
   ]
  },
  {
   "cell_type": "markdown",
   "metadata": {
    "pycharm": {
     "name": "#%% md\n"
    }
   },
   "source": [
    "(4) Bis hierher stimmen unsere Analysen mit der US-Behörde überein. Doch es gibt Ungereimtheiten in den Daten. Betrachten Sie dazu die Datenreihen 1 und 2, d.h. die Kilometerstände (in Meilen) der Fahrzeuge vor und nach der Installation von Autosteer. Vor der Installation von Autosteer wird der Kilometerstand erhoben; nach der Installation von Autosteer wird der Kilometerstand erhoben:\n",
    "\n",
    "1. Welche Erwartungshaltung haben Sie an die beiden Datensätze? (1 Satz)\n",
    "\n",
    "2. Explorieren Sie diese beiden Datensätze (Stichwort: Explorative Analyse). Was fällt Ihnen auf? (1 Satz)\n",
    "\n",
    "Wenn Sie partout nicht mehr weiter kommen, gebe ich Ihnen einen Tipp: Jraa Fvr ibe qre Vafgnyyngvba iba Nhgbfgrre qra Xvybzrgrefgnaq nofpuervora jüeqra, haq anpu qre Vafgnyyngvba rorasnyyf qra Xvybzrfgrefgnaq abgvrera, jüeqra fvpu qvr orvqra Xvybzrgrefgäaqr hagrefpurvqra bqre fbyygra fvr tyrvpu frva?"
   ]
  },
  {
   "cell_type": "markdown",
   "metadata": {
    "pycharm": {
     "name": "#%% md\n"
    }
   },
   "source": [
    "1 Erwartung: Die Kilometerstände nach dem Update sollten immer größer sein. Je nachdem wann sie abgelesen wurden aber auch gleich, falls zum Beispiel nur direkt nach dem Update abgelesen wurde.\n",
    "\n",
    "2 Beobachtung: bei den meisten Datensätzen sind die Kilometerstände vor und nach der Installation gleich, bei manchen aber nicht. Es sind allerdings wenigstens alle Nachher Zahlen größer."
   ]
  },
  {
   "cell_type": "markdown",
   "metadata": {
    "pycharm": {
     "name": "#%% md\n"
    }
   },
   "source": [
    "(5) Problem 1: Identifizieren Sie anhand Ihrer Beobachtungen aus Schritt (4) die Fahrzeuge, bei denen Sie genau feststellen konnten, zu welchem Kilometerstand Autosteer tatsächlich installiert worden sein muss. Betrachten Sie **nur** die Fahrzeuge aus dieser Menge, für die tatsächlich gefahrenen Kilometer (mehr als 0) vor der Autosteer-Installation ausgewiesen wurden.\n",
    "\n",
    "* Wie viele Fahrzeuge erfüllen die gerade genannten Kriterien?\n",
    "* Bestimmen Sie die Anzahl der Airbag-Auslösungen pro gefahrenen 1 Million Meilen vor und nach der Installation von Autosteer. Geben Sie diese Zahlen an. Was stellen Sie fest? \n",
    "* Vergleichen Sie Ihre Zahlen mit den oben angegebenen Zahlen der NHTSA. Sehen Sie gleiche oder unterschiedliche Tendenzen?"
   ]
  },
  {
   "cell_type": "code",
   "execution_count": null,
   "metadata": {
    "pycharm": {
     "name": "#%%\n"
    }
   },
   "outputs": [
    {
     "name": "stdout",
     "output_type": "stream",
     "text": [
      "\n",
      "Anzahl Fahrzeuge: 5719\n",
      "Events Before: 0.7607940388363484\n",
      "Events After: 1.2504243627681144\n",
      "\n"
     ]
    }
   ],
   "source": [
    "viable_data = raw_data[(raw_data['mileage_before']==raw_data['mileage_after'])&(raw_data['mileage_before']>0)]\n",
    "print(\n",
    "f\"\"\"\n",
    "Anzahl Fahrzeuge: {viable_data.shape[0]}\n",
    "Events Before: {viable_data['events_before'].sum() / viable_data['miles_before'].sum() * 1000000}\n",
    "Events After: {viable_data['events_after'].sum() / viable_data['miles_after'].sum() * 1000000}\n",
    "\"\"\"\n",
    ")"
   ]
  },
  {
   "cell_type": "markdown",
   "metadata": {
    "pycharm": {
     "name": "#%% md\n"
    }
   },
   "source": [
    "5719 Fahrzeuge haben vor und nach der Installation den gleichen Kilometerstand. Der Trend sieht allerdings genau andersherum aus. Es gab nach dem AutoSteer Update mehr Airbag Events."
   ]
  },
  {
   "cell_type": "markdown",
   "metadata": {
    "pycharm": {
     "name": "#%% md\n"
    }
   },
   "source": [
    "(6) Problem 2: Identifizieren Sie anhand Ihrer Beobachtungen aus Schritt (4) die Fahrzeuge, bei denen Sie genau feststellen konnten, zu welchem Kilometerstand Autosteer tatsächlich installiert worden sein muss. Betrachten Sie nun alle Fahrzeuge aus dieser Menge, die **keine gefahrenen Kilometer vor der Autosteer-Installation** aufweisen.\n",
    "\n",
    "* Wie viele Fahrzeuge erfüllen die gerade genannten Kriterien?\n",
    "* Wie viele Airbag-Auslösungen vor der Installation von Autosteer beobachten Sie für diese Gruppe von Fahrzeugen?\n",
    "* Welche Auswirkung hat Ihre Beobachtung auf die Größe der Anzahl an Airbag-Auslösungen pro 1 Million gefahrener Meilen, wie sie die NHTSA berechnet hat?"
   ]
  },
  {
   "cell_type": "code",
   "execution_count": null,
   "metadata": {
    "pycharm": {
     "name": "#%%\n"
    }
   },
   "outputs": [
    {
     "name": "stdout",
     "output_type": "stream",
     "text": [
      "\n",
      "Anzahl Fahrzeuge: 14689\n",
      "Events Before: 1.0\n",
      "\n"
     ]
    }
   ],
   "source": [
    "viable_data = raw_data[(raw_data['mileage_before']==raw_data['mileage_after'])&(raw_data['mileage_before']==0)]\n",
    "print(\n",
    "f\"\"\"\n",
    "Anzahl Fahrzeuge: {viable_data.shape[0]}\n",
    "Events Before: {viable_data['events_before'].sum()}\n",
    "\"\"\"\n",
    ")"
   ]
  },
  {
   "cell_type": "markdown",
   "metadata": {
    "pycharm": {
     "name": "#%% md\n"
    }
   },
   "source": [
    "14689 Fahrzeugen haben von Anfang an Autosteer installiert. Das eine Event vor dem Autosteer Update muss irgendein Fehler in den Daten sein, da es \"vor\" der ersten Meile geschehen sein muss. Außerdem sind 14689 Fahrzeuge mehr als ein Viertel der Gesamtfahrzeuge. Für diese liegen dementsprechend keine Daten zu vor dem Update vor, was diese Daten eigentlich schwierig zum auswerten macht."
   ]
  },
  {
   "cell_type": "markdown",
   "metadata": {
    "pycharm": {
     "name": "#%% md\n"
    }
   },
   "source": [
    "(7) Problem 3: Identifizieren Sie anhand Ihrer Beobachtungen aus Schritt (4) die Fahrzeuge, bei denen Sie **nicht** genau feststellen können, zu welchem Kilometerstand Autosteer tatsächlich installiert wurde. Betrachten Sie **nur** die Fahrzeuge aus dieser Menge, für die tatsächlich mehr als 0 gefahrene Kilometer vor der Autosteer-Installation ausgewiesen wurden.\n",
    "\n",
    "1. Wie viele Autos sind in dieser Menge enthalten? Wie viele Airbag-Auslösungen sind in dieser Menge enthalten?\n",
    "2. Bestimmen Sie die Gesamtanzahl der gefahrenen Meilen über alle Fahrzeuge dieser Menge, die zwischen dem Kilometerstand vor Autosteer-Installation und nach Autoinstallation gefahren wurden. Dies sind die \"Gap\"-Meilen, bei denen wir nicht wissen, zu welcher exakten Kilometerstandszahl Autosteer installiert wurde.\n",
    "3. Bestimmen Sie die Gesamtanzahl aller Meilen dieser Menge, die vor der Autosteer-Installation gefahren wurden. \n",
    "4. Vergleichen Sie die Zahlen aus Schritt 7.2 und 7.3: Ist die gefahrene Gesamtmeilenzahl vor Autosteer-Installation deutlich größer oder kleiner als die Gesamtmeilenzahl der \"Gap\"-Meilen?\n",
    "\n",
    "Welchen Schluss ziehen Sie für die Validität der NHTSA Untersuchung aus Ihren Beobachtungen aus diesem Schritt? (1-3 Sätze)."
   ]
  },
  {
   "cell_type": "code",
   "execution_count": null,
   "metadata": {
    "pycharm": {
     "name": "#%%\n"
    }
   },
   "outputs": [
    {
     "name": "stdout",
     "output_type": "stream",
     "text": [
      "\n",
      "Anzahl Fahrzeuge: 8920\n",
      "Events Total: 81.0\n",
      "Gap Meilen: 57955464.0\n",
      "Meilen before: 22726819.0\n",
      "Gap Meilen/Meilen Total 2.5500913260232325\n",
      "\n"
     ]
    }
   ],
   "source": [
    "viable_data = raw_data[(raw_data['mileage_before']!=raw_data['mileage_after'])&(raw_data['mileage_before']>0)]\n",
    "print(\n",
    "f\"\"\"\n",
    "Anzahl Fahrzeuge: {viable_data.shape[0]}\n",
    "Events Total: {viable_data['events_before'].sum() + viable_data['events_after'].sum()}\n",
    "Gap Meilen: {(viable_data['mileage_after'] - viable_data['mileage_before']).sum()}\n",
    "Meilen before: {viable_data['mileage_before'].sum()}\n",
    "Gap Meilen/Meilen Total {(viable_data['mileage_after'] - viable_data['mileage_before']).sum() / viable_data['mileage_before'].sum()}\n",
    "\"\"\"\n",
    ")"
   ]
  },
  {
   "cell_type": "markdown",
   "metadata": {
    "pycharm": {
     "name": "#%% md\n"
    }
   },
   "source": [
    "23148 Fahrzeuge haben vor der Installation einen anderen Kilometerstand als danach. Es gibt ca. 2.5 Mal so viele Gap Meilen wie Meilen vor dem Update. Es ist also bei relativ vielen gefahrenen Meilen unklar, ob sie mit oder ohne Update gefahren wurden."
   ]
  },
  {
   "cell_type": "markdown",
   "metadata": {
    "pycharm": {
     "name": "#%% md\n"
    }
   },
   "source": [
    "4) Die Gap-Meilen sind deutlich mehr als die Kilometer, die davor gefahren wurden."
   ]
  },
  {
   "cell_type": "markdown",
   "metadata": {
    "pycharm": {
     "name": "#%% md\n"
    }
   },
   "source": [
    "(8) Problem 4: Identifizieren Sie anhand Ihrer Beobachtungen aus Schritt (4) die Fahrzeuge, bei denen Sie **nicht** genau feststellen können, zu welchem Kilometerstand Autosteer tatsächlich installiert wurde. Betrachten Sie **nur** die Fahrzeuge aus dieser Menge, für die nur 0 gefahrene Kilometer vor der Autosteer-Installation ausgewiesen wurden.\n",
    "\n",
    "1. Wie viele Autos sind in dieser Menge enthalten?\n",
    "2. Wie viele Airbag-Auslösungen können Sie vor und nach der Autosteer-Installation feststellen?\n",
    "\n",
    "Wie deuten Sie Ihre Beobachtungen hinsichtlich der Validität der NHTSA Untersuchung? (1-3 Sätze)"
   ]
  },
  {
   "cell_type": "code",
   "execution_count": null,
   "metadata": {
    "pycharm": {
     "name": "#%%\n"
    }
   },
   "outputs": [
    {
     "name": "stdout",
     "output_type": "stream",
     "text": [
      "\n",
      "Anzahl Fahrzeuge: 14370\n",
      "Events before: 15.0\n",
      "Events after: 47.0\n",
      "\n"
     ]
    }
   ],
   "source": [
    "viable_data = raw_data[(raw_data['mileage_before']!=raw_data['mileage_after'])&(raw_data['mileage_before']==0)]\n",
    "print(\n",
    "f\"\"\"\n",
    "Anzahl Fahrzeuge: {viable_data.shape[0]}\n",
    "Events before: {viable_data['events_before'].sum()}\n",
    "Events after: {viable_data['events_after'].sum()}\n",
    "\"\"\"\n",
    ")"
   ]
  },
  {
   "cell_type": "markdown",
   "metadata": {
    "pycharm": {
     "name": "#%% md\n"
    }
   },
   "source": [
    "Schlecht, es gibt 15 Events ohne, dass die Autos auch nur einen Kilometer gefahren sind."
   ]
  },
  {
   "cell_type": "markdown",
   "metadata": {
    "pycharm": {
     "name": "#%% md\n"
    }
   },
   "source": [
    "(9) Abschluss: Betrachten Sie Ihre Ergebnisse zu Problemen 1-4. Lässt sich aufgrund der vorliegenden Zahlen die Aussage treffen, dass durch Autosteer die Anzahl der Airbag-Auslösungen pro gefahrene 1 Million Meilen zurückgegangen ist und damit das Fahren sicherer geworden ist? Argumentieren Sie in wenigen Sätzen."
   ]
  },
  {
   "cell_type": "markdown",
   "metadata": {
    "pycharm": {
     "name": "#%% md\n"
    }
   },
   "source": [
    "Es ist durchaus nicht so einfach wie die NHTSA es sieht. Es gibt viele Lücken in den Daten, wie z. B. die Gap Meilen. Es gibt einige Fahrzeuge die Airbag Events registrieren mit 0 gefahrenen Kilometern, wie im letzten Beispiel zu sehen. Außerdem gibt es rund 30 000 Fahrzeuge die das Update von Anfang an hatten, wodurch die Vergleichbarkeit schwierig wird. Es gibt auch mindestens 16 fragwürdige Airbag Events, die scheinbar vor der ersten gefahrenen Meile aufgetreten sind."
   ]
  },
  {
   "cell_type": "markdown",
   "metadata": {
    "pycharm": {
     "name": "#%% md\n"
    }
   },
   "source": [
    "### 5.2 Zusammenhangsmaße (Teil 1): Spearman vs Pearson\n",
    "\n",
    "In dieser Übung werden wir synthetische Daten generieren und damit Spearmans- und Pearsons Korrelationskoeffizienten untersuchen.\n",
    "\n",
    "**Ihre Daten**\n",
    "\n",
    "Bei den Daten handelt es sich um die berühmte Fibonacci-Folge, eine unendliche Folge, die vom italienischen Mathematiker Leonardo Fibonacci im 12. Jahrhundert zur Beschreibung der Entwicklung einer Kaninchenpopulation aufgestellt wurde. \n",
    "\n",
    "Sei $y_n$ das n-te Glied der Folge und seien $y_1 = 0$ und $y_2 = 1$. Dann ist $y_n$ für $n\\geq 3$ definiert als $$y_n = y_{n-1} + y_{n-2}.$$\n",
    "\n",
    "\n",
    "**Ihre Aufgaben**\n",
    "\n",
    "Nutzen Sie hauptsächlich Numpy (und ein wenig Pandas) zur Bearbeitung dieser Aufgaben.\n",
    "\n",
    "(1) Schreiben eine Funktion, die für einen gegebenen Wert $n\\in\\mathbb{N}$ das Glied der Fibonacci-Folge zurückgibt."
   ]
  },
  {
   "cell_type": "code",
   "execution_count": null,
   "metadata": {
    "pycharm": {
     "name": "#%%\n"
    }
   },
   "outputs": [],
   "source": [
    "def fib(n):\n",
    "    assert n > 0\n",
    "    a, b = 0, 1\n",
    "    for _ in range(n):\n",
    "        a, b = b, a+b\n",
    "    return b\n",
    "\n",
    "def create_fib_array(n):\n",
    "    arr = np.zeros(n)\n",
    "    arr[1] = 1\n",
    "    for i in range(2, n):\n",
    "        arr[i] = arr[i-1] + arr[i-2]\n",
    "    return arr"
   ]
  },
  {
   "cell_type": "markdown",
   "metadata": {
    "pycharm": {
     "name": "#%% md\n"
    }
   },
   "source": [
    "(2) Erzeugen Sie Ihren Datensatz. Sei $n = \\{1, \\ldots, 30\\}$. Erstellen Sie mit Ihrer Funktion aus Schritt (1) die Folge $y_n$ für alle $n$. Sie erhalten damit Wertepaare $(n, y_n)$, die Sie z.B. in einem Numpy Array hinterlegen können."
   ]
  },
  {
   "cell_type": "code",
   "execution_count": null,
   "metadata": {
    "pycharm": {
     "name": "#%%\n"
    }
   },
   "outputs": [],
   "source": [
    "data = create_fib_array(30)"
   ]
  },
  {
   "cell_type": "markdown",
   "metadata": {
    "pycharm": {
     "name": "#%% md\n"
    }
   },
   "source": [
    "(3) Schlagen Sie die Definition des Pearson Korrelationskoeffizienten in der Vorlesung nach und implementieren Sie eine Funktion, die zwei Datenreihen entgegennimmt und Pearsons Korrelationskoeffizient zurückgibt."
   ]
  },
  {
   "cell_type": "code",
   "execution_count": null,
   "metadata": {
    "pycharm": {
     "name": "#%%\n"
    }
   },
   "outputs": [],
   "source": [
    "def pearson(X, Y):\n",
    "    assert (X.shape == Y.shape) and (len(X.shape) == 1)\n",
    "    X, Y = np.asarray(X), np.asarray(Y)\n",
    "    x_mean = np.mean(X)\n",
    "    y_mean = np.mean(Y)\n",
    "    cov = np.sum((X-x_mean) * (Y-y_mean))\n",
    "    devX = np.sqrt(np.sum((X-x_mean)**2))\n",
    "    devY = np.sqrt(np.sum((Y-y_mean)**2))\n",
    "    return cov / (devX * devY)"
   ]
  },
  {
   "cell_type": "markdown",
   "metadata": {
    "pycharm": {
     "name": "#%% md\n"
    }
   },
   "source": [
    "(4) Bestimmen Sie dann den Pearson Korrelationskoeffizienten zwischen der Datenreihe ${n}$ und ${y_n}$ mithilfe Ihrer Funktion aus (3) und notieren Sie sich den Wert."
   ]
  },
  {
   "cell_type": "code",
   "execution_count": null,
   "metadata": {
    "pycharm": {
     "name": "#%%\n"
    }
   },
   "outputs": [
    {
     "data": {
      "text/plain": [
       "0.6034880493240204"
      ]
     },
     "execution_count": 38,
     "metadata": {},
     "output_type": "execute_result"
    }
   ],
   "source": [
    "pearson(np.arange(1, 31), data)"
   ]
  },
  {
   "cell_type": "markdown",
   "metadata": {
    "pycharm": {
     "name": "#%% md\n"
    }
   },
   "source": [
    "(5) Schlagen Sie in den Vorlesungsfolien die Definition von Spearmans Korrelationskoeffizienten nach. Kopieren Sie sich den Code aus Schritt (3) und erzeugen Sie daraus eine neue Funktion, die Spearmans Korrelationskoeffizienten implementiert. Um die Ränge zu berechnen, können Sie Pandas `rank` Funktion nutzen."
   ]
  },
  {
   "cell_type": "code",
   "execution_count": null,
   "metadata": {
    "pycharm": {
     "name": "#%%\n"
    }
   },
   "outputs": [],
   "source": [
    "def spearman(X, Y):\n",
    "    X = pd.DataFrame(X).rank()\n",
    "    Y = pd.DataFrame(Y).rank()\n",
    "    # print(X, '\\n' ,Y)\n",
    "    assert (X.shape == Y.shape)# and (len(X.shape) == 1)\n",
    "    X, Y = np.asarray(X), np.asarray(Y)\n",
    "    x_mean = np.mean(X)\n",
    "    y_mean = np.mean(Y)\n",
    "    cov = np.sum((X-x_mean) * (Y-y_mean))\n",
    "    devX = np.sqrt(np.sum((X-x_mean)**2))\n",
    "    devY = np.sqrt(np.sum((Y-y_mean)**2))\n",
    "    return cov / (devX * devY)"
   ]
  },
  {
   "cell_type": "markdown",
   "metadata": {
    "pycharm": {
     "name": "#%% md\n"
    }
   },
   "source": [
    "(6) Nutzen Sie Ihre Funktion aus Schritt (5), um Spearmans Korrelationskoeffizient zwischen $n$ und $y_n$ zu berechnen, die Sie in Schritt (2) erzeugt hatten."
   ]
  },
  {
   "cell_type": "code",
   "execution_count": null,
   "metadata": {
    "pycharm": {
     "name": "#%%\n"
    }
   },
   "outputs": [
    {
     "data": {
      "text/plain": [
       "0.999888759107504"
      ]
     },
     "execution_count": 40,
     "metadata": {},
     "output_type": "execute_result"
    }
   ],
   "source": [
    "spearman(np.arange(1, 31), data)"
   ]
  },
  {
   "cell_type": "markdown",
   "metadata": {
    "pycharm": {
     "name": "#%% md\n"
    }
   },
   "source": [
    "(7) Vergleichen Sie den Wert von Pearsons Korrelationskoeffizienten (aus Schritt 4) mit dem Wert von Spearmans Korrelationskoeffizienten (aus Schritt 6). Was fällt Ihnen auf? (1 Satz). Was ist die Ursache für den Unterschied zwischen beiden Werten, den Sie feststellen? (1-3 Sätze)  "
   ]
  },
  {
   "cell_type": "markdown",
   "metadata": {
    "pycharm": {
     "name": "#%% md\n"
    }
   },
   "source": [
    "Spearmans Korrelationkoeffizient ist fast 1 währnend pearsons gerade mal 0.6 ist. Das liegt daran, dass die Fibonacci Folge streng monoton wachsend ist bisauf  $(y_2=y_3=1)$ aber nicht linear. Der Pearson Korrelationkoeffizient testet allerdings auf lineare Zusammenhänge."
   ]
  },
  {
   "cell_type": "markdown",
   "metadata": {
    "pycharm": {
     "name": "#%% md\n"
    }
   },
   "source": [
    "### 5.3 Zusammenhangsmaße (Teil 2): Mutual Information, Pearson, Spearman\n",
    "\n",
    "In dieser Übung werden Sie Zusammenhänge zwischen verschiedenen Datensätzen mithilfe der Zusammenhangsmaße untersuchen, die Sie in der Vorlesung kennengelernt haben. Daneben werden Sie vertraut mit dem Importieren von Daten aus Excel-Tabellen.\n",
    "\n",
    "* Nutzen Sie Pandas und Numpy zum Bearbeiten der folgenden Aufgaben.\n",
    "\n",
    "**Ihre Daten**\n",
    "\n",
    "* Sie finden die Daten, die Sie für diese Übung benötigen, [hier](https://data.bialonski.de/ds/dependency_data.xlsx).\n",
    "\n",
    "**Ihre Aufgaben**\n",
    "\n",
    "(1) Importieren Sie die Daten mithilfe der [Funktionalität](https://pandas.pydata.org/pandas-docs/stable/reference/api/pandas.read_excel.html) von Pandas in einen DataFrame.\n",
    "\n",
    "* Visualisieren Sie die Daten zunächst **nicht** (aus didaktischen Gründen). Sie werden die Daten erst im Teilschritt (5) visualisieren."
   ]
  },
  {
   "cell_type": "code",
   "execution_count": null,
   "metadata": {
    "pycharm": {
     "name": "#%%\n"
    }
   },
   "outputs": [],
   "source": [
    "import matplotlib.pyplot as plt\n",
    "data = pd.read_excel(\"data/dependency_data.xlsx\", index_col=0)"
   ]
  },
  {
   "cell_type": "code",
   "execution_count": null,
   "metadata": {
    "pycharm": {
     "name": "#%%\n"
    }
   },
   "outputs": [
    {
     "data": {
      "text/html": [
       "<div>\n",
       "<style scoped>\n",
       "    .dataframe tbody tr th:only-of-type {\n",
       "        vertical-align: middle;\n",
       "    }\n",
       "\n",
       "    .dataframe tbody tr th {\n",
       "        vertical-align: top;\n",
       "    }\n",
       "\n",
       "    .dataframe thead th {\n",
       "        text-align: right;\n",
       "    }\n",
       "</style>\n",
       "<table border=\"1\" class=\"dataframe\">\n",
       "  <thead>\n",
       "    <tr style=\"text-align: right;\">\n",
       "      <th></th>\n",
       "      <th>X</th>\n",
       "      <th>y1</th>\n",
       "      <th>y2</th>\n",
       "      <th>y3</th>\n",
       "      <th>y4</th>\n",
       "    </tr>\n",
       "  </thead>\n",
       "  <tbody>\n",
       "    <tr>\n",
       "      <th>0</th>\n",
       "      <td>0.097627</td>\n",
       "      <td>1.017967</td>\n",
       "      <td>-0.338989</td>\n",
       "      <td>9.902373</td>\n",
       "      <td>-0.965421</td>\n",
       "    </tr>\n",
       "    <tr>\n",
       "      <th>1</th>\n",
       "      <td>0.430379</td>\n",
       "      <td>0.102369</td>\n",
       "      <td>-0.446531</td>\n",
       "      <td>9.569621</td>\n",
       "      <td>0.133793</td>\n",
       "    </tr>\n",
       "    <tr>\n",
       "      <th>2</th>\n",
       "      <td>0.205527</td>\n",
       "      <td>0.823668</td>\n",
       "      <td>0.354986</td>\n",
       "      <td>9.794473</td>\n",
       "      <td>0.266585</td>\n",
       "    </tr>\n",
       "    <tr>\n",
       "      <th>3</th>\n",
       "      <td>0.089766</td>\n",
       "      <td>1.093290</td>\n",
       "      <td>0.316893</td>\n",
       "      <td>9.910234</td>\n",
       "      <td>-0.749156</td>\n",
       "    </tr>\n",
       "    <tr>\n",
       "      <th>4</th>\n",
       "      <td>-0.152690</td>\n",
       "      <td>0.635302</td>\n",
       "      <td>0.391532</td>\n",
       "      <td>10.152690</td>\n",
       "      <td>0.220924</td>\n",
       "    </tr>\n",
       "  </tbody>\n",
       "</table>\n",
       "</div>"
      ],
      "text/plain": [
       "          X        y1        y2         y3        y4\n",
       "0  0.097627  1.017967 -0.338989   9.902373 -0.965421\n",
       "1  0.430379  0.102369 -0.446531   9.569621  0.133793\n",
       "2  0.205527  0.823668  0.354986   9.794473  0.266585\n",
       "3  0.089766  1.093290  0.316893   9.910234 -0.749156\n",
       "4 -0.152690  0.635302  0.391532  10.152690  0.220924"
      ]
     },
     "execution_count": 42,
     "metadata": {},
     "output_type": "execute_result"
    }
   ],
   "source": [
    "data.head()"
   ]
  },
  {
   "cell_type": "markdown",
   "metadata": {
    "pycharm": {
     "name": "#%% md\n"
    }
   },
   "source": [
    "(2) Wir betrachten im Folgenden Paare von Spalten, beispielsweise $(X, y_1)$, die wir *Datenreihenpaare* nennen werden.\n",
    "\n",
    "Berechnen Sie mit Ihrem Code aus Übung 4 den Pearson- sowie den Spearman-Korrelationskoeffizienten für die Datenreihenpaare ...\n",
    "\n",
    "1. $(X, y_1)$\n",
    "2. $(X, y_2)$\n",
    "3. $(X, y_3)$\n",
    "4. $(X, y_4)$"
   ]
  },
  {
   "cell_type": "code",
   "execution_count": null,
   "metadata": {
    "pycharm": {
     "name": "#%%\n"
    }
   },
   "outputs": [
    {
     "name": "stdout",
     "output_type": "stream",
     "text": [
      "\n",
      "pearson(X, y_1) = 0.01764527530851444 \t spearman(X, y_1) = 0.04192822192822193\n",
      "pearson(X, y_2) = 0.034778806407953264 \t spearman(X, y_2) = 0.03621319221319221\n",
      "pearson(X, y_3) = 0.32904339977763775 \t spearman(X, y_3) = -0.726994086994087\n",
      "pearson(X, y_4) = 0.018458017254591702 \t spearman(X, y_4) = 0.0187003867003867\n",
      "\n"
     ]
    }
   ],
   "source": [
    "print(\n",
    "f\"\"\"\n",
    "pearson(X, y_1) = {pearson(data['X'], data['y1'])} \\t spearman(X, y_1) = {spearman(data['X'], data['y1'])}\n",
    "pearson(X, y_2) = {pearson(data['X'], data['y2'])} \\t spearman(X, y_2) = {spearman(data['X'], data['y2'])}\n",
    "pearson(X, y_3) = {pearson(data['X'], data['y3'])} \\t spearman(X, y_3) = {spearman(data['X'], data['y3'])}\n",
    "pearson(X, y_4) = {pearson(data['X'], data['y4'])} \\t spearman(X, y_4) = {spearman(data['X'], data['y4'])}\n",
    "\"\"\")"
   ]
  },
  {
   "cell_type": "markdown",
   "metadata": {
    "pycharm": {
     "name": "#%% md\n"
    }
   },
   "source": [
    "(3) Beantworten Sie - ohne zu Visualisieren - anhand der Koeffizienten aus Teilaufgabe (2):\n",
    "\n",
    "* Welche der Datenreihenpaare zeigen Korrelationen? Welche Datenreihenpaare sind unkorreliert?\n",
    "* Gibt es Widersprüche zwischen den Korrelationskoeffizienten? Falls ja, für welche Daten?"
   ]
  },
  {
   "cell_type": "markdown",
   "metadata": {
    "pycharm": {
     "name": "#%% md\n"
    }
   },
   "source": [
    "Nur $X$ und $y_3$ zeigen irgendwelche eine Vermutung für eine Korrelation. Allerdings ist erstaunlicherweise der Pearson-Korrelationkoeffizient positiv was eher auf einen positiven linearen Zusammenhang hindeutet, der Spearman-Korrelationkoeffizient ist jedoch negativ was auf einen negativen (also entgegengesetze Monotonie) monotonen Zusammenhang hindeutet."
   ]
  },
  {
   "cell_type": "markdown",
   "metadata": {
    "pycharm": {
     "name": "#%% md\n"
    }
   },
   "source": [
    "(4) Bestimmen Sie nun für die in Teilaufgabe (2) genannten Datenreihenpaare jeweils die Mutual Information. Ausgehend von Ihren Werten für die Mutual Information beantworten Sie bitte: Zwischen welchen Datenreihenpaaren gibt es Zusammenhänge, zwischen welchen Datenreihenpaare gibt es keine (großen) Zusammenhänge?\n",
    "\n",
    "* Nutzen Sie für die Bestimmung der *Mutual Information* die [Implementierung](https://scikit-learn.org/stable/modules/generated/sklearn.feature_selection.mutual_info_regression.html) der scikit-learn Bibliothek. Hintergrund: Eine robuste Schätzung der Mutual Information ist anspruchsvoll und wurde von verschiedenen Forschungsgruppen untersucht. Einer der [weltweit bekanntesten Schätzer](https://journals.aps.org/pre/pdf/10.1103/PhysRevE.69.066138) der Mutual Information wurde von Forschern des Forschungszentrum Jülichs (am John von Neumann-Institut für Computing) im Jahr 2004 publiziert und wird auch von scikit-learn implementiert."
   ]
  },
  {
   "cell_type": "code",
   "execution_count": null,
   "metadata": {
    "pycharm": {
     "name": "#%%\n"
    }
   },
   "outputs": [
    {
     "name": "stdout",
     "output_type": "stream",
     "text": [
      "\n",
      "Mutual Information = [0.84637242]\n",
      "Mutual Information = [0.88664582]\n",
      "Mutual Information = [2.54890351]\n",
      "Mutual Information = [0.02066885]\n",
      "\n"
     ]
    }
   ],
   "source": [
    "from sklearn.feature_selection import mutual_info_regression\n",
    "X = np.array(data['X']).reshape(-1,1)\n",
    "print(\n",
    "f\"\"\"\n",
    "Mutual Information = {mutual_info_regression(X, data['y1'])}\n",
    "Mutual Information = {mutual_info_regression(X, data['y2'])}\n",
    "Mutual Information = {mutual_info_regression(X, data['y3'])}\n",
    "Mutual Information = {mutual_info_regression(X, data['y4'])}\n",
    "\"\"\")"
   ]
  },
  {
   "cell_type": "markdown",
   "metadata": {
    "pycharm": {
     "name": "#%% md\n"
    }
   },
   "source": [
    "(5) Visualisieren Sie nun alle Datenreihenpaare aus Teilaufgabe (2) in Scatterplots und beschriften Sie jeden Plot mit den entsprechenden Werten des Pearson-, Spearman-Korrelationskoeffizienten und dem Wert der Mutual Information."
   ]
  },
  {
   "cell_type": "code",
   "execution_count": null,
   "metadata": {
    "pycharm": {
     "name": "#%%\n"
    }
   },
   "outputs": [
    {
     "data": {
      "image/png": "[encoded data removed]",
      "text/plain": [
       "<Figure size 576x576 with 4 Axes>"
      ]
     },
     "metadata": {
      "needs_background": "light"
     },
     "output_type": "display_data"
    }
   ],
   "source": [
    "fig, axs = plt.subplots(2,2, figsize=(8,8))\n",
    "axs = axs.flatten()\n",
    "for i, ax in enumerate(axs):\n",
    "    X, y = np.array(data['X']), data['y' + str(i+1)]\n",
    "    ax.scatter(X, y)\n",
    "    p = format(pearson(X,y), '.3f')\n",
    "    s = format(spearman(X,y), '.3f')\n",
    "    mi = format(float(mutual_info_regression(X.reshape(-1,1),y)), '.3f')\n",
    "    ax.set_title(f'Pearson={p}, Spearman={s},\\n Mutual Information={mi}')\n",
    "    ax.set_xlabel('X')\n",
    "    ax.set_ylabel('y' + str(i+1))\n",
    "fig.tight_layout()\n",
    "fig.show()\n",
    "    "
   ]
  },
  {
   "cell_type": "markdown",
   "metadata": {
    "pycharm": {
     "name": "#%% md\n"
    }
   },
   "source": [
    "(6) Begründen Sie nun für jedes Datenreihenpaar, warum Sie Korrelationen oder keine Korrelation durch Pearson, Spearman und die Mutual Information angezeigt bekommen.\n",
    "\n",
    "* Begründen Sie zusätzlich, warum Sie für Datenreihenpaar $(X, y_3)$ so unterschiedliche Ergebnisse für den Pearson- und den Spearman-Korrelationskoeffizienten erhalten haben."
   ]
  },
  {
   "cell_type": "markdown",
   "metadata": {
    "pycharm": {
     "name": "#%% md\n"
    }
   },
   "source": [
    "Für $y_1, y_2, y_4$ ist deutlich zu segen, dass kein linearer und kein monotoner Zusammenhang zu erkennen ist, deswegen sind hier auch die pearson und spearman Korrelationkoeffizienten sehr niedrig. Für $y_1$ und $y_2$ sind jedoch Zusammenhänge zu erkennen, einmal eine Funktion in W Form und einmal eine Art gespiegelte Parabel. Deswegen ist auch hier die Mutual Information höher. Für $y_4$ ist gar kein Zusammenhang zu sehen, im Gegenteil es sieht wie eine Gleichverteilung aus, weswegen auch hier die Mutual Information gering ist.\n",
    "\n",
    "$y_3$ ist hier am interessantesten. Alle drei erkennen einen Zusammenhang, es ist auch eindeutig einer zu sehen. \n",
    "Der spearman Korrelationkoeffizient erkennt den fallenden Zusammenhang der annähernden Geraden im unteren Bereichs des Graphen. Da der Spearman Korrelationskoeffizient ausschließlich von der Anzahl der Datenpunkt abhäng ist er nicht sensitiv für Ausreißer. Diese beinflussen ihn kaum, da die wenigen Punkte kaum eine Rolle spielen. Der Pearson Korrelationkoeffizient ist jedoch sehr sensitiv gegenüber von Ausreißern, weswegen er auf die Ausreißer auch in $y_3$ auch schlecht reagiert und einen leichten positiven linearen Zusammenhang suggeriert, obwohl dieser ausschließlich durch die Ausreißer entsteht."
   ]
  }
 ],
 "metadata": {
  "hide_input": false,
  "kernelspec": {
   "display_name": "Python 3 (ipykernel)",
   "language": "python",
   "name": "python3"
  },
  "language_info": {
   "codemirror_mode": {
    "name": "ipython",
    "version": 3
   },
   "file_extension": ".py",
   "mimetype": "text/x-python",
   "name": "python",
   "nbconvert_exporter": "python",
   "pygments_lexer": "ipython3",
   "version": "3.9.10"
  },
  "learntools_metadata": {
   "lesson_index": 0,
   "type": "exercise"
  }
 },
 "nbformat": 4,
 "nbformat_minor": 4
}